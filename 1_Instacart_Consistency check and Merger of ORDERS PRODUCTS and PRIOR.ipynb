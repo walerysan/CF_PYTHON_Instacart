{
 "cells": [
  {
   "cell_type": "markdown",
   "id": "698fb9b2",
   "metadata": {},
   "source": [
    "# NOTEBOOK 1 - Consistency Check of ORDERS, PRODUCTS, ORDERS_PRODUCTS_PRIOR and Merge of ORDERS with ORDERS_PRODUCTS_PRIOR\n",
    "\n",
    "DATASETS:\n",
    "- ORDERS - original dataset with 3.421.083 rows and 7 columns\n",
    "- ORDERS_PRODUCTS_PRIOR - original dataset with 32.434.489 rows and 4 columns\n",
    "- PRODUCTS - original dataset with 49.693 rows and 5 columns\n",
    "\n",
    "CONTENTS:\n",
    "1. Consitency check of the ORDERS dataset\n",
    "a. Dropping columns\n",
    "b. Renaming columns\n",
    "c. Missing values\n",
    "d. Data types\n",
    "e. Duplicates\n",
    "    \n",
    "2. Consistency check of the PRODUCTS dataset\n",
    "a. Missing values\n",
    "b. Data types\n",
    "c. Duplicates\n",
    "    \n",
    "3. Consistency check of ORDERS_PRODUCTS_PRIOR dataset\n",
    "a. Missing values\n",
    "b. Data types\n",
    "c. Duplicates\n",
    "    \n",
    "4. Merging ORDERS with ORDERS_PRODUCTS_PRIOR\n",
    "\n"
   ]
  },
  {
   "cell_type": "code",
   "execution_count": 2,
   "id": "b25b06d6",
   "metadata": {},
   "outputs": [],
   "source": [
    "# Import libraries\n",
    "\n",
    "import pandas as pd\n",
    "import numpy as np\n",
    "import os\n",
    "import matplotlib.pyplot as plt\n",
    "import seaborn as sns\n",
    "import scipy   "
   ]
  },
  {
   "cell_type": "markdown",
   "id": "1b0be645",
   "metadata": {},
   "source": [
    "# 1. Consistency check of ORDERS dataset = df_ORDS"
   ]
  },
  {
   "cell_type": "code",
   "execution_count": 3,
   "id": "27b5d5f4",
   "metadata": {},
   "outputs": [],
   "source": [
    "# Import original \"orders.csv\" dataset\n",
    "\n",
    "df_ORDS = pd.read_csv(r'D:\\CareerFoundry\\Data Immersion\\Task 4\\Instacart Basket Analysis_2021-07-22\\02 Data\\Original Data\\orders.csv')"
   ]
  },
  {
   "cell_type": "code",
   "execution_count": 4,
   "id": "8c14e3bc",
   "metadata": {},
   "outputs": [
    {
     "data": {
      "text/plain": [
       "(3421083, 7)"
      ]
     },
     "execution_count": 4,
     "metadata": {},
     "output_type": "execute_result"
    }
   ],
   "source": [
    "# Check the numbers of rows and columns\n",
    "\n",
    "df_ORDS.shape"
   ]
  },
  {
   "cell_type": "code",
   "execution_count": 5,
   "id": "034ed6eb",
   "metadata": {},
   "outputs": [
    {
     "data": {
      "text/html": [
       "<div>\n",
       "<style scoped>\n",
       "    .dataframe tbody tr th:only-of-type {\n",
       "        vertical-align: middle;\n",
       "    }\n",
       "\n",
       "    .dataframe tbody tr th {\n",
       "        vertical-align: top;\n",
       "    }\n",
       "\n",
       "    .dataframe thead th {\n",
       "        text-align: right;\n",
       "    }\n",
       "</style>\n",
       "<table border=\"1\" class=\"dataframe\">\n",
       "  <thead>\n",
       "    <tr style=\"text-align: right;\">\n",
       "      <th></th>\n",
       "      <th>order_id</th>\n",
       "      <th>user_id</th>\n",
       "      <th>eval_set</th>\n",
       "      <th>order_number</th>\n",
       "      <th>order_dow</th>\n",
       "      <th>order_hour_of_day</th>\n",
       "      <th>days_since_prior_order</th>\n",
       "    </tr>\n",
       "  </thead>\n",
       "  <tbody>\n",
       "    <tr>\n",
       "      <th>0</th>\n",
       "      <td>2539329</td>\n",
       "      <td>1</td>\n",
       "      <td>prior</td>\n",
       "      <td>1</td>\n",
       "      <td>2</td>\n",
       "      <td>8</td>\n",
       "      <td>NaN</td>\n",
       "    </tr>\n",
       "    <tr>\n",
       "      <th>1</th>\n",
       "      <td>2398795</td>\n",
       "      <td>1</td>\n",
       "      <td>prior</td>\n",
       "      <td>2</td>\n",
       "      <td>3</td>\n",
       "      <td>7</td>\n",
       "      <td>15.0</td>\n",
       "    </tr>\n",
       "    <tr>\n",
       "      <th>2</th>\n",
       "      <td>473747</td>\n",
       "      <td>1</td>\n",
       "      <td>prior</td>\n",
       "      <td>3</td>\n",
       "      <td>3</td>\n",
       "      <td>12</td>\n",
       "      <td>21.0</td>\n",
       "    </tr>\n",
       "    <tr>\n",
       "      <th>3</th>\n",
       "      <td>2254736</td>\n",
       "      <td>1</td>\n",
       "      <td>prior</td>\n",
       "      <td>4</td>\n",
       "      <td>4</td>\n",
       "      <td>7</td>\n",
       "      <td>29.0</td>\n",
       "    </tr>\n",
       "    <tr>\n",
       "      <th>4</th>\n",
       "      <td>431534</td>\n",
       "      <td>1</td>\n",
       "      <td>prior</td>\n",
       "      <td>5</td>\n",
       "      <td>4</td>\n",
       "      <td>15</td>\n",
       "      <td>28.0</td>\n",
       "    </tr>\n",
       "  </tbody>\n",
       "</table>\n",
       "</div>"
      ],
      "text/plain": [
       "   order_id  user_id eval_set  order_number  order_dow  order_hour_of_day  \\\n",
       "0   2539329        1    prior             1          2                  8   \n",
       "1   2398795        1    prior             2          3                  7   \n",
       "2    473747        1    prior             3          3                 12   \n",
       "3   2254736        1    prior             4          4                  7   \n",
       "4    431534        1    prior             5          4                 15   \n",
       "\n",
       "   days_since_prior_order  \n",
       "0                     NaN  \n",
       "1                    15.0  \n",
       "2                    21.0  \n",
       "3                    29.0  \n",
       "4                    28.0  "
      ]
     },
     "execution_count": 5,
     "metadata": {},
     "output_type": "execute_result"
    }
   ],
   "source": [
    "df_ORDS.head()"
   ]
  },
  {
   "cell_type": "code",
   "execution_count": 6,
   "id": "28284340",
   "metadata": {
    "scrolled": true
   },
   "outputs": [
    {
     "data": {
      "text/html": [
       "<div>\n",
       "<style scoped>\n",
       "    .dataframe tbody tr th:only-of-type {\n",
       "        vertical-align: middle;\n",
       "    }\n",
       "\n",
       "    .dataframe tbody tr th {\n",
       "        vertical-align: top;\n",
       "    }\n",
       "\n",
       "    .dataframe thead th {\n",
       "        text-align: right;\n",
       "    }\n",
       "</style>\n",
       "<table border=\"1\" class=\"dataframe\">\n",
       "  <thead>\n",
       "    <tr style=\"text-align: right;\">\n",
       "      <th></th>\n",
       "      <th>order_id</th>\n",
       "      <th>user_id</th>\n",
       "      <th>eval_set</th>\n",
       "      <th>order_number</th>\n",
       "      <th>order_dow</th>\n",
       "      <th>order_hour_of_day</th>\n",
       "      <th>days_since_prior_order</th>\n",
       "    </tr>\n",
       "  </thead>\n",
       "  <tbody>\n",
       "    <tr>\n",
       "      <th>3421078</th>\n",
       "      <td>2266710</td>\n",
       "      <td>206209</td>\n",
       "      <td>prior</td>\n",
       "      <td>10</td>\n",
       "      <td>5</td>\n",
       "      <td>18</td>\n",
       "      <td>29.0</td>\n",
       "    </tr>\n",
       "    <tr>\n",
       "      <th>3421079</th>\n",
       "      <td>1854736</td>\n",
       "      <td>206209</td>\n",
       "      <td>prior</td>\n",
       "      <td>11</td>\n",
       "      <td>4</td>\n",
       "      <td>10</td>\n",
       "      <td>30.0</td>\n",
       "    </tr>\n",
       "    <tr>\n",
       "      <th>3421080</th>\n",
       "      <td>626363</td>\n",
       "      <td>206209</td>\n",
       "      <td>prior</td>\n",
       "      <td>12</td>\n",
       "      <td>1</td>\n",
       "      <td>12</td>\n",
       "      <td>18.0</td>\n",
       "    </tr>\n",
       "    <tr>\n",
       "      <th>3421081</th>\n",
       "      <td>2977660</td>\n",
       "      <td>206209</td>\n",
       "      <td>prior</td>\n",
       "      <td>13</td>\n",
       "      <td>1</td>\n",
       "      <td>12</td>\n",
       "      <td>7.0</td>\n",
       "    </tr>\n",
       "    <tr>\n",
       "      <th>3421082</th>\n",
       "      <td>272231</td>\n",
       "      <td>206209</td>\n",
       "      <td>train</td>\n",
       "      <td>14</td>\n",
       "      <td>6</td>\n",
       "      <td>14</td>\n",
       "      <td>30.0</td>\n",
       "    </tr>\n",
       "  </tbody>\n",
       "</table>\n",
       "</div>"
      ],
      "text/plain": [
       "         order_id  user_id eval_set  order_number  order_dow  \\\n",
       "3421078   2266710   206209    prior            10          5   \n",
       "3421079   1854736   206209    prior            11          4   \n",
       "3421080    626363   206209    prior            12          1   \n",
       "3421081   2977660   206209    prior            13          1   \n",
       "3421082    272231   206209    train            14          6   \n",
       "\n",
       "         order_hour_of_day  days_since_prior_order  \n",
       "3421078                 18                    29.0  \n",
       "3421079                 10                    30.0  \n",
       "3421080                 12                    18.0  \n",
       "3421081                 12                     7.0  \n",
       "3421082                 14                    30.0  "
      ]
     },
     "execution_count": 6,
     "metadata": {},
     "output_type": "execute_result"
    }
   ],
   "source": [
    "df_ORDS.tail()"
   ]
  },
  {
   "cell_type": "code",
   "execution_count": 7,
   "id": "2bd9f5c1",
   "metadata": {},
   "outputs": [
    {
     "name": "stdout",
     "output_type": "stream",
     "text": [
      "<class 'pandas.core.frame.DataFrame'>\n",
      "RangeIndex: 3421083 entries, 0 to 3421082\n",
      "Data columns (total 7 columns):\n",
      " #   Column                  Dtype  \n",
      "---  ------                  -----  \n",
      " 0   order_id                int64  \n",
      " 1   user_id                 int64  \n",
      " 2   eval_set                object \n",
      " 3   order_number            int64  \n",
      " 4   order_dow               int64  \n",
      " 5   order_hour_of_day       int64  \n",
      " 6   days_since_prior_order  float64\n",
      "dtypes: float64(1), int64(5), object(1)\n",
      "memory usage: 182.7+ MB\n"
     ]
    }
   ],
   "source": [
    "df_ORDS.info()"
   ]
  },
  {
   "cell_type": "markdown",
   "id": "6ef46839",
   "metadata": {},
   "source": [
    "    1.a. Dropping columns"
   ]
  },
  {
   "cell_type": "code",
   "execution_count": 8,
   "id": "5345f9b5",
   "metadata": {},
   "outputs": [],
   "source": [
    "# Drop the \"eval_set\" column as it has no use for the analysis\n",
    "\n",
    "df_ORDS.drop(columns = ['eval_set'], inplace = True)"
   ]
  },
  {
   "cell_type": "markdown",
   "id": "c4e707a1",
   "metadata": {},
   "source": [
    "    1.b. Renaming columns"
   ]
  },
  {
   "cell_type": "code",
   "execution_count": 9,
   "id": "3f68462c",
   "metadata": {},
   "outputs": [],
   "source": [
    "# Rename column \"order_dow\" to give more intuitive meaning\n",
    "\n",
    "df_ORDS.rename(columns = {'order_dow' : 'order_day_of_the_week'}, inplace = True)"
   ]
  },
  {
   "cell_type": "code",
   "execution_count": 10,
   "id": "e3f0b88d",
   "metadata": {},
   "outputs": [
    {
     "data": {
      "text/html": [
       "<div>\n",
       "<style scoped>\n",
       "    .dataframe tbody tr th:only-of-type {\n",
       "        vertical-align: middle;\n",
       "    }\n",
       "\n",
       "    .dataframe tbody tr th {\n",
       "        vertical-align: top;\n",
       "    }\n",
       "\n",
       "    .dataframe thead th {\n",
       "        text-align: right;\n",
       "    }\n",
       "</style>\n",
       "<table border=\"1\" class=\"dataframe\">\n",
       "  <thead>\n",
       "    <tr style=\"text-align: right;\">\n",
       "      <th></th>\n",
       "      <th>order_id</th>\n",
       "      <th>user_id</th>\n",
       "      <th>order_number</th>\n",
       "      <th>order_day_of_the_week</th>\n",
       "      <th>order_hour_of_day</th>\n",
       "      <th>days_since_prior_order</th>\n",
       "    </tr>\n",
       "  </thead>\n",
       "  <tbody>\n",
       "    <tr>\n",
       "      <th>0</th>\n",
       "      <td>2539329</td>\n",
       "      <td>1</td>\n",
       "      <td>1</td>\n",
       "      <td>2</td>\n",
       "      <td>8</td>\n",
       "      <td>NaN</td>\n",
       "    </tr>\n",
       "    <tr>\n",
       "      <th>1</th>\n",
       "      <td>2398795</td>\n",
       "      <td>1</td>\n",
       "      <td>2</td>\n",
       "      <td>3</td>\n",
       "      <td>7</td>\n",
       "      <td>15.0</td>\n",
       "    </tr>\n",
       "    <tr>\n",
       "      <th>2</th>\n",
       "      <td>473747</td>\n",
       "      <td>1</td>\n",
       "      <td>3</td>\n",
       "      <td>3</td>\n",
       "      <td>12</td>\n",
       "      <td>21.0</td>\n",
       "    </tr>\n",
       "    <tr>\n",
       "      <th>3</th>\n",
       "      <td>2254736</td>\n",
       "      <td>1</td>\n",
       "      <td>4</td>\n",
       "      <td>4</td>\n",
       "      <td>7</td>\n",
       "      <td>29.0</td>\n",
       "    </tr>\n",
       "    <tr>\n",
       "      <th>4</th>\n",
       "      <td>431534</td>\n",
       "      <td>1</td>\n",
       "      <td>5</td>\n",
       "      <td>4</td>\n",
       "      <td>15</td>\n",
       "      <td>28.0</td>\n",
       "    </tr>\n",
       "  </tbody>\n",
       "</table>\n",
       "</div>"
      ],
      "text/plain": [
       "   order_id  user_id  order_number  order_day_of_the_week  order_hour_of_day  \\\n",
       "0   2539329        1             1                      2                  8   \n",
       "1   2398795        1             2                      3                  7   \n",
       "2    473747        1             3                      3                 12   \n",
       "3   2254736        1             4                      4                  7   \n",
       "4    431534        1             5                      4                 15   \n",
       "\n",
       "   days_since_prior_order  \n",
       "0                     NaN  \n",
       "1                    15.0  \n",
       "2                    21.0  \n",
       "3                    29.0  \n",
       "4                    28.0  "
      ]
     },
     "execution_count": 10,
     "metadata": {},
     "output_type": "execute_result"
    }
   ],
   "source": [
    "# Check the two changes\n",
    "\n",
    "df_ORDS.head()"
   ]
  },
  {
   "cell_type": "markdown",
   "id": "218b2074",
   "metadata": {},
   "source": [
    "    1.c. Missing values"
   ]
  },
  {
   "cell_type": "code",
   "execution_count": 11,
   "id": "f14023dd",
   "metadata": {},
   "outputs": [
    {
     "data": {
      "text/plain": [
       "order_id                       0\n",
       "user_id                        0\n",
       "order_number                   0\n",
       "order_day_of_the_week          0\n",
       "order_hour_of_day              0\n",
       "days_since_prior_order    206209\n",
       "dtype: int64"
      ]
     },
     "execution_count": 11,
     "metadata": {},
     "output_type": "execute_result"
    }
   ],
   "source": [
    "# Missing values using \"isnull\" function\n",
    "\n",
    "df_ORDS.isnull().sum()"
   ]
  },
  {
   "cell_type": "code",
   "execution_count": 13,
   "id": "2f76076c",
   "metadata": {},
   "outputs": [
    {
     "data": {
      "text/plain": [
       "30.0    369323\n",
       "7.0     320608\n",
       "6.0     240013\n",
       "4.0     221696\n",
       "3.0     217005\n",
       "5.0     214503\n",
       "NaN     206209\n",
       "2.0     193206\n",
       "8.0     181717\n",
       "1.0     145247\n",
       "9.0     118188\n",
       "14.0    100230\n",
       "10.0     95186\n",
       "13.0     83214\n",
       "11.0     80970\n",
       "12.0     76146\n",
       "0.0      67755\n",
       "15.0     66579\n",
       "16.0     46941\n",
       "21.0     45470\n",
       "17.0     39245\n",
       "20.0     38527\n",
       "18.0     35881\n",
       "19.0     34384\n",
       "22.0     32012\n",
       "28.0     26777\n",
       "23.0     23885\n",
       "27.0     22013\n",
       "24.0     20712\n",
       "25.0     19234\n",
       "29.0     19191\n",
       "26.0     19016\n",
       "Name: days_since_prior_order, dtype: int64"
      ]
     },
     "execution_count": 13,
     "metadata": {},
     "output_type": "execute_result"
    }
   ],
   "source": [
    "# Look for missing values in the \"days_since_prior_order\"\n",
    "\n",
    "df_ORDS['days_since_prior_order'].value_counts(dropna = False)"
   ]
  },
  {
   "cell_type": "markdown",
   "id": "64d3eb4d",
   "metadata": {},
   "source": [
    "    1.d Data types"
   ]
  },
  {
   "cell_type": "code",
   "execution_count": 14,
   "id": "25642036",
   "metadata": {},
   "outputs": [
    {
     "data": {
      "text/plain": [
       "order_id                    int64\n",
       "user_id                     int64\n",
       "order_number                int64\n",
       "order_day_of_the_week       int64\n",
       "order_hour_of_day           int64\n",
       "days_since_prior_order    float64\n",
       "dtype: object"
      ]
     },
     "execution_count": 14,
     "metadata": {},
     "output_type": "execute_result"
    }
   ],
   "source": [
    "# Check data types\n",
    "\n",
    "df_ORDS.dtypes"
   ]
  },
  {
   "cell_type": "code",
   "execution_count": 15,
   "id": "7e34994d",
   "metadata": {},
   "outputs": [],
   "source": [
    "# Look for mixed-data types\n",
    "\n",
    "for col in df_ORDS.columns.tolist():\n",
    "  weird = (df_ORDS[[col]].applymap(type) != df_ORDS[[col]].iloc[0].apply(type)).any(axis = 1)\n",
    "  if len (df_ORDS[weird]) > 0:\n",
    "    print (col)"
   ]
  },
  {
   "cell_type": "code",
   "execution_count": 16,
   "id": "13fb280b",
   "metadata": {},
   "outputs": [],
   "source": [
    "# Change \"order_id\" from integer into string\n",
    "\n",
    "df_ORDS['order_id'] = df_ORDS['order_id'].astype('str')"
   ]
  },
  {
   "cell_type": "code",
   "execution_count": 17,
   "id": "4d8bfe0e",
   "metadata": {},
   "outputs": [
    {
     "data": {
      "text/plain": [
       "dtype('O')"
      ]
     },
     "execution_count": 17,
     "metadata": {},
     "output_type": "execute_result"
    }
   ],
   "source": [
    "df_ORDS['order_id'].dtype"
   ]
  },
  {
   "cell_type": "code",
   "execution_count": 18,
   "id": "2d508ab2",
   "metadata": {},
   "outputs": [],
   "source": [
    "# Change \"user_id\" data type\n",
    "\n",
    "df_ORDS['user_id'] = df_ORDS['user_id'].astype('str')"
   ]
  },
  {
   "cell_type": "code",
   "execution_count": 19,
   "id": "7b540429",
   "metadata": {},
   "outputs": [
    {
     "data": {
      "text/plain": [
       "dtype('O')"
      ]
     },
     "execution_count": 19,
     "metadata": {},
     "output_type": "execute_result"
    }
   ],
   "source": [
    "df_ORDS['user_id'].dtype"
   ]
  },
  {
   "cell_type": "code",
   "execution_count": 20,
   "id": "212869d9",
   "metadata": {},
   "outputs": [
    {
     "data": {
      "text/html": [
       "<div>\n",
       "<style scoped>\n",
       "    .dataframe tbody tr th:only-of-type {\n",
       "        vertical-align: middle;\n",
       "    }\n",
       "\n",
       "    .dataframe tbody tr th {\n",
       "        vertical-align: top;\n",
       "    }\n",
       "\n",
       "    .dataframe thead th {\n",
       "        text-align: right;\n",
       "    }\n",
       "</style>\n",
       "<table border=\"1\" class=\"dataframe\">\n",
       "  <thead>\n",
       "    <tr style=\"text-align: right;\">\n",
       "      <th></th>\n",
       "      <th>order_number</th>\n",
       "      <th>order_day_of_the_week</th>\n",
       "      <th>order_hour_of_day</th>\n",
       "      <th>days_since_prior_order</th>\n",
       "    </tr>\n",
       "  </thead>\n",
       "  <tbody>\n",
       "    <tr>\n",
       "      <th>count</th>\n",
       "      <td>3.421083e+06</td>\n",
       "      <td>3.421083e+06</td>\n",
       "      <td>3.421083e+06</td>\n",
       "      <td>3.214874e+06</td>\n",
       "    </tr>\n",
       "    <tr>\n",
       "      <th>mean</th>\n",
       "      <td>1.715486e+01</td>\n",
       "      <td>2.776219e+00</td>\n",
       "      <td>1.345202e+01</td>\n",
       "      <td>1.111484e+01</td>\n",
       "    </tr>\n",
       "    <tr>\n",
       "      <th>std</th>\n",
       "      <td>1.773316e+01</td>\n",
       "      <td>2.046829e+00</td>\n",
       "      <td>4.226088e+00</td>\n",
       "      <td>9.206737e+00</td>\n",
       "    </tr>\n",
       "    <tr>\n",
       "      <th>min</th>\n",
       "      <td>1.000000e+00</td>\n",
       "      <td>0.000000e+00</td>\n",
       "      <td>0.000000e+00</td>\n",
       "      <td>0.000000e+00</td>\n",
       "    </tr>\n",
       "    <tr>\n",
       "      <th>25%</th>\n",
       "      <td>5.000000e+00</td>\n",
       "      <td>1.000000e+00</td>\n",
       "      <td>1.000000e+01</td>\n",
       "      <td>4.000000e+00</td>\n",
       "    </tr>\n",
       "    <tr>\n",
       "      <th>50%</th>\n",
       "      <td>1.100000e+01</td>\n",
       "      <td>3.000000e+00</td>\n",
       "      <td>1.300000e+01</td>\n",
       "      <td>7.000000e+00</td>\n",
       "    </tr>\n",
       "    <tr>\n",
       "      <th>75%</th>\n",
       "      <td>2.300000e+01</td>\n",
       "      <td>5.000000e+00</td>\n",
       "      <td>1.600000e+01</td>\n",
       "      <td>1.500000e+01</td>\n",
       "    </tr>\n",
       "    <tr>\n",
       "      <th>max</th>\n",
       "      <td>1.000000e+02</td>\n",
       "      <td>6.000000e+00</td>\n",
       "      <td>2.300000e+01</td>\n",
       "      <td>3.000000e+01</td>\n",
       "    </tr>\n",
       "  </tbody>\n",
       "</table>\n",
       "</div>"
      ],
      "text/plain": [
       "       order_number  order_day_of_the_week  order_hour_of_day  \\\n",
       "count  3.421083e+06           3.421083e+06       3.421083e+06   \n",
       "mean   1.715486e+01           2.776219e+00       1.345202e+01   \n",
       "std    1.773316e+01           2.046829e+00       4.226088e+00   \n",
       "min    1.000000e+00           0.000000e+00       0.000000e+00   \n",
       "25%    5.000000e+00           1.000000e+00       1.000000e+01   \n",
       "50%    1.100000e+01           3.000000e+00       1.300000e+01   \n",
       "75%    2.300000e+01           5.000000e+00       1.600000e+01   \n",
       "max    1.000000e+02           6.000000e+00       2.300000e+01   \n",
       "\n",
       "       days_since_prior_order  \n",
       "count            3.214874e+06  \n",
       "mean             1.111484e+01  \n",
       "std              9.206737e+00  \n",
       "min              0.000000e+00  \n",
       "25%              4.000000e+00  \n",
       "50%              7.000000e+00  \n",
       "75%              1.500000e+01  \n",
       "max              3.000000e+01  "
      ]
     },
     "execution_count": 20,
     "metadata": {},
     "output_type": "execute_result"
    }
   ],
   "source": [
    "# String types data are excluded from the summary stats\n",
    "\n",
    "df_ORDS.describe()"
   ]
  },
  {
   "cell_type": "markdown",
   "id": "f7c3449f",
   "metadata": {},
   "source": [
    "    1.e. Duplicates"
   ]
  },
  {
   "cell_type": "code",
   "execution_count": 21,
   "id": "6690cb54",
   "metadata": {},
   "outputs": [],
   "source": [
    "# Look for duplicates\n",
    "\n",
    "df_ORDS_dups = df_ORDS[df_ORDS.duplicated()]\n",
    "\n",
    "# No duplicates found"
   ]
  },
  {
   "cell_type": "code",
   "execution_count": 22,
   "id": "1fa8b670",
   "metadata": {},
   "outputs": [],
   "source": [
    "# Export the wrangled dataset\n",
    "\n",
    "df_ORDS.to_csv(r'D:\\CareerFoundry\\Data Immersion\\Task 4\\Instacart Basket Analysis_2021-07-22\\02 Data\\Prepared Data\\df_ORDS_wrangled_final.csv', index=False )"
   ]
  },
  {
   "cell_type": "markdown",
   "id": "fcc8ec9c",
   "metadata": {},
   "source": [
    "# 2. Consistency check of PRODUCT dataset = df_PRODS"
   ]
  },
  {
   "cell_type": "code",
   "execution_count": 23,
   "id": "2700cd37",
   "metadata": {},
   "outputs": [],
   "source": [
    "# Import the original \"products.csv\" dataset\n",
    "\n",
    "df_PRODS = pd.read_csv(r'D:\\CareerFoundry\\Data Immersion\\Task 4\\Instacart Basket Analysis_2021-07-22\\02 Data\\Original Data\\products.csv')"
   ]
  },
  {
   "cell_type": "code",
   "execution_count": 24,
   "id": "0e50f994",
   "metadata": {},
   "outputs": [
    {
     "data": {
      "text/html": [
       "<div>\n",
       "<style scoped>\n",
       "    .dataframe tbody tr th:only-of-type {\n",
       "        vertical-align: middle;\n",
       "    }\n",
       "\n",
       "    .dataframe tbody tr th {\n",
       "        vertical-align: top;\n",
       "    }\n",
       "\n",
       "    .dataframe thead th {\n",
       "        text-align: right;\n",
       "    }\n",
       "</style>\n",
       "<table border=\"1\" class=\"dataframe\">\n",
       "  <thead>\n",
       "    <tr style=\"text-align: right;\">\n",
       "      <th></th>\n",
       "      <th>product_id</th>\n",
       "      <th>product_name</th>\n",
       "      <th>aisle_id</th>\n",
       "      <th>department_id</th>\n",
       "      <th>prices</th>\n",
       "    </tr>\n",
       "  </thead>\n",
       "  <tbody>\n",
       "    <tr>\n",
       "      <th>0</th>\n",
       "      <td>1</td>\n",
       "      <td>Chocolate Sandwich Cookies</td>\n",
       "      <td>61</td>\n",
       "      <td>19</td>\n",
       "      <td>5.8</td>\n",
       "    </tr>\n",
       "    <tr>\n",
       "      <th>1</th>\n",
       "      <td>2</td>\n",
       "      <td>All-Seasons Salt</td>\n",
       "      <td>104</td>\n",
       "      <td>13</td>\n",
       "      <td>9.3</td>\n",
       "    </tr>\n",
       "    <tr>\n",
       "      <th>2</th>\n",
       "      <td>3</td>\n",
       "      <td>Robust Golden Unsweetened Oolong Tea</td>\n",
       "      <td>94</td>\n",
       "      <td>7</td>\n",
       "      <td>4.5</td>\n",
       "    </tr>\n",
       "    <tr>\n",
       "      <th>3</th>\n",
       "      <td>4</td>\n",
       "      <td>Smart Ones Classic Favorites Mini Rigatoni Wit...</td>\n",
       "      <td>38</td>\n",
       "      <td>1</td>\n",
       "      <td>10.5</td>\n",
       "    </tr>\n",
       "    <tr>\n",
       "      <th>4</th>\n",
       "      <td>5</td>\n",
       "      <td>Green Chile Anytime Sauce</td>\n",
       "      <td>5</td>\n",
       "      <td>13</td>\n",
       "      <td>4.3</td>\n",
       "    </tr>\n",
       "  </tbody>\n",
       "</table>\n",
       "</div>"
      ],
      "text/plain": [
       "   product_id                                       product_name  aisle_id  \\\n",
       "0           1                         Chocolate Sandwich Cookies        61   \n",
       "1           2                                   All-Seasons Salt       104   \n",
       "2           3               Robust Golden Unsweetened Oolong Tea        94   \n",
       "3           4  Smart Ones Classic Favorites Mini Rigatoni Wit...        38   \n",
       "4           5                          Green Chile Anytime Sauce         5   \n",
       "\n",
       "   department_id  prices  \n",
       "0             19     5.8  \n",
       "1             13     9.3  \n",
       "2              7     4.5  \n",
       "3              1    10.5  \n",
       "4             13     4.3  "
      ]
     },
     "execution_count": 24,
     "metadata": {},
     "output_type": "execute_result"
    }
   ],
   "source": [
    "df_PRODS.head()"
   ]
  },
  {
   "cell_type": "code",
   "execution_count": 25,
   "id": "7954377b",
   "metadata": {},
   "outputs": [
    {
     "data": {
      "text/html": [
       "<div>\n",
       "<style scoped>\n",
       "    .dataframe tbody tr th:only-of-type {\n",
       "        vertical-align: middle;\n",
       "    }\n",
       "\n",
       "    .dataframe tbody tr th {\n",
       "        vertical-align: top;\n",
       "    }\n",
       "\n",
       "    .dataframe thead th {\n",
       "        text-align: right;\n",
       "    }\n",
       "</style>\n",
       "<table border=\"1\" class=\"dataframe\">\n",
       "  <thead>\n",
       "    <tr style=\"text-align: right;\">\n",
       "      <th></th>\n",
       "      <th>product_id</th>\n",
       "      <th>product_name</th>\n",
       "      <th>aisle_id</th>\n",
       "      <th>department_id</th>\n",
       "      <th>prices</th>\n",
       "    </tr>\n",
       "  </thead>\n",
       "  <tbody>\n",
       "    <tr>\n",
       "      <th>49688</th>\n",
       "      <td>49684</td>\n",
       "      <td>Vodka, Triple Distilled, Twist of Vanilla</td>\n",
       "      <td>124</td>\n",
       "      <td>5</td>\n",
       "      <td>5.3</td>\n",
       "    </tr>\n",
       "    <tr>\n",
       "      <th>49689</th>\n",
       "      <td>49685</td>\n",
       "      <td>En Croute Roast Hazelnut Cranberry</td>\n",
       "      <td>42</td>\n",
       "      <td>1</td>\n",
       "      <td>3.1</td>\n",
       "    </tr>\n",
       "    <tr>\n",
       "      <th>49690</th>\n",
       "      <td>49686</td>\n",
       "      <td>Artisan Baguette</td>\n",
       "      <td>112</td>\n",
       "      <td>3</td>\n",
       "      <td>7.8</td>\n",
       "    </tr>\n",
       "    <tr>\n",
       "      <th>49691</th>\n",
       "      <td>49687</td>\n",
       "      <td>Smartblend Healthy Metabolism Dry Cat Food</td>\n",
       "      <td>41</td>\n",
       "      <td>8</td>\n",
       "      <td>4.7</td>\n",
       "    </tr>\n",
       "    <tr>\n",
       "      <th>49692</th>\n",
       "      <td>49688</td>\n",
       "      <td>Fresh Foaming Cleanser</td>\n",
       "      <td>73</td>\n",
       "      <td>11</td>\n",
       "      <td>13.5</td>\n",
       "    </tr>\n",
       "  </tbody>\n",
       "</table>\n",
       "</div>"
      ],
      "text/plain": [
       "       product_id                                product_name  aisle_id  \\\n",
       "49688       49684   Vodka, Triple Distilled, Twist of Vanilla       124   \n",
       "49689       49685          En Croute Roast Hazelnut Cranberry        42   \n",
       "49690       49686                            Artisan Baguette       112   \n",
       "49691       49687  Smartblend Healthy Metabolism Dry Cat Food        41   \n",
       "49692       49688                      Fresh Foaming Cleanser        73   \n",
       "\n",
       "       department_id  prices  \n",
       "49688              5     5.3  \n",
       "49689              1     3.1  \n",
       "49690              3     7.8  \n",
       "49691              8     4.7  \n",
       "49692             11    13.5  "
      ]
     },
     "execution_count": 25,
     "metadata": {},
     "output_type": "execute_result"
    }
   ],
   "source": [
    "df_PRODS.tail()"
   ]
  },
  {
   "cell_type": "code",
   "execution_count": 26,
   "id": "99cd2633",
   "metadata": {},
   "outputs": [
    {
     "name": "stdout",
     "output_type": "stream",
     "text": [
      "<class 'pandas.core.frame.DataFrame'>\n",
      "RangeIndex: 49693 entries, 0 to 49692\n",
      "Data columns (total 5 columns):\n",
      " #   Column         Non-Null Count  Dtype  \n",
      "---  ------         --------------  -----  \n",
      " 0   product_id     49693 non-null  int64  \n",
      " 1   product_name   49677 non-null  object \n",
      " 2   aisle_id       49693 non-null  int64  \n",
      " 3   department_id  49693 non-null  int64  \n",
      " 4   prices         49693 non-null  float64\n",
      "dtypes: float64(1), int64(3), object(1)\n",
      "memory usage: 1.9+ MB\n"
     ]
    }
   ],
   "source": [
    "df_PRODS.info()"
   ]
  },
  {
   "cell_type": "markdown",
   "id": "1058b6c9",
   "metadata": {},
   "source": [
    "    2.a. Missing values"
   ]
  },
  {
   "cell_type": "code",
   "execution_count": 32,
   "id": "4bbec42b",
   "metadata": {},
   "outputs": [
    {
     "data": {
      "text/plain": [
       "product_id        0\n",
       "product_name     16\n",
       "aisle_id          0\n",
       "department_id     0\n",
       "prices            0\n",
       "dtype: int64"
      ]
     },
     "execution_count": 32,
     "metadata": {},
     "output_type": "execute_result"
    }
   ],
   "source": [
    "# Look for missing values\n",
    "\n",
    "df_PRODS.isnull().sum()"
   ]
  },
  {
   "cell_type": "code",
   "execution_count": 33,
   "id": "91196aa9",
   "metadata": {
    "scrolled": true
   },
   "outputs": [
    {
     "data": {
      "text/plain": [
       "NaN                                      16\n",
       "Adore Forever Body Wash                   2\n",
       "Black House Coffee Roasty Stout Beer      2\n",
       "Ranger IPA                                2\n",
       "Fiber 4g Gummy Dietary Supplement         2\n",
       "                                         ..\n",
       "Charcoal Briquettes Mesquite              1\n",
       "Dentastix® Mini Dog Chews                 1\n",
       "Sugar Free Gum with Xylitol Spearmint     1\n",
       "Original Thin Sausage Pizza               1\n",
       "Vinegar & Sea Salt Potato Chips           1\n",
       "Name: product_name, Length: 49673, dtype: int64"
      ]
     },
     "execution_count": 33,
     "metadata": {},
     "output_type": "execute_result"
    }
   ],
   "source": [
    "# Check the \"product_name\" column\n",
    "\n",
    "df_PRODS['product_name'].value_counts(dropna = False)"
   ]
  },
  {
   "cell_type": "markdown",
   "id": "712f9989",
   "metadata": {},
   "source": [
    "    2.b. Data types"
   ]
  },
  {
   "cell_type": "code",
   "execution_count": 34,
   "id": "f7c9ee31",
   "metadata": {},
   "outputs": [],
   "source": [
    "# Change \"product_id\", \"aisle_id\", \"department_id\" data type into string\n",
    "\n",
    "df_PRODS['product_id'] = df_PRODS['product_id'].astype('str')\n",
    "df_PRODS['aisle_id'] = df_PRODS['aisle_id'].astype('str')\n",
    "df_PRODS['department_id'] = df_PRODS['department_id'].astype('str')"
   ]
  },
  {
   "cell_type": "code",
   "execution_count": 35,
   "id": "aeaddeb1",
   "metadata": {},
   "outputs": [
    {
     "name": "stdout",
     "output_type": "stream",
     "text": [
      "<class 'pandas.core.frame.DataFrame'>\n",
      "RangeIndex: 49693 entries, 0 to 49692\n",
      "Data columns (total 5 columns):\n",
      " #   Column         Non-Null Count  Dtype  \n",
      "---  ------         --------------  -----  \n",
      " 0   product_id     49693 non-null  object \n",
      " 1   product_name   49677 non-null  object \n",
      " 2   aisle_id       49693 non-null  object \n",
      " 3   department_id  49693 non-null  object \n",
      " 4   prices         49693 non-null  float64\n",
      "dtypes: float64(1), object(4)\n",
      "memory usage: 1.9+ MB\n"
     ]
    }
   ],
   "source": [
    "# Check the change\n",
    "\n",
    "df_PRODS.info()"
   ]
  },
  {
   "cell_type": "code",
   "execution_count": 36,
   "id": "2178dacc",
   "metadata": {},
   "outputs": [
    {
     "name": "stdout",
     "output_type": "stream",
     "text": [
      "product_name\n"
     ]
    }
   ],
   "source": [
    "# Look for mixed-data types\n",
    "\n",
    "for col in df_PRODS.columns.tolist():\n",
    "  weird = (df_PRODS[[col]].applymap(type) != df_PRODS[[col]].iloc[0].apply(type)).any(axis = 1)\n",
    "  if len (df_PRODS[weird]) > 0:\n",
    "    print (col)\n",
    "    \n",
    "# The result shows \"product_name\" column because it contains 16 empty cells NaN"
   ]
  },
  {
   "cell_type": "code",
   "execution_count": 37,
   "id": "f4554e95",
   "metadata": {},
   "outputs": [],
   "source": [
    "# Delete 16 rows with missing values in the \"product_name\" columns\n",
    "\n",
    "df_PRODS_clean = df_PRODS[df_PRODS['product_name'].isnull() == False]"
   ]
  },
  {
   "cell_type": "code",
   "execution_count": 38,
   "id": "74f47473",
   "metadata": {},
   "outputs": [
    {
     "name": "stdout",
     "output_type": "stream",
     "text": [
      "<class 'pandas.core.frame.DataFrame'>\n",
      "Int64Index: 49677 entries, 0 to 49692\n",
      "Data columns (total 5 columns):\n",
      " #   Column         Non-Null Count  Dtype  \n",
      "---  ------         --------------  -----  \n",
      " 0   product_id     49677 non-null  object \n",
      " 1   product_name   49677 non-null  object \n",
      " 2   aisle_id       49677 non-null  object \n",
      " 3   department_id  49677 non-null  object \n",
      " 4   prices         49677 non-null  float64\n",
      "dtypes: float64(1), object(4)\n",
      "memory usage: 2.3+ MB\n"
     ]
    }
   ],
   "source": [
    "df_PRODS_clean.info()"
   ]
  },
  {
   "cell_type": "code",
   "execution_count": 40,
   "id": "76ac3025",
   "metadata": {},
   "outputs": [
    {
     "data": {
      "text/html": [
       "<div>\n",
       "<style scoped>\n",
       "    .dataframe tbody tr th:only-of-type {\n",
       "        vertical-align: middle;\n",
       "    }\n",
       "\n",
       "    .dataframe tbody tr th {\n",
       "        vertical-align: top;\n",
       "    }\n",
       "\n",
       "    .dataframe thead th {\n",
       "        text-align: right;\n",
       "    }\n",
       "</style>\n",
       "<table border=\"1\" class=\"dataframe\">\n",
       "  <thead>\n",
       "    <tr style=\"text-align: right;\">\n",
       "      <th></th>\n",
       "      <th>prices</th>\n",
       "    </tr>\n",
       "  </thead>\n",
       "  <tbody>\n",
       "    <tr>\n",
       "      <th>count</th>\n",
       "      <td>49677.000000</td>\n",
       "    </tr>\n",
       "    <tr>\n",
       "      <th>mean</th>\n",
       "      <td>9.993164</td>\n",
       "    </tr>\n",
       "    <tr>\n",
       "      <th>std</th>\n",
       "      <td>453.592708</td>\n",
       "    </tr>\n",
       "    <tr>\n",
       "      <th>min</th>\n",
       "      <td>1.000000</td>\n",
       "    </tr>\n",
       "    <tr>\n",
       "      <th>25%</th>\n",
       "      <td>4.100000</td>\n",
       "    </tr>\n",
       "    <tr>\n",
       "      <th>50%</th>\n",
       "      <td>7.100000</td>\n",
       "    </tr>\n",
       "    <tr>\n",
       "      <th>75%</th>\n",
       "      <td>11.100000</td>\n",
       "    </tr>\n",
       "    <tr>\n",
       "      <th>max</th>\n",
       "      <td>99999.000000</td>\n",
       "    </tr>\n",
       "  </tbody>\n",
       "</table>\n",
       "</div>"
      ],
      "text/plain": [
       "             prices\n",
       "count  49677.000000\n",
       "mean       9.993164\n",
       "std      453.592708\n",
       "min        1.000000\n",
       "25%        4.100000\n",
       "50%        7.100000\n",
       "75%       11.100000\n",
       "max    99999.000000"
      ]
     },
     "execution_count": 40,
     "metadata": {},
     "output_type": "execute_result"
    }
   ],
   "source": [
    "df_PRODS_clean.describe()"
   ]
  },
  {
   "cell_type": "markdown",
   "id": "d6fe7f30",
   "metadata": {},
   "source": [
    "2.c. Duplicates"
   ]
  },
  {
   "cell_type": "code",
   "execution_count": 41,
   "id": "8f2d48bb",
   "metadata": {},
   "outputs": [],
   "source": [
    "# Look for duplicates\n",
    "\n",
    "df_PRODS_dups = df_PRODS_clean[df_PRODS_clean.duplicated()]\n",
    "\n",
    "# No duplicates found"
   ]
  },
  {
   "cell_type": "code",
   "execution_count": 42,
   "id": "eedeb951",
   "metadata": {},
   "outputs": [],
   "source": [
    "# Export the wrangled dataset\n",
    "\n",
    "df_PRODS_clean.to_csv(r'D:\\CareerFoundry\\Data Immersion\\Task 4\\Instacart Basket Analysis_2021-07-22\\02 Data\\Prepared Data\\df_PRODS_wrangled_final.csv', index=False )"
   ]
  },
  {
   "cell_type": "markdown",
   "id": "fffd6cb3",
   "metadata": {},
   "source": [
    "# 3. Consistency check of ORDERS_PRODUCTS_PRIOR\n",
    "This data set contains data from the past and need to be merged with \"orders\" set to inclued \"product_id\" in the \"orders\" set"
   ]
  },
  {
   "cell_type": "code",
   "execution_count": 43,
   "id": "07290660",
   "metadata": {},
   "outputs": [],
   "source": [
    "# Import the original dataset\n",
    "\n",
    "df_ORDS_PRODS_prior = pd.read_csv(r'D:\\CareerFoundry\\Data Immersion\\Task 4\\Instacart Basket Analysis_2021-07-22\\02 Data\\Original Data\\order_products__prior.csv')"
   ]
  },
  {
   "cell_type": "code",
   "execution_count": 47,
   "id": "c5c3b238",
   "metadata": {},
   "outputs": [
    {
     "data": {
      "text/html": [
       "<div>\n",
       "<style scoped>\n",
       "    .dataframe tbody tr th:only-of-type {\n",
       "        vertical-align: middle;\n",
       "    }\n",
       "\n",
       "    .dataframe tbody tr th {\n",
       "        vertical-align: top;\n",
       "    }\n",
       "\n",
       "    .dataframe thead th {\n",
       "        text-align: right;\n",
       "    }\n",
       "</style>\n",
       "<table border=\"1\" class=\"dataframe\">\n",
       "  <thead>\n",
       "    <tr style=\"text-align: right;\">\n",
       "      <th></th>\n",
       "      <th>order_id</th>\n",
       "      <th>product_id</th>\n",
       "      <th>add_to_cart_order</th>\n",
       "      <th>reordered</th>\n",
       "    </tr>\n",
       "  </thead>\n",
       "  <tbody>\n",
       "    <tr>\n",
       "      <th>0</th>\n",
       "      <td>2</td>\n",
       "      <td>33120</td>\n",
       "      <td>1</td>\n",
       "      <td>1</td>\n",
       "    </tr>\n",
       "    <tr>\n",
       "      <th>1</th>\n",
       "      <td>2</td>\n",
       "      <td>28985</td>\n",
       "      <td>2</td>\n",
       "      <td>1</td>\n",
       "    </tr>\n",
       "    <tr>\n",
       "      <th>2</th>\n",
       "      <td>2</td>\n",
       "      <td>9327</td>\n",
       "      <td>3</td>\n",
       "      <td>0</td>\n",
       "    </tr>\n",
       "    <tr>\n",
       "      <th>3</th>\n",
       "      <td>2</td>\n",
       "      <td>45918</td>\n",
       "      <td>4</td>\n",
       "      <td>1</td>\n",
       "    </tr>\n",
       "    <tr>\n",
       "      <th>4</th>\n",
       "      <td>2</td>\n",
       "      <td>30035</td>\n",
       "      <td>5</td>\n",
       "      <td>0</td>\n",
       "    </tr>\n",
       "  </tbody>\n",
       "</table>\n",
       "</div>"
      ],
      "text/plain": [
       "  order_id product_id  add_to_cart_order  reordered\n",
       "0        2      33120                  1          1\n",
       "1        2      28985                  2          1\n",
       "2        2       9327                  3          0\n",
       "3        2      45918                  4          1\n",
       "4        2      30035                  5          0"
      ]
     },
     "execution_count": 47,
     "metadata": {},
     "output_type": "execute_result"
    }
   ],
   "source": [
    "df_ORDS_PRODS_prior.head()"
   ]
  },
  {
   "cell_type": "code",
   "execution_count": 48,
   "id": "4986ae23",
   "metadata": {},
   "outputs": [
    {
     "data": {
      "text/html": [
       "<div>\n",
       "<style scoped>\n",
       "    .dataframe tbody tr th:only-of-type {\n",
       "        vertical-align: middle;\n",
       "    }\n",
       "\n",
       "    .dataframe tbody tr th {\n",
       "        vertical-align: top;\n",
       "    }\n",
       "\n",
       "    .dataframe thead th {\n",
       "        text-align: right;\n",
       "    }\n",
       "</style>\n",
       "<table border=\"1\" class=\"dataframe\">\n",
       "  <thead>\n",
       "    <tr style=\"text-align: right;\">\n",
       "      <th></th>\n",
       "      <th>order_id</th>\n",
       "      <th>product_id</th>\n",
       "      <th>add_to_cart_order</th>\n",
       "      <th>reordered</th>\n",
       "    </tr>\n",
       "  </thead>\n",
       "  <tbody>\n",
       "    <tr>\n",
       "      <th>32434484</th>\n",
       "      <td>3421083</td>\n",
       "      <td>39678</td>\n",
       "      <td>6</td>\n",
       "      <td>1</td>\n",
       "    </tr>\n",
       "    <tr>\n",
       "      <th>32434485</th>\n",
       "      <td>3421083</td>\n",
       "      <td>11352</td>\n",
       "      <td>7</td>\n",
       "      <td>0</td>\n",
       "    </tr>\n",
       "    <tr>\n",
       "      <th>32434486</th>\n",
       "      <td>3421083</td>\n",
       "      <td>4600</td>\n",
       "      <td>8</td>\n",
       "      <td>0</td>\n",
       "    </tr>\n",
       "    <tr>\n",
       "      <th>32434487</th>\n",
       "      <td>3421083</td>\n",
       "      <td>24852</td>\n",
       "      <td>9</td>\n",
       "      <td>1</td>\n",
       "    </tr>\n",
       "    <tr>\n",
       "      <th>32434488</th>\n",
       "      <td>3421083</td>\n",
       "      <td>5020</td>\n",
       "      <td>10</td>\n",
       "      <td>1</td>\n",
       "    </tr>\n",
       "  </tbody>\n",
       "</table>\n",
       "</div>"
      ],
      "text/plain": [
       "         order_id product_id  add_to_cart_order  reordered\n",
       "32434484  3421083      39678                  6          1\n",
       "32434485  3421083      11352                  7          0\n",
       "32434486  3421083       4600                  8          0\n",
       "32434487  3421083      24852                  9          1\n",
       "32434488  3421083       5020                 10          1"
      ]
     },
     "execution_count": 48,
     "metadata": {},
     "output_type": "execute_result"
    }
   ],
   "source": [
    "df_ORDS_PRODS_prior.tail()"
   ]
  },
  {
   "cell_type": "code",
   "execution_count": 49,
   "id": "85776d51",
   "metadata": {},
   "outputs": [
    {
     "name": "stdout",
     "output_type": "stream",
     "text": [
      "<class 'pandas.core.frame.DataFrame'>\n",
      "RangeIndex: 32434489 entries, 0 to 32434488\n",
      "Data columns (total 4 columns):\n",
      " #   Column             Dtype \n",
      "---  ------             ----- \n",
      " 0   order_id           object\n",
      " 1   product_id         object\n",
      " 2   add_to_cart_order  int64 \n",
      " 3   reordered          int64 \n",
      "dtypes: int64(2), object(2)\n",
      "memory usage: 989.8+ MB\n"
     ]
    }
   ],
   "source": [
    "df_ORDS_PRODS_prior.info()"
   ]
  },
  {
   "cell_type": "markdown",
   "id": "2fa6b66d",
   "metadata": {},
   "source": [
    "    3.a. Missing values"
   ]
  },
  {
   "cell_type": "code",
   "execution_count": 50,
   "id": "3048e5ef",
   "metadata": {},
   "outputs": [
    {
     "data": {
      "text/plain": [
       "order_id             0\n",
       "product_id           0\n",
       "add_to_cart_order    0\n",
       "reordered            0\n",
       "dtype: int64"
      ]
     },
     "execution_count": 50,
     "metadata": {},
     "output_type": "execute_result"
    }
   ],
   "source": [
    "df_ORDS_PRODS_prior.isnull().sum()"
   ]
  },
  {
   "cell_type": "markdown",
   "id": "7ac6b486",
   "metadata": {},
   "source": [
    "    3.b. Data types"
   ]
  },
  {
   "cell_type": "code",
   "execution_count": 51,
   "id": "fea776f5",
   "metadata": {},
   "outputs": [],
   "source": [
    "for col in df_ORDS_PRODS_prior.columns.tolist():\n",
    "  weird = (df_ORDS_PRODS_prior[[col]].applymap(type) != df_ORDS_PRODS_prior[[col]].iloc[0].apply(type)).any(axis = 1)\n",
    "  if len (df_ORDS_PRODS_prior[weird]) > 0:\n",
    "    print (col)"
   ]
  },
  {
   "cell_type": "code",
   "execution_count": 52,
   "id": "6d47895e",
   "metadata": {},
   "outputs": [],
   "source": [
    "# Change \"product_id\", \"aisle_id\", \"department_id\" data type\n",
    "\n",
    "df_ORDS_PRODS_prior['product_id'] = df_ORDS_PRODS_prior['product_id'].astype('str')\n",
    "df_ORDS_PRODS_prior['order_id'] = df_ORDS_PRODS_prior['order_id'].astype('str')\n"
   ]
  },
  {
   "cell_type": "markdown",
   "id": "44880587",
   "metadata": {},
   "source": [
    "    3.c. Duplicates"
   ]
  },
  {
   "cell_type": "code",
   "execution_count": 53,
   "id": "4910177a",
   "metadata": {},
   "outputs": [],
   "source": [
    "df_ORDS_PRODS_prior_dups = df_ORDS_PRODS_prior[df_ORDS_PRODS_prior.duplicated()]"
   ]
  },
  {
   "cell_type": "markdown",
   "id": "239bf3b6",
   "metadata": {},
   "source": [
    "# 4. Merging ORDERS with ORDERS_PRODUCTS_PRIOR\n",
    "The merge will be performed on \"order_id\" variable; data type has been unified in both datasets to string"
   ]
  },
  {
   "cell_type": "code",
   "execution_count": 54,
   "id": "2ec64998",
   "metadata": {},
   "outputs": [
    {
     "name": "stdout",
     "output_type": "stream",
     "text": [
      "<class 'pandas.core.frame.DataFrame'>\n",
      "RangeIndex: 3421083 entries, 0 to 3421082\n",
      "Data columns (total 6 columns):\n",
      " #   Column                  Dtype  \n",
      "---  ------                  -----  \n",
      " 0   order_id                object \n",
      " 1   user_id                 object \n",
      " 2   order_number            int64  \n",
      " 3   order_day_of_the_week   int64  \n",
      " 4   order_hour_of_day       int64  \n",
      " 5   days_since_prior_order  float64\n",
      "dtypes: float64(1), int64(3), object(2)\n",
      "memory usage: 156.6+ MB\n"
     ]
    }
   ],
   "source": [
    "df_ORDS.info()"
   ]
  },
  {
   "cell_type": "code",
   "execution_count": 55,
   "id": "33551e0d",
   "metadata": {},
   "outputs": [
    {
     "name": "stdout",
     "output_type": "stream",
     "text": [
      "<class 'pandas.core.frame.DataFrame'>\n",
      "RangeIndex: 32434489 entries, 0 to 32434488\n",
      "Data columns (total 4 columns):\n",
      " #   Column             Dtype \n",
      "---  ------             ----- \n",
      " 0   order_id           object\n",
      " 1   product_id         object\n",
      " 2   add_to_cart_order  int64 \n",
      " 3   reordered          int64 \n",
      "dtypes: int64(2), object(2)\n",
      "memory usage: 989.8+ MB\n"
     ]
    }
   ],
   "source": [
    "df_ORDS_PRODS_prior.info()"
   ]
  },
  {
   "cell_type": "code",
   "execution_count": null,
   "id": "3245459b",
   "metadata": {},
   "outputs": [],
   "source": [
    "# merging the two data sets on column \"order_id\"\n",
    "# the order set has  3.421.083 rows\n",
    "# the prior set has 32.434.489 rows"
   ]
  },
  {
   "cell_type": "code",
   "execution_count": 56,
   "id": "35e50117",
   "metadata": {},
   "outputs": [],
   "source": [
    "# The output below shows the frequency of a merge using the argument how = outer. \n",
    "# Merging like this will combine all the observations and show the real merge rate:\n",
    "\n",
    "df_ORDS_large = df_ORDS.merge(df_ORDS_PRODS_prior, on = 'order_id', how = 'outer', indicator = True)"
   ]
  },
  {
   "cell_type": "code",
   "execution_count": 57,
   "id": "877e37a8",
   "metadata": {},
   "outputs": [
    {
     "name": "stdout",
     "output_type": "stream",
     "text": [
      "<class 'pandas.core.frame.DataFrame'>\n",
      "Int64Index: 32640698 entries, 0 to 32640697\n",
      "Data columns (total 10 columns):\n",
      " #   Column                  Dtype   \n",
      "---  ------                  -----   \n",
      " 0   order_id                object  \n",
      " 1   user_id                 object  \n",
      " 2   order_number            int64   \n",
      " 3   order_day_of_the_week   int64   \n",
      " 4   order_hour_of_day       int64   \n",
      " 5   days_since_prior_order  float64 \n",
      " 6   product_id              object  \n",
      " 7   add_to_cart_order       float64 \n",
      " 8   reordered               float64 \n",
      " 9   _merge                  category\n",
      "dtypes: category(1), float64(3), int64(3), object(3)\n",
      "memory usage: 2.5+ GB\n"
     ]
    }
   ],
   "source": [
    "df_ORDS_large.info()\n",
    "\n",
    "# the merged dataset contains 32.640.698 rows and 10 columns"
   ]
  },
  {
   "cell_type": "code",
   "execution_count": 58,
   "id": "8da389b6",
   "metadata": {},
   "outputs": [
    {
     "data": {
      "text/html": [
       "<div>\n",
       "<style scoped>\n",
       "    .dataframe tbody tr th:only-of-type {\n",
       "        vertical-align: middle;\n",
       "    }\n",
       "\n",
       "    .dataframe tbody tr th {\n",
       "        vertical-align: top;\n",
       "    }\n",
       "\n",
       "    .dataframe thead th {\n",
       "        text-align: right;\n",
       "    }\n",
       "</style>\n",
       "<table border=\"1\" class=\"dataframe\">\n",
       "  <thead>\n",
       "    <tr style=\"text-align: right;\">\n",
       "      <th></th>\n",
       "      <th>order_id</th>\n",
       "      <th>user_id</th>\n",
       "      <th>order_number</th>\n",
       "      <th>order_day_of_the_week</th>\n",
       "      <th>order_hour_of_day</th>\n",
       "      <th>days_since_prior_order</th>\n",
       "      <th>product_id</th>\n",
       "      <th>add_to_cart_order</th>\n",
       "      <th>reordered</th>\n",
       "      <th>_merge</th>\n",
       "    </tr>\n",
       "  </thead>\n",
       "  <tbody>\n",
       "    <tr>\n",
       "      <th>0</th>\n",
       "      <td>2539329</td>\n",
       "      <td>1</td>\n",
       "      <td>1</td>\n",
       "      <td>2</td>\n",
       "      <td>8</td>\n",
       "      <td>NaN</td>\n",
       "      <td>196</td>\n",
       "      <td>1.0</td>\n",
       "      <td>0.0</td>\n",
       "      <td>both</td>\n",
       "    </tr>\n",
       "    <tr>\n",
       "      <th>1</th>\n",
       "      <td>2539329</td>\n",
       "      <td>1</td>\n",
       "      <td>1</td>\n",
       "      <td>2</td>\n",
       "      <td>8</td>\n",
       "      <td>NaN</td>\n",
       "      <td>14084</td>\n",
       "      <td>2.0</td>\n",
       "      <td>0.0</td>\n",
       "      <td>both</td>\n",
       "    </tr>\n",
       "    <tr>\n",
       "      <th>2</th>\n",
       "      <td>2539329</td>\n",
       "      <td>1</td>\n",
       "      <td>1</td>\n",
       "      <td>2</td>\n",
       "      <td>8</td>\n",
       "      <td>NaN</td>\n",
       "      <td>12427</td>\n",
       "      <td>3.0</td>\n",
       "      <td>0.0</td>\n",
       "      <td>both</td>\n",
       "    </tr>\n",
       "    <tr>\n",
       "      <th>3</th>\n",
       "      <td>2539329</td>\n",
       "      <td>1</td>\n",
       "      <td>1</td>\n",
       "      <td>2</td>\n",
       "      <td>8</td>\n",
       "      <td>NaN</td>\n",
       "      <td>26088</td>\n",
       "      <td>4.0</td>\n",
       "      <td>0.0</td>\n",
       "      <td>both</td>\n",
       "    </tr>\n",
       "    <tr>\n",
       "      <th>4</th>\n",
       "      <td>2539329</td>\n",
       "      <td>1</td>\n",
       "      <td>1</td>\n",
       "      <td>2</td>\n",
       "      <td>8</td>\n",
       "      <td>NaN</td>\n",
       "      <td>26405</td>\n",
       "      <td>5.0</td>\n",
       "      <td>0.0</td>\n",
       "      <td>both</td>\n",
       "    </tr>\n",
       "  </tbody>\n",
       "</table>\n",
       "</div>"
      ],
      "text/plain": [
       "  order_id user_id  order_number  order_day_of_the_week  order_hour_of_day  \\\n",
       "0  2539329       1             1                      2                  8   \n",
       "1  2539329       1             1                      2                  8   \n",
       "2  2539329       1             1                      2                  8   \n",
       "3  2539329       1             1                      2                  8   \n",
       "4  2539329       1             1                      2                  8   \n",
       "\n",
       "   days_since_prior_order product_id  add_to_cart_order  reordered _merge  \n",
       "0                     NaN        196                1.0        0.0   both  \n",
       "1                     NaN      14084                2.0        0.0   both  \n",
       "2                     NaN      12427                3.0        0.0   both  \n",
       "3                     NaN      26088                4.0        0.0   both  \n",
       "4                     NaN      26405                5.0        0.0   both  "
      ]
     },
     "execution_count": 58,
     "metadata": {},
     "output_type": "execute_result"
    }
   ],
   "source": [
    "df_ORDS_large.head()"
   ]
  },
  {
   "cell_type": "code",
   "execution_count": 60,
   "id": "67137ae6",
   "metadata": {},
   "outputs": [
    {
     "data": {
      "text/plain": [
       "both          32434489\n",
       "left_only       206209\n",
       "right_only           0\n",
       "Name: _merge, dtype: int64"
      ]
     },
     "execution_count": 60,
     "metadata": {},
     "output_type": "execute_result"
    }
   ],
   "source": [
    "df_ORDS_large['_merge'].value_counts()"
   ]
  },
  {
   "cell_type": "code",
   "execution_count": 61,
   "id": "8e6d842e",
   "metadata": {},
   "outputs": [],
   "source": [
    "# Drop the \"_merge\" column as it will prevent me from using the indicator during next merge\n",
    "\n",
    "df_ORDS_large.drop(columns = ['_merge'], inplace = True)"
   ]
  },
  {
   "cell_type": "code",
   "execution_count": 63,
   "id": "c5f063ae",
   "metadata": {},
   "outputs": [],
   "source": [
    "df_ORDS_large.to_csv(r'D:\\CareerFoundry\\Data Immersion\\Task 4\\Instacart Basket Analysis_2021-07-22\\02 Data\\Prepared Data\\df_ORDS_large_wrangled_final.csv', index=False)\n",
    "\n",
    "df_ORDS_large.to_pickle(r'D:\\CareerFoundry\\Data Immersion\\Task 4\\Instacart Basket Analysis_2021-07-22\\02 Data\\Prepared Data\\df_ORDS_large_wrangled_final.pkl')"
   ]
  },
  {
   "cell_type": "markdown",
   "id": "df723427",
   "metadata": {},
   "source": [
    "# For continuation refer to notebook 2_Final_Instacart"
   ]
  }
 ],
 "metadata": {
  "kernelspec": {
   "display_name": "Python 3",
   "language": "python",
   "name": "python3"
  },
  "language_info": {
   "codemirror_mode": {
    "name": "ipython",
    "version": 3
   },
   "file_extension": ".py",
   "mimetype": "text/x-python",
   "name": "python",
   "nbconvert_exporter": "python",
   "pygments_lexer": "ipython3",
   "version": "3.8.8"
  }
 },
 "nbformat": 4,
 "nbformat_minor": 5
}
