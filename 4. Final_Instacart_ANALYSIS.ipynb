{
 "cells": [
  {
   "cell_type": "markdown",
   "id": "1a6c3db0",
   "metadata": {},
   "source": [
    "# HOMEWORK part 1"
   ]
  },
  {
   "cell_type": "markdown",
   "id": "5412c82a",
   "metadata": {},
   "source": [
    "Task 4.10: Coding Etiquette & Excel Reporting\n",
    "\n",
    "Content:\n",
    "\n",
    "1. Importing libraries and files\n",
    "2. Security implications\n",
    "3. Comparing customer behaviour by regions\n",
    "4. Low-activity customers\n",
    "5. Customer profiling\n",
    "6. Visualizations of the profiles\n",
    "7. Frequency and expenditure in customer profiles\n",
    "8. Comparing customer profiles by regions and departments\n",
    "9. Visualizations"
   ]
  },
  {
   "cell_type": "markdown",
   "id": "4b6ea28e",
   "metadata": {},
   "source": [
    "# 1 . Importing libraries and files"
   ]
  },
  {
   "cell_type": "markdown",
   "id": "899e960d",
   "metadata": {},
   "source": [
    "Task: Import the data set you exported in Exercise 4.9 into a new Jupyter notebook. This should be the merged version of your data that contains the new customers column."
   ]
  },
  {
   "cell_type": "code",
   "execution_count": 1,
   "id": "8f58156f",
   "metadata": {},
   "outputs": [],
   "source": [
    "# Importing libraries\n",
    "\n",
    "import pandas as pd\n",
    "import numpy as np\n",
    "import os\n",
    "import matplotlib.pyplot as plt\n",
    "import seaborn as sns\n",
    "import scipy"
   ]
  },
  {
   "cell_type": "code",
   "execution_count": 2,
   "id": "fa9d0c92",
   "metadata": {},
   "outputs": [],
   "source": [
    "# Importing the pkl file\n",
    "\n",
    "df_COP_large = pd.read_pickle(r'D:\\CareerFoundry\\Data Immersion\\Task 4\\Instacart Basket Analysis_2021-07-22\\02 Data\\Prepared Data\\df_CPO_merged.pkl')"
   ]
  },
  {
   "cell_type": "code",
   "execution_count": 11,
   "id": "df295a49",
   "metadata": {},
   "outputs": [
    {
     "name": "stdout",
     "output_type": "stream",
     "text": [
      "<class 'pandas.core.frame.DataFrame'>\n",
      "Int64Index: 32642450 entries, 0 to 32642449\n",
      "Data columns (total 22 columns):\n",
      " #   Column                  Dtype  \n",
      "---  ------                  -----  \n",
      " 0   order_id                float64\n",
      " 1   user_id                 float64\n",
      " 2   order_number            float64\n",
      " 3   order_of_the_week       float64\n",
      " 4   order_hour_of_day       float64\n",
      " 5   days_since_prior_order  float64\n",
      " 6   product_id              float64\n",
      " 7   add_to_cart_order       float64\n",
      " 8   reordered               float64\n",
      " 9   product_name            object \n",
      " 10  aisle_id                float64\n",
      " 11  department_id           float64\n",
      " 12  prices                  float64\n",
      " 13  first_name              object \n",
      " 14  last_name               object \n",
      " 15  gender                  object \n",
      " 16  state                   object \n",
      " 17  age                     int64  \n",
      " 18  date_joined             object \n",
      " 19  n_dependants            int64  \n",
      " 20  fam_status              object \n",
      " 21  income                  int64  \n",
      "dtypes: float64(12), int64(3), object(7)\n",
      "memory usage: 5.6+ GB\n"
     ]
    }
   ],
   "source": [
    "df_COP_large.info()"
   ]
  },
  {
   "cell_type": "code",
   "execution_count": 4,
   "id": "c240cb37",
   "metadata": {},
   "outputs": [],
   "source": [
    "# Since I had so many problems with the dataset size, I am creating a sample containing 20% of records. \n",
    "# Total entries for the entire set = 32642450 before sampling.\n",
    "\n",
    "dev = np.random.rand(len(df_COP_large)) <= 0.9"
   ]
  },
  {
   "cell_type": "code",
   "execution_count": 5,
   "id": "ef28d1a3",
   "metadata": {},
   "outputs": [],
   "source": [
    "small_df_COP = df_COP_large[~dev]"
   ]
  },
  {
   "cell_type": "code",
   "execution_count": 6,
   "id": "1118837c",
   "metadata": {},
   "outputs": [],
   "source": [
    "# Export the file and then import again to work on a smaller set\n",
    "\n",
    "small_df_COP.to_pickle(r'D:\\CareerFoundry\\Data Immersion\\Task 4\\Instacart Basket Analysis_2021-07-22\\02 Data\\Prepared Data\\df_CPO_merged_small.pkl')"
   ]
  },
  {
   "cell_type": "code",
   "execution_count": 2,
   "id": "2e575db7",
   "metadata": {},
   "outputs": [],
   "source": [
    "df_COP = pd.read_pickle (r'D:\\CareerFoundry\\Data Immersion\\Task 4\\Instacart Basket Analysis_2021-07-22\\02 Data\\Prepared Data\\df_CPO_merged_small.pkl')"
   ]
  },
  {
   "cell_type": "code",
   "execution_count": 3,
   "id": "48205ff0",
   "metadata": {},
   "outputs": [
    {
     "data": {
      "text/html": [
       "<div>\n",
       "<style scoped>\n",
       "    .dataframe tbody tr th:only-of-type {\n",
       "        vertical-align: middle;\n",
       "    }\n",
       "\n",
       "    .dataframe tbody tr th {\n",
       "        vertical-align: top;\n",
       "    }\n",
       "\n",
       "    .dataframe thead th {\n",
       "        text-align: right;\n",
       "    }\n",
       "</style>\n",
       "<table border=\"1\" class=\"dataframe\">\n",
       "  <thead>\n",
       "    <tr style=\"text-align: right;\">\n",
       "      <th></th>\n",
       "      <th>order_id</th>\n",
       "      <th>user_id</th>\n",
       "      <th>order_number</th>\n",
       "      <th>order_of_the_week</th>\n",
       "      <th>order_hour_of_day</th>\n",
       "      <th>days_since_prior_order</th>\n",
       "      <th>product_id</th>\n",
       "      <th>add_to_cart_order</th>\n",
       "      <th>reordered</th>\n",
       "      <th>product_name</th>\n",
       "      <th>...</th>\n",
       "      <th>prices</th>\n",
       "      <th>first_name</th>\n",
       "      <th>last_name</th>\n",
       "      <th>gender</th>\n",
       "      <th>state</th>\n",
       "      <th>age</th>\n",
       "      <th>date_joined</th>\n",
       "      <th>n_dependants</th>\n",
       "      <th>fam_status</th>\n",
       "      <th>income</th>\n",
       "    </tr>\n",
       "  </thead>\n",
       "  <tbody>\n",
       "    <tr>\n",
       "      <th>1</th>\n",
       "      <td>2398795.0</td>\n",
       "      <td>1.0</td>\n",
       "      <td>2.0</td>\n",
       "      <td>3.0</td>\n",
       "      <td>7.0</td>\n",
       "      <td>15.0</td>\n",
       "      <td>196.0</td>\n",
       "      <td>1.0</td>\n",
       "      <td>1.0</td>\n",
       "      <td>Soda</td>\n",
       "      <td>...</td>\n",
       "      <td>9.0</td>\n",
       "      <td>Linda</td>\n",
       "      <td>Nguyen</td>\n",
       "      <td>Female</td>\n",
       "      <td>Alabama</td>\n",
       "      <td>31</td>\n",
       "      <td>2/17/2019</td>\n",
       "      <td>3</td>\n",
       "      <td>married</td>\n",
       "      <td>40423</td>\n",
       "    </tr>\n",
       "    <tr>\n",
       "      <th>9</th>\n",
       "      <td>2550362.0</td>\n",
       "      <td>1.0</td>\n",
       "      <td>10.0</td>\n",
       "      <td>4.0</td>\n",
       "      <td>8.0</td>\n",
       "      <td>30.0</td>\n",
       "      <td>196.0</td>\n",
       "      <td>1.0</td>\n",
       "      <td>1.0</td>\n",
       "      <td>Soda</td>\n",
       "      <td>...</td>\n",
       "      <td>9.0</td>\n",
       "      <td>Linda</td>\n",
       "      <td>Nguyen</td>\n",
       "      <td>Female</td>\n",
       "      <td>Alabama</td>\n",
       "      <td>31</td>\n",
       "      <td>2/17/2019</td>\n",
       "      <td>3</td>\n",
       "      <td>married</td>\n",
       "      <td>40423</td>\n",
       "    </tr>\n",
       "    <tr>\n",
       "      <th>14</th>\n",
       "      <td>2254736.0</td>\n",
       "      <td>1.0</td>\n",
       "      <td>4.0</td>\n",
       "      <td>4.0</td>\n",
       "      <td>7.0</td>\n",
       "      <td>29.0</td>\n",
       "      <td>12427.0</td>\n",
       "      <td>2.0</td>\n",
       "      <td>1.0</td>\n",
       "      <td>Original Beef Jerky</td>\n",
       "      <td>...</td>\n",
       "      <td>4.4</td>\n",
       "      <td>Linda</td>\n",
       "      <td>Nguyen</td>\n",
       "      <td>Female</td>\n",
       "      <td>Alabama</td>\n",
       "      <td>31</td>\n",
       "      <td>2/17/2019</td>\n",
       "      <td>3</td>\n",
       "      <td>married</td>\n",
       "      <td>40423</td>\n",
       "    </tr>\n",
       "    <tr>\n",
       "      <th>31</th>\n",
       "      <td>3108588.0</td>\n",
       "      <td>1.0</td>\n",
       "      <td>8.0</td>\n",
       "      <td>1.0</td>\n",
       "      <td>14.0</td>\n",
       "      <td>14.0</td>\n",
       "      <td>10258.0</td>\n",
       "      <td>3.0</td>\n",
       "      <td>1.0</td>\n",
       "      <td>Pistachios</td>\n",
       "      <td>...</td>\n",
       "      <td>3.0</td>\n",
       "      <td>Linda</td>\n",
       "      <td>Nguyen</td>\n",
       "      <td>Female</td>\n",
       "      <td>Alabama</td>\n",
       "      <td>31</td>\n",
       "      <td>2/17/2019</td>\n",
       "      <td>3</td>\n",
       "      <td>married</td>\n",
       "      <td>40423</td>\n",
       "    </tr>\n",
       "    <tr>\n",
       "      <th>47</th>\n",
       "      <td>473747.0</td>\n",
       "      <td>1.0</td>\n",
       "      <td>3.0</td>\n",
       "      <td>3.0</td>\n",
       "      <td>12.0</td>\n",
       "      <td>21.0</td>\n",
       "      <td>30450.0</td>\n",
       "      <td>5.0</td>\n",
       "      <td>0.0</td>\n",
       "      <td>Creamy Almond Butter</td>\n",
       "      <td>...</td>\n",
       "      <td>3.2</td>\n",
       "      <td>Linda</td>\n",
       "      <td>Nguyen</td>\n",
       "      <td>Female</td>\n",
       "      <td>Alabama</td>\n",
       "      <td>31</td>\n",
       "      <td>2/17/2019</td>\n",
       "      <td>3</td>\n",
       "      <td>married</td>\n",
       "      <td>40423</td>\n",
       "    </tr>\n",
       "  </tbody>\n",
       "</table>\n",
       "<p>5 rows × 22 columns</p>\n",
       "</div>"
      ],
      "text/plain": [
       "     order_id  user_id  order_number  order_of_the_week  order_hour_of_day  \\\n",
       "1   2398795.0      1.0           2.0                3.0                7.0   \n",
       "9   2550362.0      1.0          10.0                4.0                8.0   \n",
       "14  2254736.0      1.0           4.0                4.0                7.0   \n",
       "31  3108588.0      1.0           8.0                1.0               14.0   \n",
       "47   473747.0      1.0           3.0                3.0               12.0   \n",
       "\n",
       "    days_since_prior_order  product_id  add_to_cart_order  reordered  \\\n",
       "1                     15.0       196.0                1.0        1.0   \n",
       "9                     30.0       196.0                1.0        1.0   \n",
       "14                    29.0     12427.0                2.0        1.0   \n",
       "31                    14.0     10258.0                3.0        1.0   \n",
       "47                    21.0     30450.0                5.0        0.0   \n",
       "\n",
       "            product_name  ...  prices  first_name  last_name  gender    state  \\\n",
       "1                   Soda  ...     9.0       Linda     Nguyen  Female  Alabama   \n",
       "9                   Soda  ...     9.0       Linda     Nguyen  Female  Alabama   \n",
       "14   Original Beef Jerky  ...     4.4       Linda     Nguyen  Female  Alabama   \n",
       "31            Pistachios  ...     3.0       Linda     Nguyen  Female  Alabama   \n",
       "47  Creamy Almond Butter  ...     3.2       Linda     Nguyen  Female  Alabama   \n",
       "\n",
       "   age date_joined  n_dependants fam_status  income  \n",
       "1   31   2/17/2019             3    married   40423  \n",
       "9   31   2/17/2019             3    married   40423  \n",
       "14  31   2/17/2019             3    married   40423  \n",
       "31  31   2/17/2019             3    married   40423  \n",
       "47  31   2/17/2019             3    married   40423  \n",
       "\n",
       "[5 rows x 22 columns]"
      ]
     },
     "execution_count": 3,
     "metadata": {},
     "output_type": "execute_result"
    }
   ],
   "source": [
    "df_COP.head()"
   ]
  },
  {
   "cell_type": "markdown",
   "id": "a11308e7",
   "metadata": {},
   "source": [
    "# 2. Security implications"
   ]
  },
  {
   "cell_type": "markdown",
   "id": "598b36f0",
   "metadata": {},
   "source": [
    "Task: Consider any security implications that might exist for this new data.\n",
    "You’ll need to address any PII data in the data before continuing your analysis.\n",
    "\n",
    "PII (personally identifiable information) is data that could potentially lead to tracing back to a particualr person. \n",
    "Particualry sensitive are names, email addresses, physical addressses, and phone numbers. In my dataset, there are two columns that contain PII: \"first_name\" and \"last_name\". I need to drop both columns."
   ]
  },
  {
   "cell_type": "code",
   "execution_count": 4,
   "id": "0f343074",
   "metadata": {},
   "outputs": [
    {
     "name": "stdout",
     "output_type": "stream",
     "text": [
      "<class 'pandas.core.frame.DataFrame'>\n",
      "Int64Index: 3264017 entries, 1 to 32642439\n",
      "Data columns (total 22 columns):\n",
      " #   Column                  Dtype  \n",
      "---  ------                  -----  \n",
      " 0   order_id                float64\n",
      " 1   user_id                 float64\n",
      " 2   order_number            float64\n",
      " 3   order_of_the_week       float64\n",
      " 4   order_hour_of_day       float64\n",
      " 5   days_since_prior_order  float64\n",
      " 6   product_id              float64\n",
      " 7   add_to_cart_order       float64\n",
      " 8   reordered               float64\n",
      " 9   product_name            object \n",
      " 10  aisle_id                float64\n",
      " 11  department_id           float64\n",
      " 12  prices                  float64\n",
      " 13  first_name              object \n",
      " 14  last_name               object \n",
      " 15  gender                  object \n",
      " 16  state                   object \n",
      " 17  age                     int64  \n",
      " 18  date_joined             object \n",
      " 19  n_dependants            int64  \n",
      " 20  fam_status              object \n",
      " 21  income                  int64  \n",
      "dtypes: float64(12), int64(3), object(7)\n",
      "memory usage: 572.8+ MB\n"
     ]
    }
   ],
   "source": [
    "# Display the column names to check for the PII-sensitive ones\n",
    "\n",
    "df_COP.info()"
   ]
  },
  {
   "cell_type": "code",
   "execution_count": 5,
   "id": "ace382f9",
   "metadata": {},
   "outputs": [
    {
     "data": {
      "text/html": [
       "<div>\n",
       "<style scoped>\n",
       "    .dataframe tbody tr th:only-of-type {\n",
       "        vertical-align: middle;\n",
       "    }\n",
       "\n",
       "    .dataframe tbody tr th {\n",
       "        vertical-align: top;\n",
       "    }\n",
       "\n",
       "    .dataframe thead th {\n",
       "        text-align: right;\n",
       "    }\n",
       "</style>\n",
       "<table border=\"1\" class=\"dataframe\">\n",
       "  <thead>\n",
       "    <tr style=\"text-align: right;\">\n",
       "      <th></th>\n",
       "      <th>order_id</th>\n",
       "      <th>user_id</th>\n",
       "      <th>order_number</th>\n",
       "      <th>order_of_the_week</th>\n",
       "      <th>order_hour_of_day</th>\n",
       "      <th>days_since_prior_order</th>\n",
       "      <th>product_id</th>\n",
       "      <th>add_to_cart_order</th>\n",
       "      <th>reordered</th>\n",
       "      <th>product_name</th>\n",
       "      <th>aisle_id</th>\n",
       "      <th>department_id</th>\n",
       "      <th>prices</th>\n",
       "      <th>gender</th>\n",
       "      <th>state</th>\n",
       "      <th>age</th>\n",
       "      <th>date_joined</th>\n",
       "      <th>n_dependants</th>\n",
       "      <th>fam_status</th>\n",
       "      <th>income</th>\n",
       "    </tr>\n",
       "  </thead>\n",
       "  <tbody>\n",
       "    <tr>\n",
       "      <th>1</th>\n",
       "      <td>2398795.0</td>\n",
       "      <td>1.0</td>\n",
       "      <td>2.0</td>\n",
       "      <td>3.0</td>\n",
       "      <td>7.0</td>\n",
       "      <td>15.0</td>\n",
       "      <td>196.0</td>\n",
       "      <td>1.0</td>\n",
       "      <td>1.0</td>\n",
       "      <td>Soda</td>\n",
       "      <td>77.0</td>\n",
       "      <td>7.0</td>\n",
       "      <td>9.0</td>\n",
       "      <td>Female</td>\n",
       "      <td>Alabama</td>\n",
       "      <td>31</td>\n",
       "      <td>2/17/2019</td>\n",
       "      <td>3</td>\n",
       "      <td>married</td>\n",
       "      <td>40423</td>\n",
       "    </tr>\n",
       "    <tr>\n",
       "      <th>9</th>\n",
       "      <td>2550362.0</td>\n",
       "      <td>1.0</td>\n",
       "      <td>10.0</td>\n",
       "      <td>4.0</td>\n",
       "      <td>8.0</td>\n",
       "      <td>30.0</td>\n",
       "      <td>196.0</td>\n",
       "      <td>1.0</td>\n",
       "      <td>1.0</td>\n",
       "      <td>Soda</td>\n",
       "      <td>77.0</td>\n",
       "      <td>7.0</td>\n",
       "      <td>9.0</td>\n",
       "      <td>Female</td>\n",
       "      <td>Alabama</td>\n",
       "      <td>31</td>\n",
       "      <td>2/17/2019</td>\n",
       "      <td>3</td>\n",
       "      <td>married</td>\n",
       "      <td>40423</td>\n",
       "    </tr>\n",
       "    <tr>\n",
       "      <th>14</th>\n",
       "      <td>2254736.0</td>\n",
       "      <td>1.0</td>\n",
       "      <td>4.0</td>\n",
       "      <td>4.0</td>\n",
       "      <td>7.0</td>\n",
       "      <td>29.0</td>\n",
       "      <td>12427.0</td>\n",
       "      <td>2.0</td>\n",
       "      <td>1.0</td>\n",
       "      <td>Original Beef Jerky</td>\n",
       "      <td>23.0</td>\n",
       "      <td>19.0</td>\n",
       "      <td>4.4</td>\n",
       "      <td>Female</td>\n",
       "      <td>Alabama</td>\n",
       "      <td>31</td>\n",
       "      <td>2/17/2019</td>\n",
       "      <td>3</td>\n",
       "      <td>married</td>\n",
       "      <td>40423</td>\n",
       "    </tr>\n",
       "    <tr>\n",
       "      <th>31</th>\n",
       "      <td>3108588.0</td>\n",
       "      <td>1.0</td>\n",
       "      <td>8.0</td>\n",
       "      <td>1.0</td>\n",
       "      <td>14.0</td>\n",
       "      <td>14.0</td>\n",
       "      <td>10258.0</td>\n",
       "      <td>3.0</td>\n",
       "      <td>1.0</td>\n",
       "      <td>Pistachios</td>\n",
       "      <td>117.0</td>\n",
       "      <td>19.0</td>\n",
       "      <td>3.0</td>\n",
       "      <td>Female</td>\n",
       "      <td>Alabama</td>\n",
       "      <td>31</td>\n",
       "      <td>2/17/2019</td>\n",
       "      <td>3</td>\n",
       "      <td>married</td>\n",
       "      <td>40423</td>\n",
       "    </tr>\n",
       "    <tr>\n",
       "      <th>47</th>\n",
       "      <td>473747.0</td>\n",
       "      <td>1.0</td>\n",
       "      <td>3.0</td>\n",
       "      <td>3.0</td>\n",
       "      <td>12.0</td>\n",
       "      <td>21.0</td>\n",
       "      <td>30450.0</td>\n",
       "      <td>5.0</td>\n",
       "      <td>0.0</td>\n",
       "      <td>Creamy Almond Butter</td>\n",
       "      <td>88.0</td>\n",
       "      <td>13.0</td>\n",
       "      <td>3.2</td>\n",
       "      <td>Female</td>\n",
       "      <td>Alabama</td>\n",
       "      <td>31</td>\n",
       "      <td>2/17/2019</td>\n",
       "      <td>3</td>\n",
       "      <td>married</td>\n",
       "      <td>40423</td>\n",
       "    </tr>\n",
       "    <tr>\n",
       "      <th>...</th>\n",
       "      <td>...</td>\n",
       "      <td>...</td>\n",
       "      <td>...</td>\n",
       "      <td>...</td>\n",
       "      <td>...</td>\n",
       "      <td>...</td>\n",
       "      <td>...</td>\n",
       "      <td>...</td>\n",
       "      <td>...</td>\n",
       "      <td>...</td>\n",
       "      <td>...</td>\n",
       "      <td>...</td>\n",
       "      <td>...</td>\n",
       "      <td>...</td>\n",
       "      <td>...</td>\n",
       "      <td>...</td>\n",
       "      <td>...</td>\n",
       "      <td>...</td>\n",
       "      <td>...</td>\n",
       "      <td>...</td>\n",
       "    </tr>\n",
       "    <tr>\n",
       "      <th>32642404</th>\n",
       "      <td>2511735.0</td>\n",
       "      <td>206204.0</td>\n",
       "      <td>2.0</td>\n",
       "      <td>5.0</td>\n",
       "      <td>8.0</td>\n",
       "      <td>11.0</td>\n",
       "      <td>43961.0</td>\n",
       "      <td>1.0</td>\n",
       "      <td>1.0</td>\n",
       "      <td>Organic Peeled Whole Baby Carrots</td>\n",
       "      <td>123.0</td>\n",
       "      <td>4.0</td>\n",
       "      <td>3.8</td>\n",
       "      <td>Female</td>\n",
       "      <td>Georgia</td>\n",
       "      <td>26</td>\n",
       "      <td>9/3/2017</td>\n",
       "      <td>2</td>\n",
       "      <td>married</td>\n",
       "      <td>47024</td>\n",
       "    </tr>\n",
       "    <tr>\n",
       "      <th>32642412</th>\n",
       "      <td>1380497.0</td>\n",
       "      <td>206204.0</td>\n",
       "      <td>4.0</td>\n",
       "      <td>4.0</td>\n",
       "      <td>15.0</td>\n",
       "      <td>25.0</td>\n",
       "      <td>5646.0</td>\n",
       "      <td>4.0</td>\n",
       "      <td>1.0</td>\n",
       "      <td>Organic Turkey Bacon</td>\n",
       "      <td>106.0</td>\n",
       "      <td>12.0</td>\n",
       "      <td>24.2</td>\n",
       "      <td>Female</td>\n",
       "      <td>Georgia</td>\n",
       "      <td>26</td>\n",
       "      <td>9/3/2017</td>\n",
       "      <td>2</td>\n",
       "      <td>married</td>\n",
       "      <td>47024</td>\n",
       "    </tr>\n",
       "    <tr>\n",
       "      <th>32642413</th>\n",
       "      <td>2511735.0</td>\n",
       "      <td>206204.0</td>\n",
       "      <td>2.0</td>\n",
       "      <td>5.0</td>\n",
       "      <td>8.0</td>\n",
       "      <td>11.0</td>\n",
       "      <td>13083.0</td>\n",
       "      <td>11.0</td>\n",
       "      <td>0.0</td>\n",
       "      <td>Lowfat Small Curd Cottage Cheese</td>\n",
       "      <td>108.0</td>\n",
       "      <td>16.0</td>\n",
       "      <td>9.4</td>\n",
       "      <td>Female</td>\n",
       "      <td>Georgia</td>\n",
       "      <td>26</td>\n",
       "      <td>9/3/2017</td>\n",
       "      <td>2</td>\n",
       "      <td>married</td>\n",
       "      <td>47024</td>\n",
       "    </tr>\n",
       "    <tr>\n",
       "      <th>32642417</th>\n",
       "      <td>2511735.0</td>\n",
       "      <td>206204.0</td>\n",
       "      <td>2.0</td>\n",
       "      <td>5.0</td>\n",
       "      <td>8.0</td>\n",
       "      <td>11.0</td>\n",
       "      <td>34969.0</td>\n",
       "      <td>9.0</td>\n",
       "      <td>0.0</td>\n",
       "      <td>Red Vine Tomato</td>\n",
       "      <td>83.0</td>\n",
       "      <td>4.0</td>\n",
       "      <td>4.5</td>\n",
       "      <td>Female</td>\n",
       "      <td>Georgia</td>\n",
       "      <td>26</td>\n",
       "      <td>9/3/2017</td>\n",
       "      <td>2</td>\n",
       "      <td>married</td>\n",
       "      <td>47024</td>\n",
       "    </tr>\n",
       "    <tr>\n",
       "      <th>32642439</th>\n",
       "      <td>1380497.0</td>\n",
       "      <td>206204.0</td>\n",
       "      <td>4.0</td>\n",
       "      <td>4.0</td>\n",
       "      <td>15.0</td>\n",
       "      <td>25.0</td>\n",
       "      <td>15649.0</td>\n",
       "      <td>2.0</td>\n",
       "      <td>1.0</td>\n",
       "      <td>Baby Seedless Cucumbers</td>\n",
       "      <td>83.0</td>\n",
       "      <td>4.0</td>\n",
       "      <td>6.9</td>\n",
       "      <td>Female</td>\n",
       "      <td>Georgia</td>\n",
       "      <td>26</td>\n",
       "      <td>9/3/2017</td>\n",
       "      <td>2</td>\n",
       "      <td>married</td>\n",
       "      <td>47024</td>\n",
       "    </tr>\n",
       "  </tbody>\n",
       "</table>\n",
       "<p>3264017 rows × 20 columns</p>\n",
       "</div>"
      ],
      "text/plain": [
       "           order_id   user_id  order_number  order_of_the_week  \\\n",
       "1         2398795.0       1.0           2.0                3.0   \n",
       "9         2550362.0       1.0          10.0                4.0   \n",
       "14        2254736.0       1.0           4.0                4.0   \n",
       "31        3108588.0       1.0           8.0                1.0   \n",
       "47         473747.0       1.0           3.0                3.0   \n",
       "...             ...       ...           ...                ...   \n",
       "32642404  2511735.0  206204.0           2.0                5.0   \n",
       "32642412  1380497.0  206204.0           4.0                4.0   \n",
       "32642413  2511735.0  206204.0           2.0                5.0   \n",
       "32642417  2511735.0  206204.0           2.0                5.0   \n",
       "32642439  1380497.0  206204.0           4.0                4.0   \n",
       "\n",
       "          order_hour_of_day  days_since_prior_order  product_id  \\\n",
       "1                       7.0                    15.0       196.0   \n",
       "9                       8.0                    30.0       196.0   \n",
       "14                      7.0                    29.0     12427.0   \n",
       "31                     14.0                    14.0     10258.0   \n",
       "47                     12.0                    21.0     30450.0   \n",
       "...                     ...                     ...         ...   \n",
       "32642404                8.0                    11.0     43961.0   \n",
       "32642412               15.0                    25.0      5646.0   \n",
       "32642413                8.0                    11.0     13083.0   \n",
       "32642417                8.0                    11.0     34969.0   \n",
       "32642439               15.0                    25.0     15649.0   \n",
       "\n",
       "          add_to_cart_order  reordered                       product_name  \\\n",
       "1                       1.0        1.0                               Soda   \n",
       "9                       1.0        1.0                               Soda   \n",
       "14                      2.0        1.0                Original Beef Jerky   \n",
       "31                      3.0        1.0                         Pistachios   \n",
       "47                      5.0        0.0               Creamy Almond Butter   \n",
       "...                     ...        ...                                ...   \n",
       "32642404                1.0        1.0  Organic Peeled Whole Baby Carrots   \n",
       "32642412                4.0        1.0               Organic Turkey Bacon   \n",
       "32642413               11.0        0.0   Lowfat Small Curd Cottage Cheese   \n",
       "32642417                9.0        0.0                    Red Vine Tomato   \n",
       "32642439                2.0        1.0            Baby Seedless Cucumbers   \n",
       "\n",
       "          aisle_id  department_id  prices  gender    state  age date_joined  \\\n",
       "1             77.0            7.0     9.0  Female  Alabama   31   2/17/2019   \n",
       "9             77.0            7.0     9.0  Female  Alabama   31   2/17/2019   \n",
       "14            23.0           19.0     4.4  Female  Alabama   31   2/17/2019   \n",
       "31           117.0           19.0     3.0  Female  Alabama   31   2/17/2019   \n",
       "47            88.0           13.0     3.2  Female  Alabama   31   2/17/2019   \n",
       "...            ...            ...     ...     ...      ...  ...         ...   \n",
       "32642404     123.0            4.0     3.8  Female  Georgia   26    9/3/2017   \n",
       "32642412     106.0           12.0    24.2  Female  Georgia   26    9/3/2017   \n",
       "32642413     108.0           16.0     9.4  Female  Georgia   26    9/3/2017   \n",
       "32642417      83.0            4.0     4.5  Female  Georgia   26    9/3/2017   \n",
       "32642439      83.0            4.0     6.9  Female  Georgia   26    9/3/2017   \n",
       "\n",
       "          n_dependants fam_status  income  \n",
       "1                    3    married   40423  \n",
       "9                    3    married   40423  \n",
       "14                   3    married   40423  \n",
       "31                   3    married   40423  \n",
       "47                   3    married   40423  \n",
       "...                ...        ...     ...  \n",
       "32642404             2    married   47024  \n",
       "32642412             2    married   47024  \n",
       "32642413             2    married   47024  \n",
       "32642417             2    married   47024  \n",
       "32642439             2    married   47024  \n",
       "\n",
       "[3264017 rows x 20 columns]"
      ]
     },
     "execution_count": 5,
     "metadata": {},
     "output_type": "execute_result"
    }
   ],
   "source": [
    "# Drop both columns: \"first_name\" and \"last_name\" to address PII\n",
    "\n",
    "df_COP.drop(columns = ['first_name','last_name'])"
   ]
  },
  {
   "cell_type": "markdown",
   "id": "73600943",
   "metadata": {},
   "source": [
    "# 3. Comparing customer behaviour by regions"
   ]
  },
  {
   "cell_type": "markdown",
   "id": "03d61916",
   "metadata": {},
   "source": [
    "The Instacart officers are interested in comparing customer behavior in different geographic areas. Create a regional segmentation of the data. You’ll need to create a “Region” column based on the “State” column from your customers data set."
   ]
  },
  {
   "cell_type": "markdown",
   "id": "5cf9a604",
   "metadata": {},
   "source": [
    "## 3.1 Use the region information in this Wikipedia article to create your column (you only need to create regions, not divisions)."
   ]
  },
  {
   "cell_type": "code",
   "execution_count": 6,
   "id": "12fa60e9",
   "metadata": {},
   "outputs": [],
   "source": [
    "# Use \"if-statment for-loops\" and create and empty list\n",
    "\n",
    "result = []\n",
    "\n",
    "for state in df_COP['state']:\n",
    "    if (state == 'Maine') or (state == 'New Hampshire') or (state == 'Vermont') or (state == 'Massachusetts') or (state == 'Rhode Island') or (state == 'Connecticut') or (state == 'New York') or (state == 'Pennsylvania') or (state =='New Jersey'):\n",
    "        result.append('Northeast')\n",
    "    elif (state == 'Deleware') or (state == 'Maryland') or (state == 'District of Columbia') or (state == 'Virginia') or (state == 'West Virginia') or (state == 'North Carolina') or (state == 'South Carolina') or (state == 'Georgia') or (state == 'Florida') or (state == 'Kentucky') or (state == 'Tennessee') or (state == 'Mississippi') or (state == 'Alabama') or (state == 'Oklahoma') or (state == 'Texas') or (state == 'Arkansas') or (state == 'Louisiana'):\n",
    "        result.append('South')\n",
    "    elif (state == 'Wisconsin') or (state == 'Michigan') or (state == 'Illinois') or (state == 'Indiana') or (state == 'Ohio') or (state == 'North Dakota') or (state == 'South Dakota') or (state == 'Nebraska') or (state == 'Minnesota') or (state == 'Iowa') or (state == 'Missouri') or (state == 'Kansas'):\n",
    "        result.append('Midwest')\n",
    "    else:\n",
    "        result.append('West')"
   ]
  },
  {
   "cell_type": "code",
   "execution_count": 7,
   "id": "d823f4f9",
   "metadata": {},
   "outputs": [],
   "source": [
    "# Create the new column \"region\"\n",
    "\n",
    "df_COP['region'] = result"
   ]
  },
  {
   "cell_type": "code",
   "execution_count": 8,
   "id": "2fd56abc",
   "metadata": {},
   "outputs": [
    {
     "data": {
      "text/plain": [
       "South        1021858\n",
       "West          900824\n",
       "Midwest       764761\n",
       "Northeast     576574\n",
       "Name: region, dtype: int64"
      ]
     },
     "execution_count": 8,
     "metadata": {},
     "output_type": "execute_result"
    }
   ],
   "source": [
    "# Check the frequency\n",
    "\n",
    "df_COP['region'].value_counts(dropna = False)"
   ]
  },
  {
   "cell_type": "code",
   "execution_count": 9,
   "id": "7ac48e03",
   "metadata": {
    "scrolled": true
   },
   "outputs": [
    {
     "data": {
      "image/png": "[encoded data removed]",
      "text/plain": [
       "<Figure size 432x288 with 1 Axes>"
      ]
     },
     "metadata": {},
     "output_type": "display_data"
    }
   ],
   "source": [
    "df_reg = df_COP['region'].value_counts().plot.pie()"
   ]
  },
  {
   "cell_type": "markdown",
   "id": "6b5803ed",
   "metadata": {},
   "source": [
    "South is the mostly populated region among Instacart customers, followed by West, Midwest and Northeast."
   ]
  },
  {
   "cell_type": "code",
   "execution_count": 10,
   "id": "53fab774",
   "metadata": {},
   "outputs": [],
   "source": [
    "df_reg.figure.savefig(r'D:\\CareerFoundry\\Data Immersion\\Task 4\\Instacart Basket Analysis_2021-07-22\\04 Analysis\\Visualizations\\pie_df_reg.png')"
   ]
  },
  {
   "cell_type": "markdown",
   "id": "91419580",
   "metadata": {},
   "source": [
    "## 3.2 Determine whether there’s a difference in spending habits between the different U.S. regions. "
   ]
  },
  {
   "cell_type": "code",
   "execution_count": 11,
   "id": "039ebc5d",
   "metadata": {},
   "outputs": [],
   "source": [
    "# Create the column \"spending_avg\" that will contain the mean product prices per user\n",
    "\n",
    "df_COP['spending_avg'] = df_COP.groupby(['user_id'])['prices'].transform(np.mean)"
   ]
  },
  {
   "cell_type": "code",
   "execution_count": 12,
   "id": "cf0fcd69",
   "metadata": {},
   "outputs": [],
   "source": [
    "# Derive the column \"spending_flag\" with loc()\n",
    "\n",
    "df_COP.loc[df_COP['spending_avg'] < 10, 'spending_flag'] = 'Low spender'\n",
    "df_COP.loc[df_COP['spending_avg'] >= 10, 'spending_flag'] = 'High spender'"
   ]
  },
  {
   "cell_type": "code",
   "execution_count": 13,
   "id": "ab1d0db3",
   "metadata": {},
   "outputs": [
    {
     "data": {
      "text/plain": [
       "Low spender     3134007\n",
       "High spender     129249\n",
       "NaN                 761\n",
       "Name: spending_flag, dtype: int64"
      ]
     },
     "execution_count": 13,
     "metadata": {},
     "output_type": "execute_result"
    }
   ],
   "source": [
    "# Check the frequency\n",
    "\n",
    "df_COP['spending_flag'].value_counts(dropna = False)"
   ]
  },
  {
   "cell_type": "code",
   "execution_count": 14,
   "id": "1d6d5590",
   "metadata": {},
   "outputs": [],
   "source": [
    "# Use the crosstab to determine the spending habits\n",
    "\n",
    "df_reg_spend = pd.crosstab(df_COP['region'], df_COP['spending_flag'], dropna = False)"
   ]
  },
  {
   "cell_type": "code",
   "execution_count": 15,
   "id": "bbfffe50",
   "metadata": {},
   "outputs": [
    {
     "data": {
      "text/html": [
       "<div>\n",
       "<style scoped>\n",
       "    .dataframe tbody tr th:only-of-type {\n",
       "        vertical-align: middle;\n",
       "    }\n",
       "\n",
       "    .dataframe tbody tr th {\n",
       "        vertical-align: top;\n",
       "    }\n",
       "\n",
       "    .dataframe thead th {\n",
       "        text-align: right;\n",
       "    }\n",
       "</style>\n",
       "<table border=\"1\" class=\"dataframe\">\n",
       "  <thead>\n",
       "    <tr style=\"text-align: right;\">\n",
       "      <th>spending_flag</th>\n",
       "      <th>High spender</th>\n",
       "      <th>Low spender</th>\n",
       "    </tr>\n",
       "    <tr>\n",
       "      <th>region</th>\n",
       "      <th></th>\n",
       "      <th></th>\n",
       "    </tr>\n",
       "  </thead>\n",
       "  <tbody>\n",
       "    <tr>\n",
       "      <th>Midwest</th>\n",
       "      <td>30866</td>\n",
       "      <td>733715</td>\n",
       "    </tr>\n",
       "    <tr>\n",
       "      <th>Northeast</th>\n",
       "      <td>22517</td>\n",
       "      <td>553918</td>\n",
       "    </tr>\n",
       "    <tr>\n",
       "      <th>South</th>\n",
       "      <td>40944</td>\n",
       "      <td>980686</td>\n",
       "    </tr>\n",
       "    <tr>\n",
       "      <th>West</th>\n",
       "      <td>34922</td>\n",
       "      <td>865688</td>\n",
       "    </tr>\n",
       "  </tbody>\n",
       "</table>\n",
       "</div>"
      ],
      "text/plain": [
       "spending_flag  High spender  Low spender\n",
       "region                                  \n",
       "Midwest               30866       733715\n",
       "Northeast             22517       553918\n",
       "South                 40944       980686\n",
       "West                  34922       865688"
      ]
     },
     "execution_count": 15,
     "metadata": {},
     "output_type": "execute_result"
    }
   ],
   "source": [
    "df_reg_spend"
   ]
  },
  {
   "cell_type": "code",
   "execution_count": 16,
   "id": "53fd19f6",
   "metadata": {},
   "outputs": [
    {
     "data": {
      "image/png": "[encoded data removed]",
      "text/plain": [
       "<Figure size 432x288 with 1 Axes>"
      ]
     },
     "metadata": {
      "needs_background": "light"
     },
     "output_type": "display_data"
    }
   ],
   "source": [
    "df_reg_spend = df_reg_spend.plot.bar(color=['brown', 'yellow'], xlabel = 'Region', rot = 0).legend(loc='best')"
   ]
  },
  {
   "cell_type": "markdown",
   "id": "b580468c",
   "metadata": {},
   "source": [
    "All four regions have unproportionally more Low spenders than High spenders. Since the South region is the mostly populated one, it records the highest number of Low spenders, followed by West, Midwest and Northeast."
   ]
  },
  {
   "cell_type": "code",
   "execution_count": 17,
   "id": "74d4366f",
   "metadata": {},
   "outputs": [],
   "source": [
    "df_reg_spend.figure.savefig(r'D:\\CareerFoundry\\Data Immersion\\Task 4\\Instacart Basket Analysis_2021-07-22\\04 Analysis\\Visualizations\\bar_df_reg_spend.png')"
   ]
  },
  {
   "cell_type": "markdown",
   "id": "191e62f3",
   "metadata": {},
   "source": [
    "# 4. Low activity customers"
   ]
  },
  {
   "cell_type": "markdown",
   "id": "a196e950",
   "metadata": {},
   "source": [
    "The Instacart CFO isn’t interested in customers who don’t generate much revenue for the app. Create an exclusion flag for low-activity customers (customers with less than 5 orders) and exclude them from the data. Export the sample"
   ]
  },
  {
   "cell_type": "code",
   "execution_count": 18,
   "id": "39e2831e",
   "metadata": {},
   "outputs": [],
   "source": [
    "# Create a new column for \"max_order\"\n",
    "\n",
    "df_COP['max_order'] = df_COP.groupby(['user_id'])['order_number'].transform(np.max)"
   ]
  },
  {
   "cell_type": "code",
   "execution_count": 19,
   "id": "a3647f83",
   "metadata": {},
   "outputs": [
    {
     "data": {
      "text/html": [
       "<div>\n",
       "<style scoped>\n",
       "    .dataframe tbody tr th:only-of-type {\n",
       "        vertical-align: middle;\n",
       "    }\n",
       "\n",
       "    .dataframe tbody tr th {\n",
       "        vertical-align: top;\n",
       "    }\n",
       "\n",
       "    .dataframe thead th {\n",
       "        text-align: right;\n",
       "    }\n",
       "</style>\n",
       "<table border=\"1\" class=\"dataframe\">\n",
       "  <thead>\n",
       "    <tr style=\"text-align: right;\">\n",
       "      <th></th>\n",
       "      <th>order_id</th>\n",
       "      <th>user_id</th>\n",
       "      <th>order_number</th>\n",
       "      <th>order_of_the_week</th>\n",
       "      <th>order_hour_of_day</th>\n",
       "      <th>days_since_prior_order</th>\n",
       "      <th>product_id</th>\n",
       "      <th>add_to_cart_order</th>\n",
       "      <th>reordered</th>\n",
       "      <th>product_name</th>\n",
       "      <th>...</th>\n",
       "      <th>state</th>\n",
       "      <th>age</th>\n",
       "      <th>date_joined</th>\n",
       "      <th>n_dependants</th>\n",
       "      <th>fam_status</th>\n",
       "      <th>income</th>\n",
       "      <th>region</th>\n",
       "      <th>spending_avg</th>\n",
       "      <th>spending_flag</th>\n",
       "      <th>max_order</th>\n",
       "    </tr>\n",
       "  </thead>\n",
       "  <tbody>\n",
       "    <tr>\n",
       "      <th>1</th>\n",
       "      <td>2398795.0</td>\n",
       "      <td>1.0</td>\n",
       "      <td>2.0</td>\n",
       "      <td>3.0</td>\n",
       "      <td>7.0</td>\n",
       "      <td>15.0</td>\n",
       "      <td>196.0</td>\n",
       "      <td>1.0</td>\n",
       "      <td>1.0</td>\n",
       "      <td>Soda</td>\n",
       "      <td>...</td>\n",
       "      <td>Alabama</td>\n",
       "      <td>31</td>\n",
       "      <td>2/17/2019</td>\n",
       "      <td>3</td>\n",
       "      <td>married</td>\n",
       "      <td>40423</td>\n",
       "      <td>South</td>\n",
       "      <td>5.72</td>\n",
       "      <td>Low spender</td>\n",
       "      <td>10.0</td>\n",
       "    </tr>\n",
       "    <tr>\n",
       "      <th>9</th>\n",
       "      <td>2550362.0</td>\n",
       "      <td>1.0</td>\n",
       "      <td>10.0</td>\n",
       "      <td>4.0</td>\n",
       "      <td>8.0</td>\n",
       "      <td>30.0</td>\n",
       "      <td>196.0</td>\n",
       "      <td>1.0</td>\n",
       "      <td>1.0</td>\n",
       "      <td>Soda</td>\n",
       "      <td>...</td>\n",
       "      <td>Alabama</td>\n",
       "      <td>31</td>\n",
       "      <td>2/17/2019</td>\n",
       "      <td>3</td>\n",
       "      <td>married</td>\n",
       "      <td>40423</td>\n",
       "      <td>South</td>\n",
       "      <td>5.72</td>\n",
       "      <td>Low spender</td>\n",
       "      <td>10.0</td>\n",
       "    </tr>\n",
       "    <tr>\n",
       "      <th>14</th>\n",
       "      <td>2254736.0</td>\n",
       "      <td>1.0</td>\n",
       "      <td>4.0</td>\n",
       "      <td>4.0</td>\n",
       "      <td>7.0</td>\n",
       "      <td>29.0</td>\n",
       "      <td>12427.0</td>\n",
       "      <td>2.0</td>\n",
       "      <td>1.0</td>\n",
       "      <td>Original Beef Jerky</td>\n",
       "      <td>...</td>\n",
       "      <td>Alabama</td>\n",
       "      <td>31</td>\n",
       "      <td>2/17/2019</td>\n",
       "      <td>3</td>\n",
       "      <td>married</td>\n",
       "      <td>40423</td>\n",
       "      <td>South</td>\n",
       "      <td>5.72</td>\n",
       "      <td>Low spender</td>\n",
       "      <td>10.0</td>\n",
       "    </tr>\n",
       "    <tr>\n",
       "      <th>31</th>\n",
       "      <td>3108588.0</td>\n",
       "      <td>1.0</td>\n",
       "      <td>8.0</td>\n",
       "      <td>1.0</td>\n",
       "      <td>14.0</td>\n",
       "      <td>14.0</td>\n",
       "      <td>10258.0</td>\n",
       "      <td>3.0</td>\n",
       "      <td>1.0</td>\n",
       "      <td>Pistachios</td>\n",
       "      <td>...</td>\n",
       "      <td>Alabama</td>\n",
       "      <td>31</td>\n",
       "      <td>2/17/2019</td>\n",
       "      <td>3</td>\n",
       "      <td>married</td>\n",
       "      <td>40423</td>\n",
       "      <td>South</td>\n",
       "      <td>5.72</td>\n",
       "      <td>Low spender</td>\n",
       "      <td>10.0</td>\n",
       "    </tr>\n",
       "    <tr>\n",
       "      <th>47</th>\n",
       "      <td>473747.0</td>\n",
       "      <td>1.0</td>\n",
       "      <td>3.0</td>\n",
       "      <td>3.0</td>\n",
       "      <td>12.0</td>\n",
       "      <td>21.0</td>\n",
       "      <td>30450.0</td>\n",
       "      <td>5.0</td>\n",
       "      <td>0.0</td>\n",
       "      <td>Creamy Almond Butter</td>\n",
       "      <td>...</td>\n",
       "      <td>Alabama</td>\n",
       "      <td>31</td>\n",
       "      <td>2/17/2019</td>\n",
       "      <td>3</td>\n",
       "      <td>married</td>\n",
       "      <td>40423</td>\n",
       "      <td>South</td>\n",
       "      <td>5.72</td>\n",
       "      <td>Low spender</td>\n",
       "      <td>10.0</td>\n",
       "    </tr>\n",
       "  </tbody>\n",
       "</table>\n",
       "<p>5 rows × 26 columns</p>\n",
       "</div>"
      ],
      "text/plain": [
       "     order_id  user_id  order_number  order_of_the_week  order_hour_of_day  \\\n",
       "1   2398795.0      1.0           2.0                3.0                7.0   \n",
       "9   2550362.0      1.0          10.0                4.0                8.0   \n",
       "14  2254736.0      1.0           4.0                4.0                7.0   \n",
       "31  3108588.0      1.0           8.0                1.0               14.0   \n",
       "47   473747.0      1.0           3.0                3.0               12.0   \n",
       "\n",
       "    days_since_prior_order  product_id  add_to_cart_order  reordered  \\\n",
       "1                     15.0       196.0                1.0        1.0   \n",
       "9                     30.0       196.0                1.0        1.0   \n",
       "14                    29.0     12427.0                2.0        1.0   \n",
       "31                    14.0     10258.0                3.0        1.0   \n",
       "47                    21.0     30450.0                5.0        0.0   \n",
       "\n",
       "            product_name  ...    state  age  date_joined n_dependants  \\\n",
       "1                   Soda  ...  Alabama   31    2/17/2019            3   \n",
       "9                   Soda  ...  Alabama   31    2/17/2019            3   \n",
       "14   Original Beef Jerky  ...  Alabama   31    2/17/2019            3   \n",
       "31            Pistachios  ...  Alabama   31    2/17/2019            3   \n",
       "47  Creamy Almond Butter  ...  Alabama   31    2/17/2019            3   \n",
       "\n",
       "   fam_status income region  spending_avg spending_flag  max_order  \n",
       "1     married  40423  South          5.72   Low spender       10.0  \n",
       "9     married  40423  South          5.72   Low spender       10.0  \n",
       "14    married  40423  South          5.72   Low spender       10.0  \n",
       "31    married  40423  South          5.72   Low spender       10.0  \n",
       "47    married  40423  South          5.72   Low spender       10.0  \n",
       "\n",
       "[5 rows x 26 columns]"
      ]
     },
     "execution_count": 19,
     "metadata": {},
     "output_type": "execute_result"
    }
   ],
   "source": [
    "# Display the output\n",
    "\n",
    "df_COP.head()"
   ]
  },
  {
   "cell_type": "code",
   "execution_count": 20,
   "id": "ff8418ad",
   "metadata": {},
   "outputs": [],
   "source": [
    "# Create a new column for customers with less than 5 orders\n",
    "\n",
    "df_COP.loc[df_COP['max_order'] < 5, 'order_activity'] = 'Low'\n",
    "\n",
    "df_COP.loc[df_COP['max_order'] >= 5, 'order_activity'] = 'High'"
   ]
  },
  {
   "cell_type": "code",
   "execution_count": 21,
   "id": "5c554ca8",
   "metadata": {},
   "outputs": [
    {
     "data": {
      "text/plain": [
       "High    3093076\n",
       "Low      170941\n",
       "Name: order_activity, dtype: int64"
      ]
     },
     "execution_count": 21,
     "metadata": {},
     "output_type": "execute_result"
    }
   ],
   "source": [
    "# Check the frequency\n",
    "\n",
    "df_COP['order_activity'].value_counts(dropna = False)"
   ]
  },
  {
   "cell_type": "code",
   "execution_count": 22,
   "id": "c8f72e77",
   "metadata": {
    "scrolled": false
   },
   "outputs": [
    {
     "data": {
      "image/png": "[encoded data removed]",
      "text/plain": [
       "<Figure size 432x288 with 1 Axes>"
      ]
     },
     "metadata": {},
     "output_type": "display_data"
    }
   ],
   "source": [
    "df_activ = df_COP['order_activity'].value_counts().plot.pie()"
   ]
  },
  {
   "cell_type": "markdown",
   "id": "dd349613",
   "metadata": {},
   "source": [
    "There is significantly more highly active customers with 5 and more orders than the less acitve shoppers."
   ]
  },
  {
   "cell_type": "code",
   "execution_count": 28,
   "id": "af108f85",
   "metadata": {},
   "outputs": [],
   "source": [
    "df_activ.figure.savefig(r'D:\\CareerFoundry\\Data Immersion\\Task 4\\Instacart Basket Analysis_2021-07-22\\04 Analysis\\Visualizations\\pie_df_activ.png')"
   ]
  },
  {
   "cell_type": "code",
   "execution_count": 23,
   "id": "a9d2fdf9",
   "metadata": {},
   "outputs": [],
   "source": [
    "# Exclude the low active customers from the dataset by creating a new set with high acitve customers where orders are more than 5 \n",
    "\n",
    "df_High_Order_Activity = df_COP[df_COP['order_activity'] == 'High']"
   ]
  },
  {
   "cell_type": "code",
   "execution_count": 24,
   "id": "1ce93342",
   "metadata": {},
   "outputs": [],
   "source": [
    "# Export the file for customer purposes\n",
    "\n",
    "df_High_Order_Activity.to_pickle(r'D:\\CareerFoundry\\Data Immersion\\Task 4\\Instacart Basket Analysis_2021-07-22\\02 Data\\Prepared Data\\df_CPO_merged_small_high_activity.pkl')"
   ]
  },
  {
   "cell_type": "markdown",
   "id": "2cef4cac",
   "metadata": {},
   "source": [
    "BRAND LOYALTY - how often do the customers return to Instacart?"
   ]
  },
  {
   "cell_type": "code",
   "execution_count": 26,
   "id": "ef88bf3e",
   "metadata": {},
   "outputs": [
    {
     "data": {
      "text/plain": [
       "7.0     349260\n",
       "30.0    314080\n",
       "6.0     252753\n",
       "5.0     213021\n",
       "4.0     208645\n",
       "NaN     208270\n",
       "8.0     193894\n",
       "3.0     188298\n",
       "2.0     146534\n",
       "9.0     122953\n",
       "14.0    103519\n",
       "10.0     97158\n",
       "1.0      94642\n",
       "13.0     85838\n",
       "11.0     82426\n",
       "12.0     77579\n",
       "15.0     68284\n",
       "16.0     46421\n",
       "0.0      45476\n",
       "21.0     45066\n",
       "20.0     38719\n",
       "17.0     38397\n",
       "18.0     35203\n",
       "19.0     33887\n",
       "22.0     31231\n",
       "28.0     25459\n",
       "23.0     22668\n",
       "27.0     20694\n",
       "24.0     19656\n",
       "25.0     18194\n",
       "26.0     17933\n",
       "29.0     17859\n",
       "Name: days_since_prior_order, dtype: int64"
      ]
     },
     "execution_count": 26,
     "metadata": {},
     "output_type": "execute_result"
    }
   ],
   "source": [
    "df_COP['days_since_prior_order'].value_counts(dropna = False) "
   ]
  },
  {
   "cell_type": "code",
   "execution_count": 27,
   "id": "1121fdfb",
   "metadata": {},
   "outputs": [
    {
     "data": {
      "image/png": "[encoded data removed]",
      "text/plain": [
       "<Figure size 432x288 with 1 Axes>"
      ]
     },
     "metadata": {
      "needs_background": "light"
     },
     "output_type": "display_data"
    }
   ],
   "source": [
    "df_returning = df_COP['days_since_prior_order'].value_counts().plot.bar()"
   ]
  },
  {
   "cell_type": "markdown",
   "id": "97cbb34a",
   "metadata": {},
   "source": [
    "Most shoppers return to Instacart after 7 days of prior order."
   ]
  },
  {
   "cell_type": "code",
   "execution_count": 29,
   "id": "7c226c7f",
   "metadata": {},
   "outputs": [],
   "source": [
    "df_returning.figure.savefig(r'D:\\CareerFoundry\\Data Immersion\\Task 4\\Instacart Basket Analysis_2021-07-22\\04 Analysis\\Visualizations\\bar_df_returning.png')"
   ]
  },
  {
   "cell_type": "code",
   "execution_count": null,
   "id": "b8dcf1b1",
   "metadata": {},
   "outputs": [],
   "source": [
    "FAMILY STATUS vs. ORDERING HABITS"
   ]
  },
  {
   "cell_type": "code",
   "execution_count": 39,
   "id": "cdcfb75e",
   "metadata": {},
   "outputs": [],
   "source": [
    "df_famstatus_spend = pd.crosstab(df_COP['spending_flag'], df_COP['fam_status'], dropna = False)"
   ]
  },
  {
   "cell_type": "code",
   "execution_count": 40,
   "id": "b0ecb2ce",
   "metadata": {
    "scrolled": true
   },
   "outputs": [
    {
     "data": {
      "text/html": [
       "<div>\n",
       "<style scoped>\n",
       "    .dataframe tbody tr th:only-of-type {\n",
       "        vertical-align: middle;\n",
       "    }\n",
       "\n",
       "    .dataframe tbody tr th {\n",
       "        vertical-align: top;\n",
       "    }\n",
       "\n",
       "    .dataframe thead th {\n",
       "        text-align: right;\n",
       "    }\n",
       "</style>\n",
       "<table border=\"1\" class=\"dataframe\">\n",
       "  <thead>\n",
       "    <tr style=\"text-align: right;\">\n",
       "      <th>fam_status</th>\n",
       "      <th>divorced/widowed</th>\n",
       "      <th>living with parents and siblings</th>\n",
       "      <th>married</th>\n",
       "      <th>single</th>\n",
       "    </tr>\n",
       "    <tr>\n",
       "      <th>spending_flag</th>\n",
       "      <th></th>\n",
       "      <th></th>\n",
       "      <th></th>\n",
       "      <th></th>\n",
       "    </tr>\n",
       "  </thead>\n",
       "  <tbody>\n",
       "    <tr>\n",
       "      <th>High spender</th>\n",
       "      <td>10664</td>\n",
       "      <td>5468</td>\n",
       "      <td>92181</td>\n",
       "      <td>20936</td>\n",
       "    </tr>\n",
       "    <tr>\n",
       "      <th>Low spender</th>\n",
       "      <td>268160</td>\n",
       "      <td>150625</td>\n",
       "      <td>2199827</td>\n",
       "      <td>515395</td>\n",
       "    </tr>\n",
       "  </tbody>\n",
       "</table>\n",
       "</div>"
      ],
      "text/plain": [
       "fam_status     divorced/widowed  living with parents and siblings  married  \\\n",
       "spending_flag                                                                \n",
       "High spender              10664                              5468    92181   \n",
       "Low spender              268160                            150625  2199827   \n",
       "\n",
       "fam_status     single  \n",
       "spending_flag          \n",
       "High spender    20936  \n",
       "Low spender    515395  "
      ]
     },
     "execution_count": 40,
     "metadata": {},
     "output_type": "execute_result"
    }
   ],
   "source": [
    "df_famstatus_spend"
   ]
  },
  {
   "cell_type": "code",
   "execution_count": 41,
   "id": "74ba6b6c",
   "metadata": {},
   "outputs": [
    {
     "data": {
      "image/png": "[encoded data removed]",
      "text/plain": [
       "<Figure size 432x288 with 1 Axes>"
      ]
     },
     "metadata": {
      "needs_background": "light"
     },
     "output_type": "display_data"
    }
   ],
   "source": [
    "df_famstatus_spend = df_famstatus_spend.plot.bar(xlabel = 'Spending habit', rot = 0).legend(loc='best')"
   ]
  },
  {
   "cell_type": "markdown",
   "id": "a8822291",
   "metadata": {},
   "source": [
    "Among customers who pay less than $10 per product, the married are the biggest group."
   ]
  },
  {
   "cell_type": "code",
   "execution_count": 42,
   "id": "3c1ac269",
   "metadata": {},
   "outputs": [],
   "source": [
    "df_famstatus_spend.figure.savefig(r'D:\\CareerFoundry\\Data Immersion\\Task 4\\Instacart Basket Analysis_2021-07-22\\04 Analysis\\Visualizations\\bar_df_famstatus_spend.png')"
   ]
  },
  {
   "cell_type": "markdown",
   "id": "99fc93b3",
   "metadata": {},
   "source": [
    "# 5. Customer profiling"
   ]
  },
  {
   "cell_type": "markdown",
   "id": "23d49237",
   "metadata": {},
   "source": [
    "# 6. Create an appropriate visualization to show the distribution of profiles."
   ]
  },
  {
   "cell_type": "markdown",
   "id": "b15dc9dc",
   "metadata": {},
   "source": [
    "The marketing and business strategy units at Instacart want to create more-relevant marketing strategies for different products and are, thus, curious about customer profiling in their database. Create a profiling variable based on age, income, certain goods in the “department_id” column, and number of dependents. You might also use the “orders_day_of_the_week” and “order_hour_of_day” columns if you can think of a way they would impact customer profiles. (Hint: As an example, try thinking of what characteristics would lead you to the profile “Single adult” or “Young parent.”)"
   ]
  },
  {
   "cell_type": "markdown",
   "id": "659dfc7f",
   "metadata": {},
   "source": [
    "INCOME LEVEL profiles:"
   ]
  },
  {
   "cell_type": "code",
   "execution_count": 56,
   "id": "87d6b8a0",
   "metadata": {},
   "outputs": [],
   "source": [
    "# Income level - lower (income <=60000)\n",
    "\n",
    "df_COP.loc[(df_COP['income'] <= 60000) , 'income_level'] = 'Lower income'"
   ]
  },
  {
   "cell_type": "code",
   "execution_count": 57,
   "id": "de99e681",
   "metadata": {},
   "outputs": [],
   "source": [
    "# Income level - middle (income > 50000 and <= 120000)\n",
    "\n",
    "df_COP.loc[(df_COP['income'] > 60000) & (df_COP['income'] <= 120000) , 'income_level'] = 'Middle income'"
   ]
  },
  {
   "cell_type": "code",
   "execution_count": 58,
   "id": "31dde306",
   "metadata": {},
   "outputs": [],
   "source": [
    "# Income level - higher (income > 120000)\n",
    "\n",
    "df_COP.loc[(df_COP['income'] > 120000) , 'income_level'] = 'Higher income'"
   ]
  },
  {
   "cell_type": "code",
   "execution_count": 59,
   "id": "f71d0f14",
   "metadata": {
    "scrolled": true
   },
   "outputs": [
    {
     "data": {
      "text/plain": [
       "Middle income    1680162\n",
       "Higher income     963550\n",
       "Lower income      620305\n",
       "Name: income_level, dtype: int64"
      ]
     },
     "execution_count": 59,
     "metadata": {},
     "output_type": "execute_result"
    }
   ],
   "source": [
    "df_COP['income_level'].value_counts(dropna = False)"
   ]
  },
  {
   "cell_type": "code",
   "execution_count": 60,
   "id": "d3d01339",
   "metadata": {
    "scrolled": true
   },
   "outputs": [
    {
     "data": {
      "image/png": "[encoded data removed]",
      "text/plain": [
       "<Figure size 432x288 with 1 Axes>"
      ]
     },
     "metadata": {
      "needs_background": "light"
     },
     "output_type": "display_data"
    }
   ],
   "source": [
    "df_inc = df_COP['income_level'].value_counts().plot.bar(color = ['purple'], rot = 0, xlabel = 'Income Level')"
   ]
  },
  {
   "cell_type": "code",
   "execution_count": 61,
   "id": "8b51b92a",
   "metadata": {},
   "outputs": [],
   "source": [
    "df_inc.figure.savefig(r'D:\\CareerFoundry\\Data Immersion\\Task 4\\Instacart Basket Analysis_2021-07-22\\04 Analysis\\Visualizations\\bar_df_inc.png')"
   ]
  },
  {
   "cell_type": "markdown",
   "id": "dbd8835a",
   "metadata": {},
   "source": [
    "Middle income level customers are the biggest group, followed by Higher and Lower income customers."
   ]
  },
  {
   "cell_type": "markdown",
   "id": "7d31595f",
   "metadata": {},
   "source": [
    "PARENT AGE profiles:"
   ]
  },
  {
   "cell_type": "code",
   "execution_count": 62,
   "id": "8e191412",
   "metadata": {},
   "outputs": [],
   "source": [
    "# Young parent (age <= 35, n_dependents >=1)\n",
    "\n",
    "df_COP.loc[(df_COP['age'] <= 35) & (df_COP['n_dependants'] >= 1), 'parent_age'] = 'Young parent'"
   ]
  },
  {
   "cell_type": "code",
   "execution_count": 63,
   "id": "d4afbf40",
   "metadata": {},
   "outputs": [],
   "source": [
    "# Middle-age parent (age > 35 and <= 55, n_dependents >=1)\n",
    "\n",
    "df_COP.loc[(df_COP['age'] > 35) & (df_COP['age'] <= 55) & (df_COP['n_dependants'] >= 1), 'parent_age'] = 'Middle age parent'"
   ]
  },
  {
   "cell_type": "code",
   "execution_count": 64,
   "id": "1c828fd7",
   "metadata": {},
   "outputs": [],
   "source": [
    "# Older parent (age >55, n_dependents >=1)\n",
    "\n",
    "df_COP.loc[(df_COP['age'] > 55) & (df_COP['n_dependants'] >= 1), 'parent_age'] = 'Older parent'"
   ]
  },
  {
   "cell_type": "code",
   "execution_count": 65,
   "id": "c3aec879",
   "metadata": {},
   "outputs": [
    {
     "data": {
      "text/plain": [
       "Older parent         986726\n",
       "NaN                  815362\n",
       "Middle age parent    769504\n",
       "Young parent         692425\n",
       "Name: parent_age, dtype: int64"
      ]
     },
     "execution_count": 65,
     "metadata": {},
     "output_type": "execute_result"
    }
   ],
   "source": [
    "df_COP['parent_age'].value_counts(dropna = False)"
   ]
  },
  {
   "cell_type": "code",
   "execution_count": 66,
   "id": "61709c07",
   "metadata": {
    "scrolled": true
   },
   "outputs": [
    {
     "data": {
      "image/png": "[encoded data removed]",
      "text/plain": [
       "<Figure size 432x288 with 1 Axes>"
      ]
     },
     "metadata": {
      "needs_background": "light"
     },
     "output_type": "display_data"
    }
   ],
   "source": [
    "df_parnt = df_COP['parent_age'].value_counts().plot.bar(color = ['green'], rot = 0, xlabel = 'Parent Age')"
   ]
  },
  {
   "cell_type": "markdown",
   "id": "77192eb4",
   "metadata": {},
   "source": [
    "Instacart customers belong mostly to the Older parent group, followed by Middle age and Young parents."
   ]
  },
  {
   "cell_type": "code",
   "execution_count": 67,
   "id": "8351c66c",
   "metadata": {},
   "outputs": [],
   "source": [
    "df_parnt.figure.savefig(r'D:\\CareerFoundry\\Data Immersion\\Task 4\\Instacart Basket Analysis_2021-07-22\\04 Analysis\\Visualizations\\bar_df_parnt.png')"
   ]
  },
  {
   "cell_type": "markdown",
   "id": "dbe3de2c",
   "metadata": {},
   "source": [
    "FAMILY SIZE profiles:"
   ]
  },
  {
   "cell_type": "code",
   "execution_count": 68,
   "id": "3fdc2ee9",
   "metadata": {},
   "outputs": [],
   "source": [
    "# No dependents (n_dependents =0)\n",
    "\n",
    "df_COP.loc[(df_COP['n_dependants'] ==0 ), 'fam_size'] = 'No dependents'"
   ]
  },
  {
   "cell_type": "code",
   "execution_count": 69,
   "id": "c70c5726",
   "metadata": {},
   "outputs": [],
   "source": [
    "# Small family (n_dependents =1)\n",
    "\n",
    "df_COP.loc[(df_COP['n_dependants'] ==1 ), 'fam_size'] = 'Small family'"
   ]
  },
  {
   "cell_type": "code",
   "execution_count": 70,
   "id": "e976166b",
   "metadata": {},
   "outputs": [],
   "source": [
    "# Big family (n_dependents >=2)\n",
    "\n",
    "df_COP.loc[(df_COP['n_dependants'] >=2 ), 'fam_size'] = 'Big family'"
   ]
  },
  {
   "cell_type": "code",
   "execution_count": 71,
   "id": "73a63a69",
   "metadata": {},
   "outputs": [
    {
     "data": {
      "text/plain": [
       "Big family       1633950\n",
       "No dependents     815362\n",
       "Small family      814705\n",
       "Name: fam_size, dtype: int64"
      ]
     },
     "execution_count": 71,
     "metadata": {},
     "output_type": "execute_result"
    }
   ],
   "source": [
    "df_COP['fam_size'].value_counts(dropna = False)"
   ]
  },
  {
   "cell_type": "code",
   "execution_count": 73,
   "id": "65eb9064",
   "metadata": {
    "scrolled": true
   },
   "outputs": [
    {
     "data": {
      "image/png": "[encoded data removed]",
      "text/plain": [
       "<Figure size 432x288 with 1 Axes>"
      ]
     },
     "metadata": {
      "needs_background": "light"
     },
     "output_type": "display_data"
    }
   ],
   "source": [
    "df_fam_size = df_COP['fam_size'].value_counts().plot.bar(color = ['red'], rot = 0, xlabel = 'Family Size')"
   ]
  },
  {
   "cell_type": "markdown",
   "id": "70e50449",
   "metadata": {},
   "source": [
    "Big families with dependents of 2 or more are the biggest group among Instacart customers. Smaller families and adults with no dependents count for almost the same number of customers."
   ]
  },
  {
   "cell_type": "code",
   "execution_count": 74,
   "id": "231692bb",
   "metadata": {},
   "outputs": [],
   "source": [
    "df_fam_size.figure.savefig(r'D:\\CareerFoundry\\Data Immersion\\Task 4\\Instacart Basket Analysis_2021-07-22\\04 Analysis\\Visualizations\\bar_df_fam_size.png')"
   ]
  },
  {
   "cell_type": "markdown",
   "id": "fb3ef432",
   "metadata": {},
   "source": [
    "BABY IN THE HOUSE profiles:"
   ]
  },
  {
   "cell_type": "code",
   "execution_count": 75,
   "id": "eb0d31dd",
   "metadata": {},
   "outputs": [],
   "source": [
    "# Baby (department_id = 18 baby products)\n",
    "\n",
    "df_COP.loc[(df_COP['department_id'] == 18), 'babies']  = 'Baby'"
   ]
  },
  {
   "cell_type": "code",
   "execution_count": 76,
   "id": "8ae969a5",
   "metadata": {},
   "outputs": [],
   "source": [
    "# Baby (department_id != 18 baby products)\n",
    "\n",
    "df_COP.loc[(df_COP['department_id'] != 18), 'babies']  = 'No baby'"
   ]
  },
  {
   "cell_type": "code",
   "execution_count": 77,
   "id": "772d8e1a",
   "metadata": {},
   "outputs": [
    {
     "data": {
      "text/plain": [
       "No baby    3221793\n",
       "Baby         42224\n",
       "Name: babies, dtype: int64"
      ]
     },
     "execution_count": 77,
     "metadata": {},
     "output_type": "execute_result"
    }
   ],
   "source": [
    "df_COP['babies'].value_counts(dropna = False)"
   ]
  },
  {
   "cell_type": "code",
   "execution_count": 78,
   "id": "a07e3d10",
   "metadata": {
    "scrolled": true
   },
   "outputs": [
    {
     "data": {
      "image/png": "[encoded data removed]",
      "text/plain": [
       "<Figure size 432x288 with 1 Axes>"
      ]
     },
     "metadata": {
      "needs_background": "light"
     },
     "output_type": "display_data"
    }
   ],
   "source": [
    "df_babies = df_COP['babies'].value_counts().plot.barh(color = ['yellow'])"
   ]
  },
  {
   "cell_type": "markdown",
   "id": "8c0fea9c",
   "metadata": {},
   "source": [
    "Most Instacart customers do not buy baby products."
   ]
  },
  {
   "cell_type": "code",
   "execution_count": 79,
   "id": "d56578ef",
   "metadata": {},
   "outputs": [],
   "source": [
    "df_babies.figure.savefig(r'D:\\CareerFoundry\\Data Immersion\\Task 4\\Instacart Basket Analysis_2021-07-22\\04 Analysis\\Visualizations\\bar_df_babies.png')"
   ]
  },
  {
   "cell_type": "markdown",
   "id": "5f1bd57c",
   "metadata": {},
   "source": [
    "MEAT SEAFOOD BUYERS Profiles:"
   ]
  },
  {
   "cell_type": "code",
   "execution_count": 80,
   "id": "929b8f3f",
   "metadata": {},
   "outputs": [],
   "source": [
    "# MEAT SEAFOOD (department_id = 12 meat seafood)\n",
    "\n",
    "df_COP.loc[(df_COP['department_id'] == 12), 'meat_seafood']  = 'Meat Seafood Buyers'"
   ]
  },
  {
   "cell_type": "code",
   "execution_count": 81,
   "id": "71665be8",
   "metadata": {},
   "outputs": [],
   "source": [
    "# MEAT SEAFOOD (department_id != 12 meat seafood)\n",
    "\n",
    "df_COP.loc[(df_COP['department_id'] != 12), 'meat_seafood']  = 'No Meat Seafood Buyers'"
   ]
  },
  {
   "cell_type": "code",
   "execution_count": 82,
   "id": "74b383b3",
   "metadata": {
    "scrolled": true
   },
   "outputs": [
    {
     "data": {
      "text/plain": [
       "No Meat Seafood Buyers    3192649\n",
       "Meat Seafood Buyers         71368\n",
       "Name: meat_seafood, dtype: int64"
      ]
     },
     "execution_count": 82,
     "metadata": {},
     "output_type": "execute_result"
    }
   ],
   "source": [
    "df_COP['meat_seafood'].value_counts(dropna = False)"
   ]
  },
  {
   "cell_type": "code",
   "execution_count": 83,
   "id": "99b75c4f",
   "metadata": {
    "scrolled": true
   },
   "outputs": [
    {
     "data": {
      "image/png": "[encoded data removed]",
      "text/plain": [
       "<Figure size 432x288 with 1 Axes>"
      ]
     },
     "metadata": {
      "needs_background": "light"
     },
     "output_type": "display_data"
    }
   ],
   "source": [
    "df_meat = df_COP['meat_seafood'].value_counts().plot.barh(color = ['brown'])"
   ]
  },
  {
   "cell_type": "markdown",
   "id": "3589dce5",
   "metadata": {},
   "source": [
    "Most customers do not buy meat or seafood products with Instacart."
   ]
  },
  {
   "cell_type": "code",
   "execution_count": 84,
   "id": "a5b9ede8",
   "metadata": {},
   "outputs": [],
   "source": [
    "df_meat.figure.savefig(r'D:\\CareerFoundry\\Data Immersion\\Task 4\\Instacart Basket Analysis_2021-07-22\\04 Analysis\\Visualizations\\bar_df_meat.png')"
   ]
  },
  {
   "cell_type": "markdown",
   "id": "71c3d63a",
   "metadata": {},
   "source": [
    "ALCOHOL BUYERS Profiles:"
   ]
  },
  {
   "cell_type": "code",
   "execution_count": 85,
   "id": "589c91eb",
   "metadata": {},
   "outputs": [],
   "source": [
    "# ALCOHOL (department_id = 5 alcohol)\n",
    "\n",
    "df_COP.loc[(df_COP['department_id'] == 5), 'alcohol']  = 'Alcohol'"
   ]
  },
  {
   "cell_type": "code",
   "execution_count": 86,
   "id": "aa7d3034",
   "metadata": {},
   "outputs": [],
   "source": [
    "# ALCOHOL (department_id != 5 alcohol)\n",
    "\n",
    "df_COP.loc[(df_COP['department_id'] != 5), 'alcohol']  = 'No Alcohol'"
   ]
  },
  {
   "cell_type": "code",
   "execution_count": 87,
   "id": "a868bb91",
   "metadata": {},
   "outputs": [
    {
     "data": {
      "text/plain": [
       "No Alcohol    3248555\n",
       "Alcohol         15462\n",
       "Name: alcohol, dtype: int64"
      ]
     },
     "execution_count": 87,
     "metadata": {},
     "output_type": "execute_result"
    }
   ],
   "source": [
    "df_COP['alcohol'].value_counts(dropna = False)"
   ]
  },
  {
   "cell_type": "code",
   "execution_count": 88,
   "id": "dd25905e",
   "metadata": {
    "scrolled": true
   },
   "outputs": [
    {
     "data": {
      "image/png": "[encoded data removed]",
      "text/plain": [
       "<Figure size 432x288 with 1 Axes>"
      ]
     },
     "metadata": {
      "needs_background": "light"
     },
     "output_type": "display_data"
    }
   ],
   "source": [
    "df_alc = df_COP['alcohol'].value_counts().plot.barh(color = ['black'])"
   ]
  },
  {
   "cell_type": "markdown",
   "id": "2acfdffc",
   "metadata": {},
   "source": [
    "Most customers do not buy alcohol on the platform."
   ]
  },
  {
   "cell_type": "code",
   "execution_count": 89,
   "id": "34bf2668",
   "metadata": {},
   "outputs": [],
   "source": [
    "df_alc.figure.savefig(r'D:\\CareerFoundry\\Data Immersion\\Task 4\\Instacart Basket Analysis_2021-07-22\\04 Analysis\\Visualizations\\bar_df_alc.png')"
   ]
  },
  {
   "cell_type": "markdown",
   "id": "469c4cb5",
   "metadata": {},
   "source": [
    "# 7. Aggregate the max, mean, and min variables on a customer-profile level for usage frequency and expenditure."
   ]
  },
  {
   "cell_type": "markdown",
   "id": "d96aa05c",
   "metadata": {},
   "source": [
    "By the usage frequency on a customer-profile level, I understand how many orders the given group of customers placed with Instacart and by the expenditure - at what price the given group of customers bought their products:"
   ]
  },
  {
   "cell_type": "markdown",
   "id": "b5a7e44e",
   "metadata": {},
   "source": [
    "INCOME LEVEL"
   ]
  },
  {
   "cell_type": "code",
   "execution_count": 90,
   "id": "662356b2",
   "metadata": {
    "scrolled": true
   },
   "outputs": [
    {
     "data": {
      "text/html": [
       "<div>\n",
       "<style scoped>\n",
       "    .dataframe tbody tr th:only-of-type {\n",
       "        vertical-align: middle;\n",
       "    }\n",
       "\n",
       "    .dataframe tbody tr th {\n",
       "        vertical-align: top;\n",
       "    }\n",
       "\n",
       "    .dataframe thead tr th {\n",
       "        text-align: left;\n",
       "    }\n",
       "\n",
       "    .dataframe thead tr:last-of-type th {\n",
       "        text-align: right;\n",
       "    }\n",
       "</style>\n",
       "<table border=\"1\" class=\"dataframe\">\n",
       "  <thead>\n",
       "    <tr>\n",
       "      <th></th>\n",
       "      <th colspan=\"3\" halign=\"left\">order_number</th>\n",
       "    </tr>\n",
       "    <tr>\n",
       "      <th></th>\n",
       "      <th>mean</th>\n",
       "      <th>min</th>\n",
       "      <th>max</th>\n",
       "    </tr>\n",
       "    <tr>\n",
       "      <th>income_level</th>\n",
       "      <th></th>\n",
       "      <th></th>\n",
       "      <th></th>\n",
       "    </tr>\n",
       "  </thead>\n",
       "  <tbody>\n",
       "    <tr>\n",
       "      <th>Higher income</th>\n",
       "      <td>17.312986</td>\n",
       "      <td>1.0</td>\n",
       "      <td>100.0</td>\n",
       "    </tr>\n",
       "    <tr>\n",
       "      <th>Lower income</th>\n",
       "      <td>16.369912</td>\n",
       "      <td>1.0</td>\n",
       "      <td>100.0</td>\n",
       "    </tr>\n",
       "    <tr>\n",
       "      <th>Middle income</th>\n",
       "      <td>17.325850</td>\n",
       "      <td>1.0</td>\n",
       "      <td>100.0</td>\n",
       "    </tr>\n",
       "  </tbody>\n",
       "</table>\n",
       "</div>"
      ],
      "text/plain": [
       "              order_number            \n",
       "                      mean  min    max\n",
       "income_level                          \n",
       "Higher income    17.312986  1.0  100.0\n",
       "Lower income     16.369912  1.0  100.0\n",
       "Middle income    17.325850  1.0  100.0"
      ]
     },
     "execution_count": 90,
     "metadata": {},
     "output_type": "execute_result"
    }
   ],
   "source": [
    "df_COP.groupby('income_level').agg({'order_number' : ['mean', 'min', 'max']})"
   ]
  },
  {
   "cell_type": "code",
   "execution_count": 91,
   "id": "9642ba67",
   "metadata": {},
   "outputs": [
    {
     "data": {
      "text/html": [
       "<div>\n",
       "<style scoped>\n",
       "    .dataframe tbody tr th:only-of-type {\n",
       "        vertical-align: middle;\n",
       "    }\n",
       "\n",
       "    .dataframe tbody tr th {\n",
       "        vertical-align: top;\n",
       "    }\n",
       "\n",
       "    .dataframe thead tr th {\n",
       "        text-align: left;\n",
       "    }\n",
       "\n",
       "    .dataframe thead tr:last-of-type th {\n",
       "        text-align: right;\n",
       "    }\n",
       "</style>\n",
       "<table border=\"1\" class=\"dataframe\">\n",
       "  <thead>\n",
       "    <tr>\n",
       "      <th></th>\n",
       "      <th colspan=\"3\" halign=\"left\">prices</th>\n",
       "    </tr>\n",
       "    <tr>\n",
       "      <th></th>\n",
       "      <th>mean</th>\n",
       "      <th>min</th>\n",
       "      <th>max</th>\n",
       "    </tr>\n",
       "    <tr>\n",
       "      <th>income_level</th>\n",
       "      <th></th>\n",
       "      <th></th>\n",
       "      <th></th>\n",
       "    </tr>\n",
       "  </thead>\n",
       "  <tbody>\n",
       "    <tr>\n",
       "      <th>Higher income</th>\n",
       "      <td>19.797522</td>\n",
       "      <td>1.0</td>\n",
       "      <td>99999.0</td>\n",
       "    </tr>\n",
       "    <tr>\n",
       "      <th>Lower income</th>\n",
       "      <td>7.099864</td>\n",
       "      <td>1.0</td>\n",
       "      <td>14900.0</td>\n",
       "    </tr>\n",
       "    <tr>\n",
       "      <th>Middle income</th>\n",
       "      <td>9.421926</td>\n",
       "      <td>1.0</td>\n",
       "      <td>99999.0</td>\n",
       "    </tr>\n",
       "  </tbody>\n",
       "</table>\n",
       "</div>"
      ],
      "text/plain": [
       "                  prices              \n",
       "                    mean  min      max\n",
       "income_level                          \n",
       "Higher income  19.797522  1.0  99999.0\n",
       "Lower income    7.099864  1.0  14900.0\n",
       "Middle income   9.421926  1.0  99999.0"
      ]
     },
     "execution_count": 91,
     "metadata": {},
     "output_type": "execute_result"
    }
   ],
   "source": [
    "df_COP.groupby('income_level').agg({'prices' : ['mean', 'min', 'max']})"
   ]
  },
  {
   "cell_type": "markdown",
   "id": "b1be1418",
   "metadata": {},
   "source": [
    "The average shopping frequency is very similar among all 3 profiles of income level. Lower income level customers ordered only one order less on average than Higher or Middle income customers.\n",
    "\n",
    "The Higher income customers buy on average the most expensive products. They pay more the double of the prices paid by the Middle and Lower income level clients. "
   ]
  },
  {
   "cell_type": "markdown",
   "id": "41a04a9b",
   "metadata": {},
   "source": [
    "PARENT AGE"
   ]
  },
  {
   "cell_type": "code",
   "execution_count": 74,
   "id": "d353c926",
   "metadata": {
    "scrolled": true
   },
   "outputs": [
    {
     "data": {
      "text/html": [
       "<div>\n",
       "<style scoped>\n",
       "    .dataframe tbody tr th:only-of-type {\n",
       "        vertical-align: middle;\n",
       "    }\n",
       "\n",
       "    .dataframe tbody tr th {\n",
       "        vertical-align: top;\n",
       "    }\n",
       "\n",
       "    .dataframe thead tr th {\n",
       "        text-align: left;\n",
       "    }\n",
       "\n",
       "    .dataframe thead tr:last-of-type th {\n",
       "        text-align: right;\n",
       "    }\n",
       "</style>\n",
       "<table border=\"1\" class=\"dataframe\">\n",
       "  <thead>\n",
       "    <tr>\n",
       "      <th></th>\n",
       "      <th colspan=\"3\" halign=\"left\">order_number</th>\n",
       "    </tr>\n",
       "    <tr>\n",
       "      <th></th>\n",
       "      <th>mean</th>\n",
       "      <th>min</th>\n",
       "      <th>max</th>\n",
       "    </tr>\n",
       "    <tr>\n",
       "      <th>parent_age</th>\n",
       "      <th></th>\n",
       "      <th></th>\n",
       "      <th></th>\n",
       "    </tr>\n",
       "  </thead>\n",
       "  <tbody>\n",
       "    <tr>\n",
       "      <th>Middle age parent</th>\n",
       "      <td>17.164857</td>\n",
       "      <td>1.0</td>\n",
       "      <td>100.0</td>\n",
       "    </tr>\n",
       "    <tr>\n",
       "      <th>Older parent</th>\n",
       "      <td>17.045291</td>\n",
       "      <td>1.0</td>\n",
       "      <td>100.0</td>\n",
       "    </tr>\n",
       "    <tr>\n",
       "      <th>Young parent</th>\n",
       "      <td>17.127599</td>\n",
       "      <td>1.0</td>\n",
       "      <td>100.0</td>\n",
       "    </tr>\n",
       "  </tbody>\n",
       "</table>\n",
       "</div>"
      ],
      "text/plain": [
       "                  order_number            \n",
       "                          mean  min    max\n",
       "parent_age                                \n",
       "Middle age parent    17.164857  1.0  100.0\n",
       "Older parent         17.045291  1.0  100.0\n",
       "Young parent         17.127599  1.0  100.0"
      ]
     },
     "execution_count": 74,
     "metadata": {},
     "output_type": "execute_result"
    }
   ],
   "source": [
    "df_COP.groupby('parent_age').agg({'order_number' : ['mean', 'min', 'max']})"
   ]
  },
  {
   "cell_type": "code",
   "execution_count": 75,
   "id": "67881e66",
   "metadata": {},
   "outputs": [
    {
     "data": {
      "text/html": [
       "<div>\n",
       "<style scoped>\n",
       "    .dataframe tbody tr th:only-of-type {\n",
       "        vertical-align: middle;\n",
       "    }\n",
       "\n",
       "    .dataframe tbody tr th {\n",
       "        vertical-align: top;\n",
       "    }\n",
       "\n",
       "    .dataframe thead tr th {\n",
       "        text-align: left;\n",
       "    }\n",
       "\n",
       "    .dataframe thead tr:last-of-type th {\n",
       "        text-align: right;\n",
       "    }\n",
       "</style>\n",
       "<table border=\"1\" class=\"dataframe\">\n",
       "  <thead>\n",
       "    <tr>\n",
       "      <th></th>\n",
       "      <th colspan=\"3\" halign=\"left\">prices</th>\n",
       "    </tr>\n",
       "    <tr>\n",
       "      <th></th>\n",
       "      <th>mean</th>\n",
       "      <th>min</th>\n",
       "      <th>max</th>\n",
       "    </tr>\n",
       "    <tr>\n",
       "      <th>parent_age</th>\n",
       "      <th></th>\n",
       "      <th></th>\n",
       "      <th></th>\n",
       "    </tr>\n",
       "  </thead>\n",
       "  <tbody>\n",
       "    <tr>\n",
       "      <th>Middle age parent</th>\n",
       "      <td>11.094683</td>\n",
       "      <td>1.0</td>\n",
       "      <td>99999.0</td>\n",
       "    </tr>\n",
       "    <tr>\n",
       "      <th>Older parent</th>\n",
       "      <td>12.119574</td>\n",
       "      <td>1.0</td>\n",
       "      <td>99999.0</td>\n",
       "    </tr>\n",
       "    <tr>\n",
       "      <th>Young parent</th>\n",
       "      <td>12.329354</td>\n",
       "      <td>1.0</td>\n",
       "      <td>99999.0</td>\n",
       "    </tr>\n",
       "  </tbody>\n",
       "</table>\n",
       "</div>"
      ],
      "text/plain": [
       "                      prices              \n",
       "                        mean  min      max\n",
       "parent_age                                \n",
       "Middle age parent  11.094683  1.0  99999.0\n",
       "Older parent       12.119574  1.0  99999.0\n",
       "Young parent       12.329354  1.0  99999.0"
      ]
     },
     "execution_count": 75,
     "metadata": {},
     "output_type": "execute_result"
    }
   ],
   "source": [
    "df_COP.groupby('parent_age').agg({'prices' : ['mean', 'min', 'max']})"
   ]
  },
  {
   "cell_type": "markdown",
   "id": "772d8efd",
   "metadata": {},
   "source": [
    "Among the Parent Age profiles, all three groups show the same shopping frequency on average and all three groups pay similar average prices for their products.  "
   ]
  },
  {
   "cell_type": "markdown",
   "id": "07089c46",
   "metadata": {},
   "source": [
    "FAMILY SIZE"
   ]
  },
  {
   "cell_type": "code",
   "execution_count": 78,
   "id": "3294558b",
   "metadata": {},
   "outputs": [
    {
     "data": {
      "text/html": [
       "<div>\n",
       "<style scoped>\n",
       "    .dataframe tbody tr th:only-of-type {\n",
       "        vertical-align: middle;\n",
       "    }\n",
       "\n",
       "    .dataframe tbody tr th {\n",
       "        vertical-align: top;\n",
       "    }\n",
       "\n",
       "    .dataframe thead tr th {\n",
       "        text-align: left;\n",
       "    }\n",
       "\n",
       "    .dataframe thead tr:last-of-type th {\n",
       "        text-align: right;\n",
       "    }\n",
       "</style>\n",
       "<table border=\"1\" class=\"dataframe\">\n",
       "  <thead>\n",
       "    <tr>\n",
       "      <th></th>\n",
       "      <th colspan=\"3\" halign=\"left\">order_number</th>\n",
       "    </tr>\n",
       "    <tr>\n",
       "      <th></th>\n",
       "      <th>mean</th>\n",
       "      <th>min</th>\n",
       "      <th>max</th>\n",
       "    </tr>\n",
       "    <tr>\n",
       "      <th>fam_size</th>\n",
       "      <th></th>\n",
       "      <th></th>\n",
       "      <th></th>\n",
       "    </tr>\n",
       "  </thead>\n",
       "  <tbody>\n",
       "    <tr>\n",
       "      <th>Big family</th>\n",
       "      <td>17.104917</td>\n",
       "      <td>1.0</td>\n",
       "      <td>100.0</td>\n",
       "    </tr>\n",
       "    <tr>\n",
       "      <th>No dependents</th>\n",
       "      <td>17.243217</td>\n",
       "      <td>1.0</td>\n",
       "      <td>100.0</td>\n",
       "    </tr>\n",
       "    <tr>\n",
       "      <th>Small family</th>\n",
       "      <td>17.108594</td>\n",
       "      <td>1.0</td>\n",
       "      <td>100.0</td>\n",
       "    </tr>\n",
       "  </tbody>\n",
       "</table>\n",
       "</div>"
      ],
      "text/plain": [
       "              order_number            \n",
       "                      mean  min    max\n",
       "fam_size                              \n",
       "Big family       17.104917  1.0  100.0\n",
       "No dependents    17.243217  1.0  100.0\n",
       "Small family     17.108594  1.0  100.0"
      ]
     },
     "execution_count": 78,
     "metadata": {},
     "output_type": "execute_result"
    }
   ],
   "source": [
    "df_COP.groupby('fam_size').agg({'order_number' : ['mean', 'min', 'max']})"
   ]
  },
  {
   "cell_type": "code",
   "execution_count": 79,
   "id": "6f2c635c",
   "metadata": {
    "scrolled": true
   },
   "outputs": [
    {
     "data": {
      "text/html": [
       "<div>\n",
       "<style scoped>\n",
       "    .dataframe tbody tr th:only-of-type {\n",
       "        vertical-align: middle;\n",
       "    }\n",
       "\n",
       "    .dataframe tbody tr th {\n",
       "        vertical-align: top;\n",
       "    }\n",
       "\n",
       "    .dataframe thead tr th {\n",
       "        text-align: left;\n",
       "    }\n",
       "\n",
       "    .dataframe thead tr:last-of-type th {\n",
       "        text-align: right;\n",
       "    }\n",
       "</style>\n",
       "<table border=\"1\" class=\"dataframe\">\n",
       "  <thead>\n",
       "    <tr>\n",
       "      <th></th>\n",
       "      <th colspan=\"3\" halign=\"left\">prices</th>\n",
       "    </tr>\n",
       "    <tr>\n",
       "      <th></th>\n",
       "      <th>mean</th>\n",
       "      <th>min</th>\n",
       "      <th>max</th>\n",
       "    </tr>\n",
       "    <tr>\n",
       "      <th>fam_size</th>\n",
       "      <th></th>\n",
       "      <th></th>\n",
       "      <th></th>\n",
       "    </tr>\n",
       "  </thead>\n",
       "  <tbody>\n",
       "    <tr>\n",
       "      <th>Big family</th>\n",
       "      <td>11.837282</td>\n",
       "      <td>1.0</td>\n",
       "      <td>99999.0</td>\n",
       "    </tr>\n",
       "    <tr>\n",
       "      <th>No dependents</th>\n",
       "      <td>12.610667</td>\n",
       "      <td>1.0</td>\n",
       "      <td>99999.0</td>\n",
       "    </tr>\n",
       "    <tr>\n",
       "      <th>Small family</th>\n",
       "      <td>11.896118</td>\n",
       "      <td>1.0</td>\n",
       "      <td>99999.0</td>\n",
       "    </tr>\n",
       "  </tbody>\n",
       "</table>\n",
       "</div>"
      ],
      "text/plain": [
       "                  prices              \n",
       "                    mean  min      max\n",
       "fam_size                              \n",
       "Big family     11.837282  1.0  99999.0\n",
       "No dependents  12.610667  1.0  99999.0\n",
       "Small family   11.896118  1.0  99999.0"
      ]
     },
     "execution_count": 79,
     "metadata": {},
     "output_type": "execute_result"
    }
   ],
   "source": [
    "df_COP.groupby('fam_size').agg({'prices' : ['mean', 'min', 'max']})"
   ]
  },
  {
   "cell_type": "markdown",
   "id": "a8ce753d",
   "metadata": {},
   "source": [
    "Big famlies, small families and households with no dependents place the same number of orders on average and they also spend almost the same amount of money per product on average."
   ]
  },
  {
   "cell_type": "markdown",
   "id": "1ff0cd4e",
   "metadata": {},
   "source": [
    "BABIES:"
   ]
  },
  {
   "cell_type": "code",
   "execution_count": 80,
   "id": "5be061a2",
   "metadata": {
    "scrolled": true
   },
   "outputs": [
    {
     "data": {
      "text/html": [
       "<div>\n",
       "<style scoped>\n",
       "    .dataframe tbody tr th:only-of-type {\n",
       "        vertical-align: middle;\n",
       "    }\n",
       "\n",
       "    .dataframe tbody tr th {\n",
       "        vertical-align: top;\n",
       "    }\n",
       "\n",
       "    .dataframe thead tr th {\n",
       "        text-align: left;\n",
       "    }\n",
       "\n",
       "    .dataframe thead tr:last-of-type th {\n",
       "        text-align: right;\n",
       "    }\n",
       "</style>\n",
       "<table border=\"1\" class=\"dataframe\">\n",
       "  <thead>\n",
       "    <tr>\n",
       "      <th></th>\n",
       "      <th colspan=\"3\" halign=\"left\">order_number</th>\n",
       "    </tr>\n",
       "    <tr>\n",
       "      <th></th>\n",
       "      <th>mean</th>\n",
       "      <th>min</th>\n",
       "      <th>max</th>\n",
       "    </tr>\n",
       "    <tr>\n",
       "      <th>babies</th>\n",
       "      <th></th>\n",
       "      <th></th>\n",
       "      <th></th>\n",
       "    </tr>\n",
       "  </thead>\n",
       "  <tbody>\n",
       "    <tr>\n",
       "      <th>Baby</th>\n",
       "      <td>19.335520</td>\n",
       "      <td>1.0</td>\n",
       "      <td>99.0</td>\n",
       "    </tr>\n",
       "    <tr>\n",
       "      <th>No baby</th>\n",
       "      <td>17.111614</td>\n",
       "      <td>1.0</td>\n",
       "      <td>100.0</td>\n",
       "    </tr>\n",
       "  </tbody>\n",
       "</table>\n",
       "</div>"
      ],
      "text/plain": [
       "        order_number            \n",
       "                mean  min    max\n",
       "babies                          \n",
       "Baby       19.335520  1.0   99.0\n",
       "No baby    17.111614  1.0  100.0"
      ]
     },
     "execution_count": 80,
     "metadata": {},
     "output_type": "execute_result"
    }
   ],
   "source": [
    "df_COP.groupby('babies').agg({'order_number' : ['mean', 'min', 'max']})"
   ]
  },
  {
   "cell_type": "code",
   "execution_count": 81,
   "id": "acfd5299",
   "metadata": {
    "scrolled": true
   },
   "outputs": [
    {
     "data": {
      "text/html": [
       "<div>\n",
       "<style scoped>\n",
       "    .dataframe tbody tr th:only-of-type {\n",
       "        vertical-align: middle;\n",
       "    }\n",
       "\n",
       "    .dataframe tbody tr th {\n",
       "        vertical-align: top;\n",
       "    }\n",
       "\n",
       "    .dataframe thead tr th {\n",
       "        text-align: left;\n",
       "    }\n",
       "\n",
       "    .dataframe thead tr:last-of-type th {\n",
       "        text-align: right;\n",
       "    }\n",
       "</style>\n",
       "<table border=\"1\" class=\"dataframe\">\n",
       "  <thead>\n",
       "    <tr>\n",
       "      <th></th>\n",
       "      <th colspan=\"3\" halign=\"left\">prices</th>\n",
       "    </tr>\n",
       "    <tr>\n",
       "      <th></th>\n",
       "      <th>mean</th>\n",
       "      <th>min</th>\n",
       "      <th>max</th>\n",
       "    </tr>\n",
       "    <tr>\n",
       "      <th>babies</th>\n",
       "      <th></th>\n",
       "      <th></th>\n",
       "      <th></th>\n",
       "    </tr>\n",
       "  </thead>\n",
       "  <tbody>\n",
       "    <tr>\n",
       "      <th>Baby</th>\n",
       "      <td>7.676004</td>\n",
       "      <td>1.0</td>\n",
       "      <td>15.0</td>\n",
       "    </tr>\n",
       "    <tr>\n",
       "      <th>No baby</th>\n",
       "      <td>12.102822</td>\n",
       "      <td>1.0</td>\n",
       "      <td>99999.0</td>\n",
       "    </tr>\n",
       "  </tbody>\n",
       "</table>\n",
       "</div>"
      ],
      "text/plain": [
       "            prices              \n",
       "              mean  min      max\n",
       "babies                          \n",
       "Baby      7.676004  1.0     15.0\n",
       "No baby  12.102822  1.0  99999.0"
      ]
     },
     "execution_count": 81,
     "metadata": {},
     "output_type": "execute_result"
    }
   ],
   "source": [
    "df_COP.groupby('babies').agg({'prices' : ['mean', 'min', 'max']})"
   ]
  },
  {
   "cell_type": "markdown",
   "id": "5cca043e",
   "metadata": {},
   "source": [
    "Customers who order baby products place slighlty more orders on average than those who do not buy baby products, but they buy much cheaper products on average."
   ]
  },
  {
   "cell_type": "markdown",
   "id": "c3a87991",
   "metadata": {},
   "source": [
    "MEAT SEAFOOD BUYERS:"
   ]
  },
  {
   "cell_type": "code",
   "execution_count": 82,
   "id": "53e4d897",
   "metadata": {
    "scrolled": true
   },
   "outputs": [
    {
     "data": {
      "text/html": [
       "<div>\n",
       "<style scoped>\n",
       "    .dataframe tbody tr th:only-of-type {\n",
       "        vertical-align: middle;\n",
       "    }\n",
       "\n",
       "    .dataframe tbody tr th {\n",
       "        vertical-align: top;\n",
       "    }\n",
       "\n",
       "    .dataframe thead tr th {\n",
       "        text-align: left;\n",
       "    }\n",
       "\n",
       "    .dataframe thead tr:last-of-type th {\n",
       "        text-align: right;\n",
       "    }\n",
       "</style>\n",
       "<table border=\"1\" class=\"dataframe\">\n",
       "  <thead>\n",
       "    <tr>\n",
       "      <th></th>\n",
       "      <th colspan=\"3\" halign=\"left\">order_number</th>\n",
       "    </tr>\n",
       "    <tr>\n",
       "      <th></th>\n",
       "      <th>mean</th>\n",
       "      <th>min</th>\n",
       "      <th>max</th>\n",
       "    </tr>\n",
       "    <tr>\n",
       "      <th>meat_seafood</th>\n",
       "      <th></th>\n",
       "      <th></th>\n",
       "      <th></th>\n",
       "    </tr>\n",
       "  </thead>\n",
       "  <tbody>\n",
       "    <tr>\n",
       "      <th>Meat Seafood Buyers</th>\n",
       "      <td>15.911291</td>\n",
       "      <td>1.0</td>\n",
       "      <td>99.0</td>\n",
       "    </tr>\n",
       "    <tr>\n",
       "      <th>No Meat Seafood Buyers</th>\n",
       "      <td>17.167857</td>\n",
       "      <td>1.0</td>\n",
       "      <td>100.0</td>\n",
       "    </tr>\n",
       "  </tbody>\n",
       "</table>\n",
       "</div>"
      ],
      "text/plain": [
       "                       order_number            \n",
       "                               mean  min    max\n",
       "meat_seafood                                   \n",
       "Meat Seafood Buyers       15.911291  1.0   99.0\n",
       "No Meat Seafood Buyers    17.167857  1.0  100.0"
      ]
     },
     "execution_count": 82,
     "metadata": {},
     "output_type": "execute_result"
    }
   ],
   "source": [
    "df_COP.groupby('meat_seafood').agg({'order_number' : ['mean', 'min', 'max']})"
   ]
  },
  {
   "cell_type": "code",
   "execution_count": 83,
   "id": "e9293c0e",
   "metadata": {
    "scrolled": true
   },
   "outputs": [
    {
     "data": {
      "text/html": [
       "<div>\n",
       "<style scoped>\n",
       "    .dataframe tbody tr th:only-of-type {\n",
       "        vertical-align: middle;\n",
       "    }\n",
       "\n",
       "    .dataframe tbody tr th {\n",
       "        vertical-align: top;\n",
       "    }\n",
       "\n",
       "    .dataframe thead tr th {\n",
       "        text-align: left;\n",
       "    }\n",
       "\n",
       "    .dataframe thead tr:last-of-type th {\n",
       "        text-align: right;\n",
       "    }\n",
       "</style>\n",
       "<table border=\"1\" class=\"dataframe\">\n",
       "  <thead>\n",
       "    <tr>\n",
       "      <th></th>\n",
       "      <th colspan=\"3\" halign=\"left\">prices</th>\n",
       "    </tr>\n",
       "    <tr>\n",
       "      <th></th>\n",
       "      <th>mean</th>\n",
       "      <th>min</th>\n",
       "      <th>max</th>\n",
       "    </tr>\n",
       "    <tr>\n",
       "      <th>meat_seafood</th>\n",
       "      <th></th>\n",
       "      <th></th>\n",
       "      <th></th>\n",
       "    </tr>\n",
       "  </thead>\n",
       "  <tbody>\n",
       "    <tr>\n",
       "      <th>Meat Seafood Buyers</th>\n",
       "      <td>16.345200</td>\n",
       "      <td>8.0</td>\n",
       "      <td>25.0</td>\n",
       "    </tr>\n",
       "    <tr>\n",
       "      <th>No Meat Seafood Buyers</th>\n",
       "      <td>11.948288</td>\n",
       "      <td>1.0</td>\n",
       "      <td>99999.0</td>\n",
       "    </tr>\n",
       "  </tbody>\n",
       "</table>\n",
       "</div>"
      ],
      "text/plain": [
       "                           prices              \n",
       "                             mean  min      max\n",
       "meat_seafood                                   \n",
       "Meat Seafood Buyers     16.345200  8.0     25.0\n",
       "No Meat Seafood Buyers  11.948288  1.0  99999.0"
      ]
     },
     "execution_count": 83,
     "metadata": {},
     "output_type": "execute_result"
    }
   ],
   "source": [
    "df_COP.groupby('meat_seafood').agg({'prices' : ['mean', 'min', 'max']})"
   ]
  },
  {
   "cell_type": "markdown",
   "id": "823f71e0",
   "metadata": {},
   "source": [
    "Customers who purchase meat or seafood place slighlty less orders on average than those who do not buy theses products, but they buy slightly more expensive products on average."
   ]
  },
  {
   "cell_type": "markdown",
   "id": "4ba2aa27",
   "metadata": {},
   "source": [
    "ALCOHOL BUYERS:"
   ]
  },
  {
   "cell_type": "code",
   "execution_count": 84,
   "id": "391783c3",
   "metadata": {},
   "outputs": [
    {
     "data": {
      "text/html": [
       "<div>\n",
       "<style scoped>\n",
       "    .dataframe tbody tr th:only-of-type {\n",
       "        vertical-align: middle;\n",
       "    }\n",
       "\n",
       "    .dataframe tbody tr th {\n",
       "        vertical-align: top;\n",
       "    }\n",
       "\n",
       "    .dataframe thead tr th {\n",
       "        text-align: left;\n",
       "    }\n",
       "\n",
       "    .dataframe thead tr:last-of-type th {\n",
       "        text-align: right;\n",
       "    }\n",
       "</style>\n",
       "<table border=\"1\" class=\"dataframe\">\n",
       "  <thead>\n",
       "    <tr>\n",
       "      <th></th>\n",
       "      <th colspan=\"3\" halign=\"left\">order_number</th>\n",
       "    </tr>\n",
       "    <tr>\n",
       "      <th></th>\n",
       "      <th>mean</th>\n",
       "      <th>min</th>\n",
       "      <th>max</th>\n",
       "    </tr>\n",
       "    <tr>\n",
       "      <th>alcohol</th>\n",
       "      <th></th>\n",
       "      <th></th>\n",
       "      <th></th>\n",
       "    </tr>\n",
       "  </thead>\n",
       "  <tbody>\n",
       "    <tr>\n",
       "      <th>Alcohol</th>\n",
       "      <td>15.007955</td>\n",
       "      <td>1.0</td>\n",
       "      <td>99.0</td>\n",
       "    </tr>\n",
       "    <tr>\n",
       "      <th>No Alcohol</th>\n",
       "      <td>17.150532</td>\n",
       "      <td>1.0</td>\n",
       "      <td>100.0</td>\n",
       "    </tr>\n",
       "  </tbody>\n",
       "</table>\n",
       "</div>"
      ],
      "text/plain": [
       "           order_number            \n",
       "                   mean  min    max\n",
       "alcohol                            \n",
       "Alcohol       15.007955  1.0   99.0\n",
       "No Alcohol    17.150532  1.0  100.0"
      ]
     },
     "execution_count": 84,
     "metadata": {},
     "output_type": "execute_result"
    }
   ],
   "source": [
    "df_COP.groupby('alcohol').agg({'order_number' : ['mean', 'min', 'max']})"
   ]
  },
  {
   "cell_type": "code",
   "execution_count": 85,
   "id": "e8e74447",
   "metadata": {
    "scrolled": true
   },
   "outputs": [
    {
     "data": {
      "text/html": [
       "<div>\n",
       "<style scoped>\n",
       "    .dataframe tbody tr th:only-of-type {\n",
       "        vertical-align: middle;\n",
       "    }\n",
       "\n",
       "    .dataframe tbody tr th {\n",
       "        vertical-align: top;\n",
       "    }\n",
       "\n",
       "    .dataframe thead tr th {\n",
       "        text-align: left;\n",
       "    }\n",
       "\n",
       "    .dataframe thead tr:last-of-type th {\n",
       "        text-align: right;\n",
       "    }\n",
       "</style>\n",
       "<table border=\"1\" class=\"dataframe\">\n",
       "  <thead>\n",
       "    <tr>\n",
       "      <th></th>\n",
       "      <th colspan=\"3\" halign=\"left\">prices</th>\n",
       "    </tr>\n",
       "    <tr>\n",
       "      <th></th>\n",
       "      <th>mean</th>\n",
       "      <th>min</th>\n",
       "      <th>max</th>\n",
       "    </tr>\n",
       "    <tr>\n",
       "      <th>alcohol</th>\n",
       "      <th></th>\n",
       "      <th></th>\n",
       "      <th></th>\n",
       "    </tr>\n",
       "  </thead>\n",
       "  <tbody>\n",
       "    <tr>\n",
       "      <th>Alcohol</th>\n",
       "      <td>8.135694</td>\n",
       "      <td>1.0</td>\n",
       "      <td>15.0</td>\n",
       "    </tr>\n",
       "    <tr>\n",
       "      <th>No Alcohol</th>\n",
       "      <td>12.063879</td>\n",
       "      <td>1.0</td>\n",
       "      <td>99999.0</td>\n",
       "    </tr>\n",
       "  </tbody>\n",
       "</table>\n",
       "</div>"
      ],
      "text/plain": [
       "               prices              \n",
       "                 mean  min      max\n",
       "alcohol                            \n",
       "Alcohol      8.135694  1.0     15.0\n",
       "No Alcohol  12.063879  1.0  99999.0"
      ]
     },
     "execution_count": 85,
     "metadata": {},
     "output_type": "execute_result"
    }
   ],
   "source": [
    "df_COP.groupby('alcohol').agg({'prices' : ['mean', 'min', 'max']})"
   ]
  },
  {
   "cell_type": "markdown",
   "id": "9377c8ec",
   "metadata": {},
   "source": [
    "Customers who purchase alcohol place slighlty less orders on average than those who do not buy alcohol, and they spent much less money on their products on average."
   ]
  },
  {
   "cell_type": "markdown",
   "id": "e0e7ee14",
   "metadata": {},
   "source": [
    "# 8. Compare your customer profiles with regions and departments. Can you identify a link between them? Customers may demonstrate different behaviors across regions, which could make this information important."
   ]
  },
  {
   "cell_type": "code",
   "execution_count": null,
   "id": "248dc3e6",
   "metadata": {},
   "outputs": [],
   "source": [
    "CUSTOMER PROFILES BY REGIONS"
   ]
  },
  {
   "cell_type": "markdown",
   "id": "32c4dfcb",
   "metadata": {},
   "source": [
    "INCOME LEVEL BY REGIONS:"
   ]
  },
  {
   "cell_type": "code",
   "execution_count": 95,
   "id": "95c0690d",
   "metadata": {},
   "outputs": [],
   "source": [
    "df_reg_inc = pd.crosstab(df_COP['region'],df_COP['income_level'], dropna = False)"
   ]
  },
  {
   "cell_type": "code",
   "execution_count": 96,
   "id": "03f810f1",
   "metadata": {},
   "outputs": [
    {
     "data": {
      "text/html": [
       "<div>\n",
       "<style scoped>\n",
       "    .dataframe tbody tr th:only-of-type {\n",
       "        vertical-align: middle;\n",
       "    }\n",
       "\n",
       "    .dataframe tbody tr th {\n",
       "        vertical-align: top;\n",
       "    }\n",
       "\n",
       "    .dataframe thead th {\n",
       "        text-align: right;\n",
       "    }\n",
       "</style>\n",
       "<table border=\"1\" class=\"dataframe\">\n",
       "  <thead>\n",
       "    <tr style=\"text-align: right;\">\n",
       "      <th>income_level</th>\n",
       "      <th>Higher income</th>\n",
       "      <th>Lower income</th>\n",
       "      <th>Middle income</th>\n",
       "    </tr>\n",
       "    <tr>\n",
       "      <th>region</th>\n",
       "      <th></th>\n",
       "      <th></th>\n",
       "      <th></th>\n",
       "    </tr>\n",
       "  </thead>\n",
       "  <tbody>\n",
       "    <tr>\n",
       "      <th>Midwest</th>\n",
       "      <td>229667</td>\n",
       "      <td>143747</td>\n",
       "      <td>391347</td>\n",
       "    </tr>\n",
       "    <tr>\n",
       "      <th>Northeast</th>\n",
       "      <td>171485</td>\n",
       "      <td>108895</td>\n",
       "      <td>296194</td>\n",
       "    </tr>\n",
       "    <tr>\n",
       "      <th>South</th>\n",
       "      <td>298170</td>\n",
       "      <td>196736</td>\n",
       "      <td>526952</td>\n",
       "    </tr>\n",
       "    <tr>\n",
       "      <th>West</th>\n",
       "      <td>264228</td>\n",
       "      <td>170927</td>\n",
       "      <td>465669</td>\n",
       "    </tr>\n",
       "  </tbody>\n",
       "</table>\n",
       "</div>"
      ],
      "text/plain": [
       "income_level  Higher income  Lower income  Middle income\n",
       "region                                                  \n",
       "Midwest              229667        143747         391347\n",
       "Northeast            171485        108895         296194\n",
       "South                298170        196736         526952\n",
       "West                 264228        170927         465669"
      ]
     },
     "execution_count": 96,
     "metadata": {},
     "output_type": "execute_result"
    }
   ],
   "source": [
    "df_reg_inc"
   ]
  },
  {
   "cell_type": "code",
   "execution_count": 97,
   "id": "b48ebbb7",
   "metadata": {
    "scrolled": true
   },
   "outputs": [
    {
     "data": {
      "image/png": "[encoded data removed]",
      "text/plain": [
       "<Figure size 432x288 with 1 Axes>"
      ]
     },
     "metadata": {
      "needs_background": "light"
     },
     "output_type": "display_data"
    }
   ],
   "source": [
    "df_reg_inc = df_reg_inc.plot(kind = 'bar', stacked = True, xlabel = 'Regions', ylabel = 'Income levels', rot = 0).legend(loc='best')"
   ]
  },
  {
   "cell_type": "markdown",
   "id": "76c07a4c",
   "metadata": {},
   "source": [
    "In all 4 regions the Middle income houshold represent the majority of customers, followed by Higher income shoppers. The Lower income clients are the smallest group in all 4 regions."
   ]
  },
  {
   "cell_type": "code",
   "execution_count": 98,
   "id": "5e5607c6",
   "metadata": {},
   "outputs": [],
   "source": [
    "df_reg_inc.figure.savefig(r'D:\\CareerFoundry\\Data Immersion\\Task 4\\Instacart Basket Analysis_2021-07-22\\04 Analysis\\Visualizations\\bar_df_region_inc.png')"
   ]
  },
  {
   "cell_type": "markdown",
   "id": "572ce5a2",
   "metadata": {},
   "source": [
    "PARENT'S AGE BY REGIONS:"
   ]
  },
  {
   "cell_type": "code",
   "execution_count": 99,
   "id": "452dba3b",
   "metadata": {},
   "outputs": [],
   "source": [
    "df_reg_parnt = pd.crosstab(df_COP['region'],df_COP['parent_age'], dropna = False)"
   ]
  },
  {
   "cell_type": "code",
   "execution_count": 100,
   "id": "eb9d4d4f",
   "metadata": {},
   "outputs": [
    {
     "data": {
      "text/html": [
       "<div>\n",
       "<style scoped>\n",
       "    .dataframe tbody tr th:only-of-type {\n",
       "        vertical-align: middle;\n",
       "    }\n",
       "\n",
       "    .dataframe tbody tr th {\n",
       "        vertical-align: top;\n",
       "    }\n",
       "\n",
       "    .dataframe thead th {\n",
       "        text-align: right;\n",
       "    }\n",
       "</style>\n",
       "<table border=\"1\" class=\"dataframe\">\n",
       "  <thead>\n",
       "    <tr style=\"text-align: right;\">\n",
       "      <th>parent_age</th>\n",
       "      <th>Middle age parent</th>\n",
       "      <th>Older parent</th>\n",
       "      <th>Young parent</th>\n",
       "    </tr>\n",
       "    <tr>\n",
       "      <th>region</th>\n",
       "      <th></th>\n",
       "      <th></th>\n",
       "      <th></th>\n",
       "    </tr>\n",
       "  </thead>\n",
       "  <tbody>\n",
       "    <tr>\n",
       "      <th>Midwest</th>\n",
       "      <td>182346</td>\n",
       "      <td>229167</td>\n",
       "      <td>161219</td>\n",
       "    </tr>\n",
       "    <tr>\n",
       "      <th>Northeast</th>\n",
       "      <td>135571</td>\n",
       "      <td>176644</td>\n",
       "      <td>121898</td>\n",
       "    </tr>\n",
       "    <tr>\n",
       "      <th>South</th>\n",
       "      <td>239724</td>\n",
       "      <td>308741</td>\n",
       "      <td>218912</td>\n",
       "    </tr>\n",
       "    <tr>\n",
       "      <th>West</th>\n",
       "      <td>211863</td>\n",
       "      <td>272174</td>\n",
       "      <td>190396</td>\n",
       "    </tr>\n",
       "  </tbody>\n",
       "</table>\n",
       "</div>"
      ],
      "text/plain": [
       "parent_age  Middle age parent  Older parent  Young parent\n",
       "region                                                   \n",
       "Midwest                182346        229167        161219\n",
       "Northeast              135571        176644        121898\n",
       "South                  239724        308741        218912\n",
       "West                   211863        272174        190396"
      ]
     },
     "execution_count": 100,
     "metadata": {},
     "output_type": "execute_result"
    }
   ],
   "source": [
    "df_reg_parnt"
   ]
  },
  {
   "cell_type": "code",
   "execution_count": 101,
   "id": "dda46cbf",
   "metadata": {},
   "outputs": [
    {
     "data": {
      "image/png": "[encoded data removed]",
      "text/plain": [
       "<Figure size 432x288 with 1 Axes>"
      ]
     },
     "metadata": {
      "needs_background": "light"
     },
     "output_type": "display_data"
    }
   ],
   "source": [
    "df_reg_parnt = df_reg_parnt.plot(kind = 'bar', stacked = True, xlabel = 'Regions', ylabel = 'Parent Age', rot = 0).legend(loc='best')"
   ]
  },
  {
   "cell_type": "markdown",
   "id": "c43d1770",
   "metadata": {},
   "source": []
  },
  {
   "cell_type": "markdown",
   "id": "3110c684",
   "metadata": {},
   "source": [
    "Older parents of age 55+ are the majority in all regions, followed by Middle age parents. Younger parents are the least represented group."
   ]
  },
  {
   "cell_type": "markdown",
   "id": "14622d58",
   "metadata": {},
   "source": [
    "FAMILY SIR BY REGIONS:"
   ]
  },
  {
   "cell_type": "code",
   "execution_count": 102,
   "id": "c9ada991",
   "metadata": {},
   "outputs": [],
   "source": [
    "df_reg_parnt.figure.savefig(r'D:\\CareerFoundry\\Data Immersion\\Task 4\\Instacart Basket Analysis_2021-07-22\\04 Analysis\\Visualizations\\bar_df_reg_parnt.png')"
   ]
  },
  {
   "cell_type": "code",
   "execution_count": 103,
   "id": "ed178409",
   "metadata": {},
   "outputs": [],
   "source": [
    "df_reg_fam_size = pd.crosstab(df_COP['region'],df_COP['fam_size'], dropna = False)"
   ]
  },
  {
   "cell_type": "code",
   "execution_count": 104,
   "id": "5bbdd8c0",
   "metadata": {},
   "outputs": [
    {
     "data": {
      "text/html": [
       "<div>\n",
       "<style scoped>\n",
       "    .dataframe tbody tr th:only-of-type {\n",
       "        vertical-align: middle;\n",
       "    }\n",
       "\n",
       "    .dataframe tbody tr th {\n",
       "        vertical-align: top;\n",
       "    }\n",
       "\n",
       "    .dataframe thead th {\n",
       "        text-align: right;\n",
       "    }\n",
       "</style>\n",
       "<table border=\"1\" class=\"dataframe\">\n",
       "  <thead>\n",
       "    <tr style=\"text-align: right;\">\n",
       "      <th>fam_size</th>\n",
       "      <th>Big family</th>\n",
       "      <th>No dependents</th>\n",
       "      <th>Small family</th>\n",
       "    </tr>\n",
       "    <tr>\n",
       "      <th>region</th>\n",
       "      <th></th>\n",
       "      <th></th>\n",
       "      <th></th>\n",
       "    </tr>\n",
       "  </thead>\n",
       "  <tbody>\n",
       "    <tr>\n",
       "      <th>Midwest</th>\n",
       "      <td>379248</td>\n",
       "      <td>192029</td>\n",
       "      <td>193484</td>\n",
       "    </tr>\n",
       "    <tr>\n",
       "      <th>Northeast</th>\n",
       "      <td>288423</td>\n",
       "      <td>142461</td>\n",
       "      <td>145690</td>\n",
       "    </tr>\n",
       "    <tr>\n",
       "      <th>South</th>\n",
       "      <td>515174</td>\n",
       "      <td>254481</td>\n",
       "      <td>252203</td>\n",
       "    </tr>\n",
       "    <tr>\n",
       "      <th>West</th>\n",
       "      <td>451105</td>\n",
       "      <td>226391</td>\n",
       "      <td>223328</td>\n",
       "    </tr>\n",
       "  </tbody>\n",
       "</table>\n",
       "</div>"
      ],
      "text/plain": [
       "fam_size   Big family  No dependents  Small family\n",
       "region                                            \n",
       "Midwest        379248         192029        193484\n",
       "Northeast      288423         142461        145690\n",
       "South          515174         254481        252203\n",
       "West           451105         226391        223328"
      ]
     },
     "execution_count": 104,
     "metadata": {},
     "output_type": "execute_result"
    }
   ],
   "source": [
    "df_reg_fam_size"
   ]
  },
  {
   "cell_type": "code",
   "execution_count": 105,
   "id": "b525b48c",
   "metadata": {
    "scrolled": true
   },
   "outputs": [
    {
     "data": {
      "image/png": "[encoded data removed]",
      "text/plain": [
       "<Figure size 432x288 with 1 Axes>"
      ]
     },
     "metadata": {
      "needs_background": "light"
     },
     "output_type": "display_data"
    }
   ],
   "source": [
    "df_reg_fam_size = df_reg_fam_size.plot(kind = 'bar', stacked = True, xlabel = 'Regions', ylabel = 'Family Size', rot = 0).legend(loc='best')"
   ]
  },
  {
   "cell_type": "markdown",
   "id": "c30a7028",
   "metadata": {},
   "source": [
    "In all regions Big families are the majority, followed by Small families and housholds wiht no dependents."
   ]
  },
  {
   "cell_type": "markdown",
   "id": "f7e81622",
   "metadata": {},
   "source": [
    "SPENDING FLAG BY REGIONS:"
   ]
  },
  {
   "cell_type": "code",
   "execution_count": 106,
   "id": "b6e56a13",
   "metadata": {},
   "outputs": [],
   "source": [
    "df_reg_fam_size.figure.savefig(r'D:\\CareerFoundry\\Data Immersion\\Task 4\\Instacart Basket Analysis_2021-07-22\\04 Analysis\\Visualizations\\bar_df_reg_fam_size.png')"
   ]
  },
  {
   "cell_type": "code",
   "execution_count": 107,
   "id": "9195fab5",
   "metadata": {},
   "outputs": [],
   "source": [
    "df_reg_spend = pd.crosstab(df_COP['region'],df_COP['spending_flag'], dropna = False)"
   ]
  },
  {
   "cell_type": "code",
   "execution_count": 108,
   "id": "a0ab6929",
   "metadata": {},
   "outputs": [
    {
     "data": {
      "text/html": [
       "<div>\n",
       "<style scoped>\n",
       "    .dataframe tbody tr th:only-of-type {\n",
       "        vertical-align: middle;\n",
       "    }\n",
       "\n",
       "    .dataframe tbody tr th {\n",
       "        vertical-align: top;\n",
       "    }\n",
       "\n",
       "    .dataframe thead th {\n",
       "        text-align: right;\n",
       "    }\n",
       "</style>\n",
       "<table border=\"1\" class=\"dataframe\">\n",
       "  <thead>\n",
       "    <tr style=\"text-align: right;\">\n",
       "      <th>spending_flag</th>\n",
       "      <th>High spender</th>\n",
       "      <th>Low spender</th>\n",
       "    </tr>\n",
       "    <tr>\n",
       "      <th>region</th>\n",
       "      <th></th>\n",
       "      <th></th>\n",
       "    </tr>\n",
       "  </thead>\n",
       "  <tbody>\n",
       "    <tr>\n",
       "      <th>Midwest</th>\n",
       "      <td>30866</td>\n",
       "      <td>733715</td>\n",
       "    </tr>\n",
       "    <tr>\n",
       "      <th>Northeast</th>\n",
       "      <td>22517</td>\n",
       "      <td>553918</td>\n",
       "    </tr>\n",
       "    <tr>\n",
       "      <th>South</th>\n",
       "      <td>40944</td>\n",
       "      <td>980686</td>\n",
       "    </tr>\n",
       "    <tr>\n",
       "      <th>West</th>\n",
       "      <td>34922</td>\n",
       "      <td>865688</td>\n",
       "    </tr>\n",
       "  </tbody>\n",
       "</table>\n",
       "</div>"
      ],
      "text/plain": [
       "spending_flag  High spender  Low spender\n",
       "region                                  \n",
       "Midwest               30866       733715\n",
       "Northeast             22517       553918\n",
       "South                 40944       980686\n",
       "West                  34922       865688"
      ]
     },
     "execution_count": 108,
     "metadata": {},
     "output_type": "execute_result"
    }
   ],
   "source": [
    "df_reg_spend"
   ]
  },
  {
   "cell_type": "code",
   "execution_count": 109,
   "id": "01b892e9",
   "metadata": {},
   "outputs": [
    {
     "data": {
      "image/png": "[encoded data removed]",
      "text/plain": [
       "<Figure size 432x288 with 1 Axes>"
      ]
     },
     "metadata": {
      "needs_background": "light"
     },
     "output_type": "display_data"
    }
   ],
   "source": [
    "df_reg_spend = df_reg_spend.plot(kind = 'bar', stacked = True, xlabel = 'Regions', ylabel = 'Family Size', rot = 0).legend(loc='best')"
   ]
  },
  {
   "cell_type": "markdown",
   "id": "d36242e0",
   "metadata": {},
   "source": [
    "All regions have mostly less spending customers."
   ]
  },
  {
   "cell_type": "code",
   "execution_count": 110,
   "id": "ce753b3a",
   "metadata": {},
   "outputs": [],
   "source": [
    "df_reg_spend.figure.savefig(r'D:\\CareerFoundry\\Data Immersion\\Task 4\\Instacart Basket Analysis_2021-07-22\\04 Analysis\\Visualizations\\bar_df_reg_spend.png')"
   ]
  },
  {
   "cell_type": "markdown",
   "id": "adf7e82a",
   "metadata": {},
   "source": [
    "CUSTOMER PROFILES by DEPARTMENTS\n",
    "\n",
    "In the dataset there is no column with department names. I take the names from previous exercises and group them according to their ids. This will help in reading the results."
   ]
  },
  {
   "cell_type": "markdown",
   "id": "a4303709",
   "metadata": {},
   "source": [
    "{'1': {'department': 'frozen'},\n",
    " '2': {'department': 'other'},\n",
    " '3': {'department': 'bakery'},\n",
    " '4': {'department': 'produce'},\n",
    " '5': {'department': 'alcohol'},\n",
    " '6': {'department': 'international'},\n",
    " '7': {'department': 'beverages'},\n",
    " '8': {'department': 'pets'},\n",
    " '9': {'department': 'dry goods pasta'},\n",
    " '10': {'department': 'bulk'},\n",
    " '11': {'department': 'personal care'},\n",
    " '12': {'department': 'meat seafood'},\n",
    " '13': {'department': 'pantry'},\n",
    " '14': {'department': 'breakfast'},\n",
    " '15': {'department': 'canned goods'},\n",
    " '16': {'department': 'dairy eggs'},\n",
    " '17': {'department': 'household'},\n",
    " '18': {'department': 'babies'},\n",
    " '19': {'department': 'snacks'},\n",
    " '20': {'department': 'deli'},\n",
    " '21': {'department': 'missing'}}"
   ]
  },
  {
   "cell_type": "code",
   "execution_count": 111,
   "id": "48a71977",
   "metadata": {},
   "outputs": [],
   "source": [
    "result = []\n",
    "\n",
    "for department_id in df_COP['department_id']:\n",
    "    if (department_id == 1.0):\n",
    "        result.append('Frozen')\n",
    "    elif (department_id == 2.0):\n",
    "        result.append('Other')\n",
    "    elif (department_id == 3.0):\n",
    "        result.append('Bakery')\n",
    "    elif (department_id == 4.0):\n",
    "        result.append('Produce')\n",
    "    elif (department_id == 5.0):\n",
    "        result.append('Alcohol')\n",
    "    elif (department_id == 6.0):\n",
    "        result.append('International')\n",
    "    elif (department_id == 7.0):\n",
    "        result.append('Beverages')\n",
    "    elif (department_id == 8.0):\n",
    "        result.append('Pets')\n",
    "    elif (department_id == 9.0):\n",
    "        result.append('Dry Goods, Pasta')\n",
    "    elif (department_id == 10.0):\n",
    "        result.append('Bulk')\n",
    "    elif (department_id == 11.0):\n",
    "        result.append('Personal Care')\n",
    "    elif (department_id == 12.0):\n",
    "        result.append('Meat, Seafood')\n",
    "    elif (department_id == 13.0):\n",
    "        result.append('Pantry')\n",
    "    elif (department_id == 14.0):\n",
    "        result.append('Breakfast')\n",
    "    elif (department_id == 15.0):\n",
    "        result.append('Canned Goods')\n",
    "    elif (department_id == 16.0):\n",
    "        result.append('Dairy, Eggs')\n",
    "    elif (department_id == 17.0):\n",
    "        result.append('Houshold')\n",
    "    elif (department_id == 18.0):\n",
    "        result.append('Babies')\n",
    "    elif (department_id == 19.0):\n",
    "        result.append('Snacks')\n",
    "    elif (department_id == 20.0):\n",
    "        result.append('Deli')\n",
    "    elif (department_id == 21.0):\n",
    "        result.append('Missing')\n",
    "    else:\n",
    "        result.append('Not assigned')"
   ]
  },
  {
   "cell_type": "code",
   "execution_count": 112,
   "id": "a8eb4cdb",
   "metadata": {
    "scrolled": true
   },
   "outputs": [],
   "source": [
    "df_COP['dpt_name'] = result"
   ]
  },
  {
   "cell_type": "code",
   "execution_count": 113,
   "id": "299f3aa2",
   "metadata": {},
   "outputs": [
    {
     "data": {
      "text/plain": [
       "Produce             948301\n",
       "Dairy, Eggs         539522\n",
       "Snacks              288493\n",
       "Beverages           268806\n",
       "Frozen              223101\n",
       "Pantry              187893\n",
       "Bakery              117234\n",
       "Canned Goods        106626\n",
       "Deli                104743\n",
       "Dry Goods, Pasta     86701\n",
       "Houshold             74074\n",
       "Meat, Seafood        71368\n",
       "Breakfast            70314\n",
       "Personal Care        44653\n",
       "Babies               42224\n",
       "International        26786\n",
       "Not assigned         23847\n",
       "Alcohol              15462\n",
       "Pets                  9899\n",
       "Missing               6918\n",
       "Other                 3639\n",
       "Bulk                  3413\n",
       "Name: dpt_name, dtype: int64"
      ]
     },
     "execution_count": 113,
     "metadata": {},
     "output_type": "execute_result"
    }
   ],
   "source": [
    "df_COP['dpt_name'].value_counts(dropna = False)"
   ]
  },
  {
   "cell_type": "markdown",
   "id": "372d76da",
   "metadata": {},
   "source": [
    "DEPARTMETNS BY ORDERS:"
   ]
  },
  {
   "cell_type": "code",
   "execution_count": 114,
   "id": "201c7985",
   "metadata": {},
   "outputs": [],
   "source": [
    "df_dept_ord = df_COP.groupby('dpt_name').agg({'order_number' : ['sum']})"
   ]
  },
  {
   "cell_type": "code",
   "execution_count": 115,
   "id": "b8f80fcc",
   "metadata": {},
   "outputs": [
    {
     "data": {
      "image/png": "[encoded data removed]",
      "text/plain": [
       "<Figure size 432x288 with 1 Axes>"
      ]
     },
     "metadata": {
      "needs_background": "light"
     },
     "output_type": "display_data"
    }
   ],
   "source": [
    "df_dept_ord = df_dept_ord.plot(kind = 'barh', stacked = True, xlabel = 'Departments', ylabel = 'Orders', rot = 0).legend(loc='best')"
   ]
  },
  {
   "cell_type": "code",
   "execution_count": 116,
   "id": "b25bb9f7",
   "metadata": {},
   "outputs": [],
   "source": [
    "df_dept_ord.figure.savefig(r'D:\\CareerFoundry\\Data Immersion\\Task 4\\Instacart Basket Analysis_2021-07-22\\04 Analysis\\Visualizations\\barh_df_dept_ord.png')"
   ]
  },
  {
   "cell_type": "code",
   "execution_count": null,
   "id": "76324870",
   "metadata": {},
   "outputs": [],
   "source": [
    "INCOME LEVEL BY DEPARTMENTS:"
   ]
  },
  {
   "cell_type": "code",
   "execution_count": 117,
   "id": "de74fc0d",
   "metadata": {},
   "outputs": [],
   "source": [
    "df_dept_inc = pd.crosstab(df_COP['dpt_name'],df_COP['income_level'], dropna = False)"
   ]
  },
  {
   "cell_type": "code",
   "execution_count": 118,
   "id": "69cccc4c",
   "metadata": {},
   "outputs": [
    {
     "data": {
      "text/html": [
       "<div>\n",
       "<style scoped>\n",
       "    .dataframe tbody tr th:only-of-type {\n",
       "        vertical-align: middle;\n",
       "    }\n",
       "\n",
       "    .dataframe tbody tr th {\n",
       "        vertical-align: top;\n",
       "    }\n",
       "\n",
       "    .dataframe thead th {\n",
       "        text-align: right;\n",
       "    }\n",
       "</style>\n",
       "<table border=\"1\" class=\"dataframe\">\n",
       "  <thead>\n",
       "    <tr style=\"text-align: right;\">\n",
       "      <th>income_level</th>\n",
       "      <th>Higher income</th>\n",
       "      <th>Lower income</th>\n",
       "      <th>Middle income</th>\n",
       "    </tr>\n",
       "    <tr>\n",
       "      <th>dpt_name</th>\n",
       "      <th></th>\n",
       "      <th></th>\n",
       "      <th></th>\n",
       "    </tr>\n",
       "  </thead>\n",
       "  <tbody>\n",
       "    <tr>\n",
       "      <th>Alcohol</th>\n",
       "      <td>4950</td>\n",
       "      <td>3183</td>\n",
       "      <td>7329</td>\n",
       "    </tr>\n",
       "    <tr>\n",
       "      <th>Babies</th>\n",
       "      <td>12878</td>\n",
       "      <td>5965</td>\n",
       "      <td>23381</td>\n",
       "    </tr>\n",
       "    <tr>\n",
       "      <th>Bakery</th>\n",
       "      <td>35810</td>\n",
       "      <td>20600</td>\n",
       "      <td>60824</td>\n",
       "    </tr>\n",
       "    <tr>\n",
       "      <th>Beverages</th>\n",
       "      <td>76223</td>\n",
       "      <td>62224</td>\n",
       "      <td>130359</td>\n",
       "    </tr>\n",
       "    <tr>\n",
       "      <th>Breakfast</th>\n",
       "      <td>20043</td>\n",
       "      <td>15411</td>\n",
       "      <td>34860</td>\n",
       "    </tr>\n",
       "    <tr>\n",
       "      <th>Bulk</th>\n",
       "      <td>901</td>\n",
       "      <td>757</td>\n",
       "      <td>1755</td>\n",
       "    </tr>\n",
       "    <tr>\n",
       "      <th>Canned Goods</th>\n",
       "      <td>32792</td>\n",
       "      <td>17120</td>\n",
       "      <td>56714</td>\n",
       "    </tr>\n",
       "    <tr>\n",
       "      <th>Dairy, Eggs</th>\n",
       "      <td>161192</td>\n",
       "      <td>95211</td>\n",
       "      <td>283119</td>\n",
       "    </tr>\n",
       "    <tr>\n",
       "      <th>Deli</th>\n",
       "      <td>30805</td>\n",
       "      <td>19654</td>\n",
       "      <td>54284</td>\n",
       "    </tr>\n",
       "    <tr>\n",
       "      <th>Dry Goods, Pasta</th>\n",
       "      <td>26341</td>\n",
       "      <td>13670</td>\n",
       "      <td>46690</td>\n",
       "    </tr>\n",
       "    <tr>\n",
       "      <th>Frozen</th>\n",
       "      <td>67061</td>\n",
       "      <td>40450</td>\n",
       "      <td>115590</td>\n",
       "    </tr>\n",
       "    <tr>\n",
       "      <th>Houshold</th>\n",
       "      <td>22041</td>\n",
       "      <td>15223</td>\n",
       "      <td>36810</td>\n",
       "    </tr>\n",
       "    <tr>\n",
       "      <th>International</th>\n",
       "      <td>7964</td>\n",
       "      <td>4466</td>\n",
       "      <td>14356</td>\n",
       "    </tr>\n",
       "    <tr>\n",
       "      <th>Meat, Seafood</th>\n",
       "      <td>22966</td>\n",
       "      <td>8815</td>\n",
       "      <td>39587</td>\n",
       "    </tr>\n",
       "    <tr>\n",
       "      <th>Missing</th>\n",
       "      <td>2080</td>\n",
       "      <td>1272</td>\n",
       "      <td>3566</td>\n",
       "    </tr>\n",
       "    <tr>\n",
       "      <th>Not assigned</th>\n",
       "      <td>6787</td>\n",
       "      <td>5616</td>\n",
       "      <td>11444</td>\n",
       "    </tr>\n",
       "    <tr>\n",
       "      <th>Other</th>\n",
       "      <td>1082</td>\n",
       "      <td>706</td>\n",
       "      <td>1851</td>\n",
       "    </tr>\n",
       "    <tr>\n",
       "      <th>Pantry</th>\n",
       "      <td>57194</td>\n",
       "      <td>32423</td>\n",
       "      <td>98276</td>\n",
       "    </tr>\n",
       "    <tr>\n",
       "      <th>Personal Care</th>\n",
       "      <td>13172</td>\n",
       "      <td>8702</td>\n",
       "      <td>22779</td>\n",
       "    </tr>\n",
       "    <tr>\n",
       "      <th>Pets</th>\n",
       "      <td>3107</td>\n",
       "      <td>1621</td>\n",
       "      <td>5171</td>\n",
       "    </tr>\n",
       "    <tr>\n",
       "      <th>Produce</th>\n",
       "      <td>283995</td>\n",
       "      <td>162016</td>\n",
       "      <td>502290</td>\n",
       "    </tr>\n",
       "    <tr>\n",
       "      <th>Snacks</th>\n",
       "      <td>74166</td>\n",
       "      <td>85200</td>\n",
       "      <td>129127</td>\n",
       "    </tr>\n",
       "  </tbody>\n",
       "</table>\n",
       "</div>"
      ],
      "text/plain": [
       "income_level      Higher income  Lower income  Middle income\n",
       "dpt_name                                                    \n",
       "Alcohol                    4950          3183           7329\n",
       "Babies                    12878          5965          23381\n",
       "Bakery                    35810         20600          60824\n",
       "Beverages                 76223         62224         130359\n",
       "Breakfast                 20043         15411          34860\n",
       "Bulk                        901           757           1755\n",
       "Canned Goods              32792         17120          56714\n",
       "Dairy, Eggs              161192         95211         283119\n",
       "Deli                      30805         19654          54284\n",
       "Dry Goods, Pasta          26341         13670          46690\n",
       "Frozen                    67061         40450         115590\n",
       "Houshold                  22041         15223          36810\n",
       "International              7964          4466          14356\n",
       "Meat, Seafood             22966          8815          39587\n",
       "Missing                    2080          1272           3566\n",
       "Not assigned               6787          5616          11444\n",
       "Other                      1082           706           1851\n",
       "Pantry                    57194         32423          98276\n",
       "Personal Care             13172          8702          22779\n",
       "Pets                       3107          1621           5171\n",
       "Produce                  283995        162016         502290\n",
       "Snacks                    74166         85200         129127"
      ]
     },
     "execution_count": 118,
     "metadata": {},
     "output_type": "execute_result"
    }
   ],
   "source": [
    "df_dept_inc "
   ]
  },
  {
   "cell_type": "code",
   "execution_count": 119,
   "id": "4058e40b",
   "metadata": {},
   "outputs": [],
   "source": [
    "df_dept_inc.to_csv(r'D:\\CareerFoundry\\Data Immersion\\Task 4\\Instacart Basket Analysis_2021-07-22\\02 Data\\Prepared Data\\df_dept_inc.csv')"
   ]
  },
  {
   "cell_type": "code",
   "execution_count": 120,
   "id": "45627ab1",
   "metadata": {},
   "outputs": [
    {
     "data": {
      "image/png": "[encoded data removed]",
      "text/plain": [
       "<Figure size 432x288 with 1 Axes>"
      ]
     },
     "metadata": {
      "needs_background": "light"
     },
     "output_type": "display_data"
    }
   ],
   "source": [
    "df_dept_inc = df_dept_inc.plot(kind = 'barh', stacked = True, xlabel = 'Departments', ylabel = 'Income Levels', rot = 0).legend(loc='best')"
   ]
  },
  {
   "cell_type": "markdown",
   "id": "1c075d88",
   "metadata": {},
   "source": [
    "Similary to regions, the Middle income households are the biggest group of buyers within the most popular departments."
   ]
  },
  {
   "cell_type": "code",
   "execution_count": 121,
   "id": "83797184",
   "metadata": {},
   "outputs": [],
   "source": [
    "df_dept_inc.figure.savefig(r'D:\\CareerFoundry\\Data Immersion\\Task 4\\Instacart Basket Analysis_2021-07-22\\04 Analysis\\Visualizations\\barh_df_dept_inc.png')"
   ]
  },
  {
   "cell_type": "markdown",
   "id": "100342c8",
   "metadata": {},
   "source": [
    "PARENT'S AGE BY DEPARTMENTS:"
   ]
  },
  {
   "cell_type": "code",
   "execution_count": 122,
   "id": "6f5a7cfd",
   "metadata": {},
   "outputs": [],
   "source": [
    "df_dept_parnt = pd.crosstab(df_COP['dpt_name'],df_COP['parent_age'], dropna = False)"
   ]
  },
  {
   "cell_type": "code",
   "execution_count": 123,
   "id": "531878c0",
   "metadata": {},
   "outputs": [
    {
     "data": {
      "text/html": [
       "<div>\n",
       "<style scoped>\n",
       "    .dataframe tbody tr th:only-of-type {\n",
       "        vertical-align: middle;\n",
       "    }\n",
       "\n",
       "    .dataframe tbody tr th {\n",
       "        vertical-align: top;\n",
       "    }\n",
       "\n",
       "    .dataframe thead th {\n",
       "        text-align: right;\n",
       "    }\n",
       "</style>\n",
       "<table border=\"1\" class=\"dataframe\">\n",
       "  <thead>\n",
       "    <tr style=\"text-align: right;\">\n",
       "      <th>parent_age</th>\n",
       "      <th>Middle age parent</th>\n",
       "      <th>Older parent</th>\n",
       "      <th>Young parent</th>\n",
       "    </tr>\n",
       "    <tr>\n",
       "      <th>dpt_name</th>\n",
       "      <th></th>\n",
       "      <th></th>\n",
       "      <th></th>\n",
       "    </tr>\n",
       "  </thead>\n",
       "  <tbody>\n",
       "    <tr>\n",
       "      <th>Alcohol</th>\n",
       "      <td>3406</td>\n",
       "      <td>4670</td>\n",
       "      <td>3388</td>\n",
       "    </tr>\n",
       "    <tr>\n",
       "      <th>Babies</th>\n",
       "      <td>10290</td>\n",
       "      <td>12566</td>\n",
       "      <td>8837</td>\n",
       "    </tr>\n",
       "    <tr>\n",
       "      <th>Bakery</th>\n",
       "      <td>27483</td>\n",
       "      <td>35294</td>\n",
       "      <td>24935</td>\n",
       "    </tr>\n",
       "    <tr>\n",
       "      <th>Beverages</th>\n",
       "      <td>63020</td>\n",
       "      <td>82447</td>\n",
       "      <td>55949</td>\n",
       "    </tr>\n",
       "    <tr>\n",
       "      <th>Breakfast</th>\n",
       "      <td>16505</td>\n",
       "      <td>21283</td>\n",
       "      <td>15092</td>\n",
       "    </tr>\n",
       "    <tr>\n",
       "      <th>Bulk</th>\n",
       "      <td>812</td>\n",
       "      <td>1028</td>\n",
       "      <td>766</td>\n",
       "    </tr>\n",
       "    <tr>\n",
       "      <th>Canned Goods</th>\n",
       "      <td>24899</td>\n",
       "      <td>32451</td>\n",
       "      <td>22798</td>\n",
       "    </tr>\n",
       "    <tr>\n",
       "      <th>Dairy, Eggs</th>\n",
       "      <td>126858</td>\n",
       "      <td>162247</td>\n",
       "      <td>115709</td>\n",
       "    </tr>\n",
       "    <tr>\n",
       "      <th>Deli</th>\n",
       "      <td>24538</td>\n",
       "      <td>31563</td>\n",
       "      <td>22234</td>\n",
       "    </tr>\n",
       "    <tr>\n",
       "      <th>Dry Goods, Pasta</th>\n",
       "      <td>20617</td>\n",
       "      <td>25968</td>\n",
       "      <td>18677</td>\n",
       "    </tr>\n",
       "    <tr>\n",
       "      <th>Frozen</th>\n",
       "      <td>52548</td>\n",
       "      <td>67520</td>\n",
       "      <td>47385</td>\n",
       "    </tr>\n",
       "    <tr>\n",
       "      <th>Houshold</th>\n",
       "      <td>17689</td>\n",
       "      <td>22683</td>\n",
       "      <td>15602</td>\n",
       "    </tr>\n",
       "    <tr>\n",
       "      <th>International</th>\n",
       "      <td>6422</td>\n",
       "      <td>8048</td>\n",
       "      <td>5691</td>\n",
       "    </tr>\n",
       "    <tr>\n",
       "      <th>Meat, Seafood</th>\n",
       "      <td>16886</td>\n",
       "      <td>21949</td>\n",
       "      <td>15052</td>\n",
       "    </tr>\n",
       "    <tr>\n",
       "      <th>Missing</th>\n",
       "      <td>1680</td>\n",
       "      <td>2032</td>\n",
       "      <td>1479</td>\n",
       "    </tr>\n",
       "    <tr>\n",
       "      <th>Not assigned</th>\n",
       "      <td>5652</td>\n",
       "      <td>7237</td>\n",
       "      <td>4879</td>\n",
       "    </tr>\n",
       "    <tr>\n",
       "      <th>Other</th>\n",
       "      <td>883</td>\n",
       "      <td>1094</td>\n",
       "      <td>757</td>\n",
       "    </tr>\n",
       "    <tr>\n",
       "      <th>Pantry</th>\n",
       "      <td>44151</td>\n",
       "      <td>57119</td>\n",
       "      <td>39772</td>\n",
       "    </tr>\n",
       "    <tr>\n",
       "      <th>Personal Care</th>\n",
       "      <td>10678</td>\n",
       "      <td>13358</td>\n",
       "      <td>9342</td>\n",
       "    </tr>\n",
       "    <tr>\n",
       "      <th>Pets</th>\n",
       "      <td>2269</td>\n",
       "      <td>3029</td>\n",
       "      <td>2141</td>\n",
       "    </tr>\n",
       "    <tr>\n",
       "      <th>Produce</th>\n",
       "      <td>223931</td>\n",
       "      <td>286529</td>\n",
       "      <td>200480</td>\n",
       "    </tr>\n",
       "    <tr>\n",
       "      <th>Snacks</th>\n",
       "      <td>68287</td>\n",
       "      <td>86611</td>\n",
       "      <td>61460</td>\n",
       "    </tr>\n",
       "  </tbody>\n",
       "</table>\n",
       "</div>"
      ],
      "text/plain": [
       "parent_age        Middle age parent  Older parent  Young parent\n",
       "dpt_name                                                       \n",
       "Alcohol                        3406          4670          3388\n",
       "Babies                        10290         12566          8837\n",
       "Bakery                        27483         35294         24935\n",
       "Beverages                     63020         82447         55949\n",
       "Breakfast                     16505         21283         15092\n",
       "Bulk                            812          1028           766\n",
       "Canned Goods                  24899         32451         22798\n",
       "Dairy, Eggs                  126858        162247        115709\n",
       "Deli                          24538         31563         22234\n",
       "Dry Goods, Pasta              20617         25968         18677\n",
       "Frozen                        52548         67520         47385\n",
       "Houshold                      17689         22683         15602\n",
       "International                  6422          8048          5691\n",
       "Meat, Seafood                 16886         21949         15052\n",
       "Missing                        1680          2032          1479\n",
       "Not assigned                   5652          7237          4879\n",
       "Other                           883          1094           757\n",
       "Pantry                        44151         57119         39772\n",
       "Personal Care                 10678         13358          9342\n",
       "Pets                           2269          3029          2141\n",
       "Produce                      223931        286529        200480\n",
       "Snacks                        68287         86611         61460"
      ]
     },
     "execution_count": 123,
     "metadata": {},
     "output_type": "execute_result"
    }
   ],
   "source": [
    "df_dept_parnt"
   ]
  },
  {
   "cell_type": "code",
   "execution_count": 124,
   "id": "e252b67b",
   "metadata": {},
   "outputs": [
    {
     "data": {
      "image/png": "[encoded data removed]",
      "text/plain": [
       "<Figure size 432x288 with 1 Axes>"
      ]
     },
     "metadata": {
      "needs_background": "light"
     },
     "output_type": "display_data"
    }
   ],
   "source": [
    "df_dept_parnt = df_dept_parnt.plot(kind = 'barh', stacked = True, xlabel = 'Departments', ylabel = 'Parent Age', rot = 0).legend(loc='best')"
   ]
  },
  {
   "cell_type": "markdown",
   "id": "085c4f3d",
   "metadata": {},
   "source": [
    "All Parent's Age groups are represented similary within the departments with Older parents being in a small majortiy."
   ]
  },
  {
   "cell_type": "code",
   "execution_count": 125,
   "id": "3004d305",
   "metadata": {},
   "outputs": [],
   "source": [
    "df_dept_parnt.figure.savefig(r'D:\\CareerFoundry\\Data Immersion\\Task 4\\Instacart Basket Analysis_2021-07-22\\04 Analysis\\Visualizations\\barh_df_dept_parnt.png')"
   ]
  },
  {
   "cell_type": "markdown",
   "id": "2d46c7ca",
   "metadata": {},
   "source": [
    "FAMILY SIZE BY DEPARTMENTS:"
   ]
  },
  {
   "cell_type": "code",
   "execution_count": 126,
   "id": "3a04c0e6",
   "metadata": {},
   "outputs": [],
   "source": [
    "df_dept_fam_size = pd.crosstab(df_COP['dpt_name'],df_COP['fam_size'], dropna = False)"
   ]
  },
  {
   "cell_type": "code",
   "execution_count": 127,
   "id": "3ff9bb08",
   "metadata": {},
   "outputs": [
    {
     "data": {
      "text/html": [
       "<div>\n",
       "<style scoped>\n",
       "    .dataframe tbody tr th:only-of-type {\n",
       "        vertical-align: middle;\n",
       "    }\n",
       "\n",
       "    .dataframe tbody tr th {\n",
       "        vertical-align: top;\n",
       "    }\n",
       "\n",
       "    .dataframe thead th {\n",
       "        text-align: right;\n",
       "    }\n",
       "</style>\n",
       "<table border=\"1\" class=\"dataframe\">\n",
       "  <thead>\n",
       "    <tr style=\"text-align: right;\">\n",
       "      <th>fam_size</th>\n",
       "      <th>Big family</th>\n",
       "      <th>No dependents</th>\n",
       "      <th>Small family</th>\n",
       "    </tr>\n",
       "    <tr>\n",
       "      <th>dpt_name</th>\n",
       "      <th></th>\n",
       "      <th></th>\n",
       "      <th></th>\n",
       "    </tr>\n",
       "  </thead>\n",
       "  <tbody>\n",
       "    <tr>\n",
       "      <th>Alcohol</th>\n",
       "      <td>7592</td>\n",
       "      <td>3998</td>\n",
       "      <td>3872</td>\n",
       "    </tr>\n",
       "    <tr>\n",
       "      <th>Babies</th>\n",
       "      <td>21265</td>\n",
       "      <td>10531</td>\n",
       "      <td>10428</td>\n",
       "    </tr>\n",
       "    <tr>\n",
       "      <th>Bakery</th>\n",
       "      <td>58467</td>\n",
       "      <td>29522</td>\n",
       "      <td>29245</td>\n",
       "    </tr>\n",
       "    <tr>\n",
       "      <th>Beverages</th>\n",
       "      <td>134443</td>\n",
       "      <td>67390</td>\n",
       "      <td>66973</td>\n",
       "    </tr>\n",
       "    <tr>\n",
       "      <th>Breakfast</th>\n",
       "      <td>35153</td>\n",
       "      <td>17434</td>\n",
       "      <td>17727</td>\n",
       "    </tr>\n",
       "    <tr>\n",
       "      <th>Bulk</th>\n",
       "      <td>1719</td>\n",
       "      <td>807</td>\n",
       "      <td>887</td>\n",
       "    </tr>\n",
       "    <tr>\n",
       "      <th>Canned Goods</th>\n",
       "      <td>53380</td>\n",
       "      <td>26478</td>\n",
       "      <td>26768</td>\n",
       "    </tr>\n",
       "    <tr>\n",
       "      <th>Dairy, Eggs</th>\n",
       "      <td>269307</td>\n",
       "      <td>134708</td>\n",
       "      <td>135507</td>\n",
       "    </tr>\n",
       "    <tr>\n",
       "      <th>Deli</th>\n",
       "      <td>52514</td>\n",
       "      <td>26408</td>\n",
       "      <td>25821</td>\n",
       "    </tr>\n",
       "    <tr>\n",
       "      <th>Dry Goods, Pasta</th>\n",
       "      <td>43448</td>\n",
       "      <td>21439</td>\n",
       "      <td>21814</td>\n",
       "    </tr>\n",
       "    <tr>\n",
       "      <th>Frozen</th>\n",
       "      <td>112417</td>\n",
       "      <td>55648</td>\n",
       "      <td>55036</td>\n",
       "    </tr>\n",
       "    <tr>\n",
       "      <th>Houshold</th>\n",
       "      <td>37339</td>\n",
       "      <td>18100</td>\n",
       "      <td>18635</td>\n",
       "    </tr>\n",
       "    <tr>\n",
       "      <th>International</th>\n",
       "      <td>13253</td>\n",
       "      <td>6625</td>\n",
       "      <td>6908</td>\n",
       "    </tr>\n",
       "    <tr>\n",
       "      <th>Meat, Seafood</th>\n",
       "      <td>35993</td>\n",
       "      <td>17481</td>\n",
       "      <td>17894</td>\n",
       "    </tr>\n",
       "    <tr>\n",
       "      <th>Missing</th>\n",
       "      <td>3512</td>\n",
       "      <td>1727</td>\n",
       "      <td>1679</td>\n",
       "    </tr>\n",
       "    <tr>\n",
       "      <th>Not assigned</th>\n",
       "      <td>11898</td>\n",
       "      <td>6079</td>\n",
       "      <td>5870</td>\n",
       "    </tr>\n",
       "    <tr>\n",
       "      <th>Other</th>\n",
       "      <td>1792</td>\n",
       "      <td>905</td>\n",
       "      <td>942</td>\n",
       "    </tr>\n",
       "    <tr>\n",
       "      <th>Pantry</th>\n",
       "      <td>94085</td>\n",
       "      <td>46851</td>\n",
       "      <td>46957</td>\n",
       "    </tr>\n",
       "    <tr>\n",
       "      <th>Personal Care</th>\n",
       "      <td>22312</td>\n",
       "      <td>11275</td>\n",
       "      <td>11066</td>\n",
       "    </tr>\n",
       "    <tr>\n",
       "      <th>Pets</th>\n",
       "      <td>4916</td>\n",
       "      <td>2460</td>\n",
       "      <td>2523</td>\n",
       "    </tr>\n",
       "    <tr>\n",
       "      <th>Produce</th>\n",
       "      <td>474570</td>\n",
       "      <td>237361</td>\n",
       "      <td>236370</td>\n",
       "    </tr>\n",
       "    <tr>\n",
       "      <th>Snacks</th>\n",
       "      <td>144575</td>\n",
       "      <td>72135</td>\n",
       "      <td>71783</td>\n",
       "    </tr>\n",
       "  </tbody>\n",
       "</table>\n",
       "</div>"
      ],
      "text/plain": [
       "fam_size          Big family  No dependents  Small family\n",
       "dpt_name                                                 \n",
       "Alcohol                 7592           3998          3872\n",
       "Babies                 21265          10531         10428\n",
       "Bakery                 58467          29522         29245\n",
       "Beverages             134443          67390         66973\n",
       "Breakfast              35153          17434         17727\n",
       "Bulk                    1719            807           887\n",
       "Canned Goods           53380          26478         26768\n",
       "Dairy, Eggs           269307         134708        135507\n",
       "Deli                   52514          26408         25821\n",
       "Dry Goods, Pasta       43448          21439         21814\n",
       "Frozen                112417          55648         55036\n",
       "Houshold               37339          18100         18635\n",
       "International          13253           6625          6908\n",
       "Meat, Seafood          35993          17481         17894\n",
       "Missing                 3512           1727          1679\n",
       "Not assigned           11898           6079          5870\n",
       "Other                   1792            905           942\n",
       "Pantry                 94085          46851         46957\n",
       "Personal Care          22312          11275         11066\n",
       "Pets                    4916           2460          2523\n",
       "Produce               474570         237361        236370\n",
       "Snacks                144575          72135         71783"
      ]
     },
     "execution_count": 127,
     "metadata": {},
     "output_type": "execute_result"
    }
   ],
   "source": [
    "df_dept_fam_size"
   ]
  },
  {
   "cell_type": "code",
   "execution_count": 128,
   "id": "eba8909d",
   "metadata": {},
   "outputs": [
    {
     "data": {
      "image/png": "[encoded data removed]",
      "text/plain": [
       "<Figure size 432x288 with 1 Axes>"
      ]
     },
     "metadata": {
      "needs_background": "light"
     },
     "output_type": "display_data"
    }
   ],
   "source": [
    "df_dept_fam_size = df_dept_fam_size.plot(kind = 'barh', stacked = True, xlabel = 'Departments', ylabel = 'Family Size', rot = 0).legend(loc='best')"
   ]
  },
  {
   "cell_type": "markdown",
   "id": "bb62b247",
   "metadata": {},
   "source": [
    "Big families are the biggest buyers within the departments."
   ]
  },
  {
   "cell_type": "code",
   "execution_count": 129,
   "id": "13afac2c",
   "metadata": {},
   "outputs": [],
   "source": [
    "df_dept_fam_size.figure.savefig(r'D:\\CareerFoundry\\Data Immersion\\Task 4\\Instacart Basket Analysis_2021-07-22\\04 Analysis\\Visualizations\\barh_df_dept_fam_size.png')"
   ]
  },
  {
   "cell_type": "code",
   "execution_count": null,
   "id": "6e0feccc",
   "metadata": {},
   "outputs": [],
   "source": [
    "INCOME LEVEL vs. SPENDING FLAG:"
   ]
  },
  {
   "cell_type": "code",
   "execution_count": 130,
   "id": "46e86845",
   "metadata": {},
   "outputs": [],
   "source": [
    "df_spend_inc = pd.crosstab(df_COP['spending_flag'],df_COP['income_level'], dropna = False)"
   ]
  },
  {
   "cell_type": "code",
   "execution_count": 131,
   "id": "7065e075",
   "metadata": {},
   "outputs": [
    {
     "data": {
      "text/html": [
       "<div>\n",
       "<style scoped>\n",
       "    .dataframe tbody tr th:only-of-type {\n",
       "        vertical-align: middle;\n",
       "    }\n",
       "\n",
       "    .dataframe tbody tr th {\n",
       "        vertical-align: top;\n",
       "    }\n",
       "\n",
       "    .dataframe thead th {\n",
       "        text-align: right;\n",
       "    }\n",
       "</style>\n",
       "<table border=\"1\" class=\"dataframe\">\n",
       "  <thead>\n",
       "    <tr style=\"text-align: right;\">\n",
       "      <th>income_level</th>\n",
       "      <th>Higher income</th>\n",
       "      <th>Lower income</th>\n",
       "      <th>Middle income</th>\n",
       "    </tr>\n",
       "    <tr>\n",
       "      <th>spending_flag</th>\n",
       "      <th></th>\n",
       "      <th></th>\n",
       "      <th></th>\n",
       "    </tr>\n",
       "  </thead>\n",
       "  <tbody>\n",
       "    <tr>\n",
       "      <th>High spender</th>\n",
       "      <td>49047</td>\n",
       "      <td>12959</td>\n",
       "      <td>67243</td>\n",
       "    </tr>\n",
       "    <tr>\n",
       "      <th>Low spender</th>\n",
       "      <td>914335</td>\n",
       "      <td>607031</td>\n",
       "      <td>1612641</td>\n",
       "    </tr>\n",
       "  </tbody>\n",
       "</table>\n",
       "</div>"
      ],
      "text/plain": [
       "income_level   Higher income  Lower income  Middle income\n",
       "spending_flag                                            \n",
       "High spender           49047         12959          67243\n",
       "Low spender           914335        607031        1612641"
      ]
     },
     "execution_count": 131,
     "metadata": {},
     "output_type": "execute_result"
    }
   ],
   "source": [
    "df_spend_inc"
   ]
  },
  {
   "cell_type": "code",
   "execution_count": 132,
   "id": "3a2a5b73",
   "metadata": {},
   "outputs": [
    {
     "data": {
      "image/png": "[encoded data removed]",
      "text/plain": [
       "<Figure size 432x288 with 1 Axes>"
      ]
     },
     "metadata": {
      "needs_background": "light"
     },
     "output_type": "display_data"
    }
   ],
   "source": [
    "df_spend_inc = df_spend_inc.plot(kind = 'bar', stacked = True, xlabel = 'Spending habit', ylabel = 'Income Level', rot = 0)"
   ]
  },
  {
   "cell_type": "markdown",
   "id": "8e933561",
   "metadata": {},
   "source": [
    "Among buyers who spend less than $10 per product the Middle income shoppers are represented the most."
   ]
  },
  {
   "cell_type": "code",
   "execution_count": 133,
   "id": "c6c7c408",
   "metadata": {},
   "outputs": [],
   "source": [
    "df_spend_inc.figure.savefig(r'D:\\CareerFoundry\\Data Immersion\\Task 4\\Instacart Basket Analysis_2021-07-22\\04 Analysis\\Visualizations\\bar_df_spend_inc.png')"
   ]
  },
  {
   "cell_type": "markdown",
   "id": "da1c1d34",
   "metadata": {},
   "source": [
    "# Below you will find operations from previous tasks in Achievement 4. Due to problems with the original big data set, I performed these operations on a smaller data set here.\n",
    "\n",
    "Contents:\n",
    "\n",
    "1. Busiest hour\n",
    "2. Busiest day flag\n",
    "3. Busiest days flag\n",
    "4. Busiest period of day flag\n",
    "5. Price range flag\n",
    "6. Loyalty flag"
   ]
  },
  {
   "cell_type": "markdown",
   "id": "3cb72cc4",
   "metadata": {},
   "source": [
    "1. Busiest hour (no flag)\n",
    "What is the busiest hour of placing orders?"
   ]
  },
  {
   "cell_type": "code",
   "execution_count": 134,
   "id": "2440f278",
   "metadata": {},
   "outputs": [
    {
     "data": {
      "text/plain": [
       "10.0    278163\n",
       "11.0    275386\n",
       "14.0    270472\n",
       "15.0    268851\n",
       "13.0    267767\n",
       "12.0    263785\n",
       "16.0    255151\n",
       "9.0     246668\n",
       "17.0    210689\n",
       "8.0     173091\n",
       "18.0    164934\n",
       "19.0    127042\n",
       "20.0     97951\n",
       "7.0      89625\n",
       "21.0     80192\n",
       "22.0     64018\n",
       "23.0     40948\n",
       "6.0      29280\n",
       "0.0      21935\n",
       "1.0      11649\n",
       "5.0       8931\n",
       "2.0       7010\n",
       "4.0       5283\n",
       "3.0       5196\n",
       "Name: order_hour_of_day, dtype: int64"
      ]
     },
     "execution_count": 134,
     "metadata": {},
     "output_type": "execute_result"
    }
   ],
   "source": [
    "df_COP['order_hour_of_day'].value_counts(dropna = False)\n",
    "\n",
    "# 10:00 am is the busiest hour of the day when customers place their orders "
   ]
  },
  {
   "cell_type": "code",
   "execution_count": 135,
   "id": "e1d1fe1d",
   "metadata": {},
   "outputs": [
    {
     "data": {
      "image/png": "[encoded data removed]",
      "text/plain": [
       "<Figure size 432x288 with 1 Axes>"
      ]
     },
     "metadata": {
      "needs_background": "light"
     },
     "output_type": "display_data"
    }
   ],
   "source": [
    "df_ohd = df_COP['order_hour_of_day'].plot.hist(bins = 70)"
   ]
  },
  {
   "cell_type": "markdown",
   "id": "dd4de967",
   "metadata": {},
   "source": [
    "The most busy hours are between 9 am and 4 pm with the busiest hour at 10 am.\n",
    "The after-midnight hours are the least busy."
   ]
  },
  {
   "cell_type": "code",
   "execution_count": 136,
   "id": "9ca78a31",
   "metadata": {},
   "outputs": [],
   "source": [
    "df_ohd.figure.savefig(r'D:\\CareerFoundry\\Data Immersion\\Task 4\\Instacart Basket Analysis_2021-07-22\\04 Analysis\\Visualizations\\historgram_df_ohd.png')"
   ]
  },
  {
   "cell_type": "markdown",
   "id": "e090d318",
   "metadata": {},
   "source": [
    "2. Busiest day flag"
   ]
  },
  {
   "cell_type": "code",
   "execution_count": 137,
   "id": "3e422620",
   "metadata": {},
   "outputs": [
    {
     "data": {
      "text/plain": [
       "0.0    624344\n",
       "1.0    569665\n",
       "6.0    453226\n",
       "2.0    424411\n",
       "5.0    422911\n",
       "3.0    387487\n",
       "4.0    381973\n",
       "Name: order_of_the_week, dtype: int64"
      ]
     },
     "execution_count": 137,
     "metadata": {},
     "output_type": "execute_result"
    }
   ],
   "source": [
    "df_COP['order_of_the_week'].value_counts(dropna = False)"
   ]
  },
  {
   "cell_type": "code",
   "execution_count": 138,
   "id": "1360de92",
   "metadata": {
    "scrolled": true
   },
   "outputs": [
    {
     "data": {
      "image/png": "[encoded data removed]",
      "text/plain": [
       "<Figure size 432x288 with 1 Axes>"
      ]
     },
     "metadata": {
      "needs_background": "light"
     },
     "output_type": "display_data"
    }
   ],
   "source": [
    "df_oow = df_COP['order_of_the_week'].value_counts().plot.bar(color = ['blue'], rot = 0, xlabel = 'Orders by Days of the Week')"
   ]
  },
  {
   "cell_type": "code",
   "execution_count": 139,
   "id": "51de5d22",
   "metadata": {},
   "outputs": [],
   "source": [
    "df_oow.figure.savefig(r'D:\\CareerFoundry\\Data Immersion\\Task 4\\Instacart Basket Analysis_2021-07-22\\04 Analysis\\Visualizations\\bar_df_oow.png')"
   ]
  },
  {
   "cell_type": "code",
   "execution_count": 140,
   "id": "3454c6cf",
   "metadata": {},
   "outputs": [],
   "source": [
    "result = [] \n",
    "\n",
    "for value in df_COP['order_of_the_week']:\n",
    "    if value == 0:\n",
    "        result.append('busiest day')\n",
    "    elif value == 4:\n",
    "        result.append('least busy')\n",
    "    else:\n",
    "        result.append('regularly busy')"
   ]
  },
  {
   "cell_type": "code",
   "execution_count": 141,
   "id": "717c0613",
   "metadata": {},
   "outputs": [],
   "source": [
    "df_COP['busiest_day'] = result"
   ]
  },
  {
   "cell_type": "code",
   "execution_count": 142,
   "id": "db2168ac",
   "metadata": {},
   "outputs": [
    {
     "data": {
      "text/plain": [
       "regularly busy    2257700\n",
       "busiest day        624344\n",
       "least busy         381973\n",
       "Name: busiest_day, dtype: int64"
      ]
     },
     "execution_count": 142,
     "metadata": {},
     "output_type": "execute_result"
    }
   ],
   "source": [
    "df_COP['busiest_day'].value_counts(dropna = False)"
   ]
  },
  {
   "cell_type": "code",
   "execution_count": 143,
   "id": "16818d9c",
   "metadata": {},
   "outputs": [
    {
     "data": {
      "image/png": "[encoded data removed]",
      "text/plain": [
       "<Figure size 432x288 with 1 Axes>"
      ]
     },
     "metadata": {
      "needs_background": "light"
     },
     "output_type": "display_data"
    }
   ],
   "source": [
    "df_busy_day = df_COP['busiest_day'].value_counts().plot.bar(color = ['blue'], rot = 0, xlabel = 'Orders by the Week Periods')"
   ]
  },
  {
   "cell_type": "code",
   "execution_count": 144,
   "id": "d59c98f1",
   "metadata": {},
   "outputs": [],
   "source": [
    "df_busy_day.figure.savefig(r'D:\\CareerFoundry\\Data Immersion\\Task 4\\Instacart Basket Analysis_2021-07-22\\04 Analysis\\Visualizations\\bar_df_busy_day.png')"
   ]
  },
  {
   "cell_type": "markdown",
   "id": "30e36a52",
   "metadata": {},
   "source": [
    "3. Busiest days flag"
   ]
  },
  {
   "cell_type": "code",
   "execution_count": 145,
   "id": "3d6af70a",
   "metadata": {},
   "outputs": [],
   "source": [
    "result = [] \n",
    "\n",
    "for value in df_COP['order_of_the_week']:\n",
    "    if (value == 0 or value == 1):\n",
    "        result.append('Most busy days')\n",
    "    elif (value == 4 or value == 3):\n",
    "        result.append('Least busy days')\n",
    "    else:\n",
    "        result.append('Regularly busy days')"
   ]
  },
  {
   "cell_type": "code",
   "execution_count": 146,
   "id": "67d34039",
   "metadata": {},
   "outputs": [],
   "source": [
    "df_COP['busiest_days'] = result"
   ]
  },
  {
   "cell_type": "code",
   "execution_count": 147,
   "id": "f021fda3",
   "metadata": {},
   "outputs": [
    {
     "data": {
      "text/plain": [
       "Regularly busy days    1300548\n",
       "Most busy days         1194009\n",
       "Least busy days         769460\n",
       "Name: busiest_days, dtype: int64"
      ]
     },
     "execution_count": 147,
     "metadata": {},
     "output_type": "execute_result"
    }
   ],
   "source": [
    "df_COP['busiest_days'].value_counts(dropna = False)"
   ]
  },
  {
   "cell_type": "markdown",
   "id": "aed15278",
   "metadata": {},
   "source": [
    "4. Busiest period of day flag"
   ]
  },
  {
   "cell_type": "code",
   "execution_count": 167,
   "id": "e8764cbd",
   "metadata": {},
   "outputs": [],
   "source": [
    "result = [] \n",
    "\n",
    "for value in df_COP['order_hour_of_day']:\n",
    "    if (value >= 9 and value <=17):\n",
    "        result.append('Most busy period')\n",
    "    elif value >=1 and value <=5:\n",
    "        result.append('Least busy period')\n",
    "    else:\n",
    "        result.append('Avg busy period')"
   ]
  },
  {
   "cell_type": "code",
   "execution_count": 168,
   "id": "3a8c9b62",
   "metadata": {},
   "outputs": [],
   "source": [
    "df_COP['ordering_period'] = result"
   ]
  },
  {
   "cell_type": "code",
   "execution_count": 169,
   "id": "c77f60fb",
   "metadata": {},
   "outputs": [
    {
     "data": {
      "text/plain": [
       "Most busy period     2336932\n",
       "Avg busy period       889016\n",
       "Least busy period      38069\n",
       "Name: ordering_period, dtype: int64"
      ]
     },
     "execution_count": 169,
     "metadata": {},
     "output_type": "execute_result"
    }
   ],
   "source": [
    "df_COP['ordering_period'].value_counts(dropna = False)"
   ]
  },
  {
   "cell_type": "code",
   "execution_count": 170,
   "id": "76f19b5d",
   "metadata": {},
   "outputs": [
    {
     "data": {
      "image/png": "[encoded data removed]",
      "text/plain": [
       "<Figure size 432x288 with 1 Axes>"
      ]
     },
     "metadata": {
      "needs_background": "light"
     },
     "output_type": "display_data"
    }
   ],
   "source": [
    "df_bus_period = df_COP['ordering_period'].value_counts().plot.bar(color = ['pink'], rot = 0, xlabel = 'Orders by Ordering Period')"
   ]
  },
  {
   "cell_type": "code",
   "execution_count": 171,
   "id": "72ccb4f2",
   "metadata": {},
   "outputs": [],
   "source": [
    "df_bus_period.figure.savefig(r'D:\\CareerFoundry\\Data Immersion\\Task 4\\Instacart Basket Analysis_2021-07-22\\04 Analysis\\Visualizations\\bar_df_bus_period.png')"
   ]
  },
  {
   "cell_type": "markdown",
   "id": "44983ad1",
   "metadata": {},
   "source": [
    "5. Price range flag"
   ]
  },
  {
   "cell_type": "code",
   "execution_count": 153,
   "id": "a1d7523b",
   "metadata": {},
   "outputs": [],
   "source": [
    "df_COP.loc[df_COP['prices'] > 15, 'price_range'] = 'High price'"
   ]
  },
  {
   "cell_type": "code",
   "execution_count": 154,
   "id": "d4742b22",
   "metadata": {},
   "outputs": [],
   "source": [
    "df_COP.loc[(df_COP['prices'] <= 15) & (df_COP['prices'] > 5), 'price_range'] = 'Mid price'"
   ]
  },
  {
   "cell_type": "code",
   "execution_count": 155,
   "id": "f495555f",
   "metadata": {},
   "outputs": [],
   "source": [
    "df_COP.loc[df_COP['prices'] <= 5, 'price_range'] = 'Low price'"
   ]
  },
  {
   "cell_type": "code",
   "execution_count": 156,
   "id": "aca113e6",
   "metadata": {},
   "outputs": [
    {
     "data": {
      "text/plain": [
       "Mid price     2185474\n",
       "Low price     1012359\n",
       "High price      42337\n",
       "NaN             23847\n",
       "Name: price_range, dtype: int64"
      ]
     },
     "execution_count": 156,
     "metadata": {},
     "output_type": "execute_result"
    }
   ],
   "source": [
    "df_COP['price_range'].value_counts(dropna = False)"
   ]
  },
  {
   "cell_type": "code",
   "execution_count": 157,
   "id": "3a2799a3",
   "metadata": {},
   "outputs": [
    {
     "data": {
      "image/png": "[encoded data removed]",
      "text/plain": [
       "<Figure size 432x288 with 1 Axes>"
      ]
     },
     "metadata": {
      "needs_background": "light"
     },
     "output_type": "display_data"
    }
   ],
   "source": [
    "df_price_range = df_COP['price_range'].value_counts().plot.bar(color = ['yellow'], rot = 0, xlabel = 'Products by Price')"
   ]
  },
  {
   "cell_type": "markdown",
   "id": "ed814153",
   "metadata": {},
   "source": [
    "The majority of products fall into the middle range prices between $5-15"
   ]
  },
  {
   "cell_type": "code",
   "execution_count": 158,
   "id": "eef4d0fd",
   "metadata": {},
   "outputs": [],
   "source": [
    "df_price_range.figure.savefig(r'D:\\CareerFoundry\\Data Immersion\\Task 4\\Instacart Basket Analysis_2021-07-22\\04 Analysis\\Visualizations\\bar_df_price_range.png')"
   ]
  },
  {
   "cell_type": "markdown",
   "id": "12fbe773",
   "metadata": {},
   "source": [
    "6. Loyalty flag"
   ]
  },
  {
   "cell_type": "code",
   "execution_count": 159,
   "id": "9af944c9",
   "metadata": {},
   "outputs": [],
   "source": [
    "df_COP['max_order'] = df_COP.groupby(['user_id'])['order_number'].transform(np.max)"
   ]
  },
  {
   "cell_type": "code",
   "execution_count": 160,
   "id": "4cb37a36",
   "metadata": {},
   "outputs": [],
   "source": [
    "df_COP.loc[df_COP['max_order'] > 40, 'loyalty_flag'] = 'Loyal customer'"
   ]
  },
  {
   "cell_type": "code",
   "execution_count": 161,
   "id": "cc240fdb",
   "metadata": {},
   "outputs": [],
   "source": [
    "df_COP.loc[(df_COP['max_order'] <= 40) & (df_COP['max_order'] > 10), 'loyalty_flag'] = 'Regular customer'"
   ]
  },
  {
   "cell_type": "code",
   "execution_count": 162,
   "id": "a7dd0544",
   "metadata": {},
   "outputs": [],
   "source": [
    "df_COP.loc[df_COP['max_order'] <= 10, 'loyalty_flag'] = 'New customer'"
   ]
  },
  {
   "cell_type": "code",
   "execution_count": 163,
   "id": "d42a20bb",
   "metadata": {
    "scrolled": true
   },
   "outputs": [
    {
     "data": {
      "text/plain": [
       "Regular customer    1582261\n",
       "Loyal customer      1017707\n",
       "New customer         664049\n",
       "Name: loyalty_flag, dtype: int64"
      ]
     },
     "execution_count": 163,
     "metadata": {},
     "output_type": "execute_result"
    }
   ],
   "source": [
    "df_COP['loyalty_flag'].value_counts(dropna = False) "
   ]
  },
  {
   "cell_type": "code",
   "execution_count": 164,
   "id": "621c03e5",
   "metadata": {
    "scrolled": true
   },
   "outputs": [
    {
     "data": {
      "image/png": "[encoded data removed]",
      "text/plain": [
       "<Figure size 432x288 with 1 Axes>"
      ]
     },
     "metadata": {
      "needs_background": "light"
     },
     "output_type": "display_data"
    }
   ],
   "source": [
    "df_loyalty = df_COP['loyalty_flag'].value_counts().plot.bar(color = ['green'], rot = 0, xlabel = 'Customers Loyalty')"
   ]
  },
  {
   "cell_type": "code",
   "execution_count": 165,
   "id": "76f8b2f8",
   "metadata": {},
   "outputs": [],
   "source": [
    "df_loyalty.figure.savefig(r'D:\\CareerFoundry\\Data Immersion\\Task 4\\Instacart Basket Analysis_2021-07-22\\04 Analysis\\Visualizations\\bar_df_loyalty.png')"
   ]
  },
  {
   "cell_type": "code",
   "execution_count": null,
   "id": "2571b3dd",
   "metadata": {},
   "outputs": [],
   "source": [
    "LOYALTY BY ORDER ACTIVITY"
   ]
  },
  {
   "cell_type": "code",
   "execution_count": 172,
   "id": "5139cf82",
   "metadata": {},
   "outputs": [],
   "source": [
    "df_loyal_order = pd.crosstab(df_COP['loyalty_flag'],df_COP['order_activity'], dropna = False)"
   ]
  },
  {
   "cell_type": "code",
   "execution_count": 173,
   "id": "999005bb",
   "metadata": {},
   "outputs": [
    {
     "data": {
      "text/html": [
       "<div>\n",
       "<style scoped>\n",
       "    .dataframe tbody tr th:only-of-type {\n",
       "        vertical-align: middle;\n",
       "    }\n",
       "\n",
       "    .dataframe tbody tr th {\n",
       "        vertical-align: top;\n",
       "    }\n",
       "\n",
       "    .dataframe thead th {\n",
       "        text-align: right;\n",
       "    }\n",
       "</style>\n",
       "<table border=\"1\" class=\"dataframe\">\n",
       "  <thead>\n",
       "    <tr style=\"text-align: right;\">\n",
       "      <th>order_activity</th>\n",
       "      <th>High</th>\n",
       "      <th>Low</th>\n",
       "    </tr>\n",
       "    <tr>\n",
       "      <th>loyalty_flag</th>\n",
       "      <th></th>\n",
       "      <th></th>\n",
       "    </tr>\n",
       "  </thead>\n",
       "  <tbody>\n",
       "    <tr>\n",
       "      <th>Loyal customer</th>\n",
       "      <td>1017707</td>\n",
       "      <td>0</td>\n",
       "    </tr>\n",
       "    <tr>\n",
       "      <th>New customer</th>\n",
       "      <td>493108</td>\n",
       "      <td>170941</td>\n",
       "    </tr>\n",
       "    <tr>\n",
       "      <th>Regular customer</th>\n",
       "      <td>1582261</td>\n",
       "      <td>0</td>\n",
       "    </tr>\n",
       "  </tbody>\n",
       "</table>\n",
       "</div>"
      ],
      "text/plain": [
       "order_activity       High     Low\n",
       "loyalty_flag                     \n",
       "Loyal customer    1017707       0\n",
       "New customer       493108  170941\n",
       "Regular customer  1582261       0"
      ]
     },
     "execution_count": 173,
     "metadata": {},
     "output_type": "execute_result"
    }
   ],
   "source": [
    "df_loyal_order"
   ]
  },
  {
   "cell_type": "code",
   "execution_count": 174,
   "id": "9465e3b8",
   "metadata": {},
   "outputs": [
    {
     "data": {
      "image/png": "[encoded data removed]",
      "text/plain": [
       "<Figure size 432x288 with 1 Axes>"
      ]
     },
     "metadata": {
      "needs_background": "light"
     },
     "output_type": "display_data"
    }
   ],
   "source": [
    "df_loyal_order = df_loyal_order.plot(kind = 'bar', stacked = True, xlabel = 'Loyalty', ylabel = 'Order Activity', rot = 0).legend(loc='best')"
   ]
  },
  {
   "cell_type": "markdown",
   "id": "04b73c41",
   "metadata": {},
   "source": [
    "Only New customers placed less than 5 orders."
   ]
  },
  {
   "cell_type": "code",
   "execution_count": 176,
   "id": "c3134f20",
   "metadata": {},
   "outputs": [],
   "source": [
    "df_loyal_order.figure.savefig(r'D:\\CareerFoundry\\Data Immersion\\Task 4\\Instacart Basket Analysis_2021-07-22\\04 Analysis\\Visualizations\\bar_df_loyal_order.png')"
   ]
  },
  {
   "cell_type": "markdown",
   "id": "e216fa80",
   "metadata": {},
   "source": [
    "LOYALTY BY REGIONS"
   ]
  },
  {
   "cell_type": "code",
   "execution_count": 175,
   "id": "e568fc5d",
   "metadata": {},
   "outputs": [],
   "source": [
    "df_reg_loyal = pd.crosstab(df_COP['region'],df_COP['loyalty_flag'], dropna = False)"
   ]
  },
  {
   "cell_type": "code",
   "execution_count": 177,
   "id": "dd4a46d8",
   "metadata": {},
   "outputs": [
    {
     "data": {
      "text/html": [
       "<div>\n",
       "<style scoped>\n",
       "    .dataframe tbody tr th:only-of-type {\n",
       "        vertical-align: middle;\n",
       "    }\n",
       "\n",
       "    .dataframe tbody tr th {\n",
       "        vertical-align: top;\n",
       "    }\n",
       "\n",
       "    .dataframe thead th {\n",
       "        text-align: right;\n",
       "    }\n",
       "</style>\n",
       "<table border=\"1\" class=\"dataframe\">\n",
       "  <thead>\n",
       "    <tr style=\"text-align: right;\">\n",
       "      <th>loyalty_flag</th>\n",
       "      <th>Loyal customer</th>\n",
       "      <th>New customer</th>\n",
       "      <th>Regular customer</th>\n",
       "    </tr>\n",
       "    <tr>\n",
       "      <th>region</th>\n",
       "      <th></th>\n",
       "      <th></th>\n",
       "      <th></th>\n",
       "    </tr>\n",
       "  </thead>\n",
       "  <tbody>\n",
       "    <tr>\n",
       "      <th>Midwest</th>\n",
       "      <td>234561</td>\n",
       "      <td>156448</td>\n",
       "      <td>373752</td>\n",
       "    </tr>\n",
       "    <tr>\n",
       "      <th>Northeast</th>\n",
       "      <td>182417</td>\n",
       "      <td>117490</td>\n",
       "      <td>276667</td>\n",
       "    </tr>\n",
       "    <tr>\n",
       "      <th>South</th>\n",
       "      <td>318214</td>\n",
       "      <td>207051</td>\n",
       "      <td>496593</td>\n",
       "    </tr>\n",
       "    <tr>\n",
       "      <th>West</th>\n",
       "      <td>282515</td>\n",
       "      <td>183060</td>\n",
       "      <td>435249</td>\n",
       "    </tr>\n",
       "  </tbody>\n",
       "</table>\n",
       "</div>"
      ],
      "text/plain": [
       "loyalty_flag  Loyal customer  New customer  Regular customer\n",
       "region                                                      \n",
       "Midwest               234561        156448            373752\n",
       "Northeast             182417        117490            276667\n",
       "South                 318214        207051            496593\n",
       "West                  282515        183060            435249"
      ]
     },
     "execution_count": 177,
     "metadata": {},
     "output_type": "execute_result"
    }
   ],
   "source": [
    "df_reg_loyal"
   ]
  },
  {
   "cell_type": "code",
   "execution_count": 178,
   "id": "31bc7bc4",
   "metadata": {},
   "outputs": [
    {
     "data": {
      "image/png": "[encoded data removed]",
      "text/plain": [
       "<Figure size 432x288 with 1 Axes>"
      ]
     },
     "metadata": {
      "needs_background": "light"
     },
     "output_type": "display_data"
    }
   ],
   "source": [
    "df_reg_loyal = df_reg_loyal.plot(kind = 'bar', stacked = True, xlabel = 'Regions', ylabel = 'Loyalty', rot = 0).legend(loc='best')"
   ]
  },
  {
   "cell_type": "markdown",
   "id": "5bda0757",
   "metadata": {},
   "source": [
    "In all regions, Regular customers who placed between 10-40 orders have the biggest representation."
   ]
  },
  {
   "cell_type": "code",
   "execution_count": 179,
   "id": "8bfb7bde",
   "metadata": {},
   "outputs": [],
   "source": [
    "df_reg_loyal.figure.savefig(r'D:\\CareerFoundry\\Data Immersion\\Task 4\\Instacart Basket Analysis_2021-07-22\\04 Analysis\\Visualizations\\bar_df_reg_loyal.png')"
   ]
  },
  {
   "cell_type": "code",
   "execution_count": null,
   "id": "3e997128",
   "metadata": {},
   "outputs": [],
   "source": [
    "LOYALTY BY DEPARTMENTS"
   ]
  },
  {
   "cell_type": "code",
   "execution_count": 180,
   "id": "59f2ddb0",
   "metadata": {},
   "outputs": [],
   "source": [
    "df_dept_loyal = pd.crosstab(df_COP['dpt_name'],df_COP['loyalty_flag'], dropna = False)"
   ]
  },
  {
   "cell_type": "code",
   "execution_count": 181,
   "id": "620962e7",
   "metadata": {},
   "outputs": [
    {
     "data": {
      "text/html": [
       "<div>\n",
       "<style scoped>\n",
       "    .dataframe tbody tr th:only-of-type {\n",
       "        vertical-align: middle;\n",
       "    }\n",
       "\n",
       "    .dataframe tbody tr th {\n",
       "        vertical-align: top;\n",
       "    }\n",
       "\n",
       "    .dataframe thead th {\n",
       "        text-align: right;\n",
       "    }\n",
       "</style>\n",
       "<table border=\"1\" class=\"dataframe\">\n",
       "  <thead>\n",
       "    <tr style=\"text-align: right;\">\n",
       "      <th>loyalty_flag</th>\n",
       "      <th>Loyal customer</th>\n",
       "      <th>New customer</th>\n",
       "      <th>Regular customer</th>\n",
       "    </tr>\n",
       "    <tr>\n",
       "      <th>dpt_name</th>\n",
       "      <th></th>\n",
       "      <th></th>\n",
       "      <th></th>\n",
       "    </tr>\n",
       "  </thead>\n",
       "  <tbody>\n",
       "    <tr>\n",
       "      <th>Alcohol</th>\n",
       "      <td>3765</td>\n",
       "      <td>4089</td>\n",
       "      <td>7608</td>\n",
       "    </tr>\n",
       "    <tr>\n",
       "      <th>Babies</th>\n",
       "      <td>16559</td>\n",
       "      <td>6192</td>\n",
       "      <td>19473</td>\n",
       "    </tr>\n",
       "    <tr>\n",
       "      <th>Bakery</th>\n",
       "      <td>37644</td>\n",
       "      <td>23323</td>\n",
       "      <td>56267</td>\n",
       "    </tr>\n",
       "    <tr>\n",
       "      <th>Beverages</th>\n",
       "      <td>84037</td>\n",
       "      <td>54228</td>\n",
       "      <td>130541</td>\n",
       "    </tr>\n",
       "    <tr>\n",
       "      <th>Breakfast</th>\n",
       "      <td>21771</td>\n",
       "      <td>14650</td>\n",
       "      <td>33893</td>\n",
       "    </tr>\n",
       "    <tr>\n",
       "      <th>Bulk</th>\n",
       "      <td>1356</td>\n",
       "      <td>530</td>\n",
       "      <td>1527</td>\n",
       "    </tr>\n",
       "    <tr>\n",
       "      <th>Canned Goods</th>\n",
       "      <td>28886</td>\n",
       "      <td>24315</td>\n",
       "      <td>53425</td>\n",
       "    </tr>\n",
       "    <tr>\n",
       "      <th>Dairy, Eggs</th>\n",
       "      <td>180969</td>\n",
       "      <td>101592</td>\n",
       "      <td>256961</td>\n",
       "    </tr>\n",
       "    <tr>\n",
       "      <th>Deli</th>\n",
       "      <td>32169</td>\n",
       "      <td>21124</td>\n",
       "      <td>51450</td>\n",
       "    </tr>\n",
       "    <tr>\n",
       "      <th>Dry Goods, Pasta</th>\n",
       "      <td>23950</td>\n",
       "      <td>19685</td>\n",
       "      <td>43066</td>\n",
       "    </tr>\n",
       "    <tr>\n",
       "      <th>Frozen</th>\n",
       "      <td>60157</td>\n",
       "      <td>50421</td>\n",
       "      <td>112523</td>\n",
       "    </tr>\n",
       "    <tr>\n",
       "      <th>Houshold</th>\n",
       "      <td>19509</td>\n",
       "      <td>17454</td>\n",
       "      <td>37111</td>\n",
       "    </tr>\n",
       "    <tr>\n",
       "      <th>International</th>\n",
       "      <td>7616</td>\n",
       "      <td>5822</td>\n",
       "      <td>13348</td>\n",
       "    </tr>\n",
       "    <tr>\n",
       "      <th>Meat, Seafood</th>\n",
       "      <td>20138</td>\n",
       "      <td>15356</td>\n",
       "      <td>35874</td>\n",
       "    </tr>\n",
       "    <tr>\n",
       "      <th>Missing</th>\n",
       "      <td>1862</td>\n",
       "      <td>1760</td>\n",
       "      <td>3296</td>\n",
       "    </tr>\n",
       "    <tr>\n",
       "      <th>Not assigned</th>\n",
       "      <td>2807</td>\n",
       "      <td>11234</td>\n",
       "      <td>9806</td>\n",
       "    </tr>\n",
       "    <tr>\n",
       "      <th>Other</th>\n",
       "      <td>1041</td>\n",
       "      <td>823</td>\n",
       "      <td>1775</td>\n",
       "    </tr>\n",
       "    <tr>\n",
       "      <th>Pantry</th>\n",
       "      <td>55511</td>\n",
       "      <td>41025</td>\n",
       "      <td>91357</td>\n",
       "    </tr>\n",
       "    <tr>\n",
       "      <th>Personal Care</th>\n",
       "      <td>12143</td>\n",
       "      <td>10270</td>\n",
       "      <td>22240</td>\n",
       "    </tr>\n",
       "    <tr>\n",
       "      <th>Pets</th>\n",
       "      <td>2591</td>\n",
       "      <td>2190</td>\n",
       "      <td>5118</td>\n",
       "    </tr>\n",
       "    <tr>\n",
       "      <th>Produce</th>\n",
       "      <td>310388</td>\n",
       "      <td>181753</td>\n",
       "      <td>456160</td>\n",
       "    </tr>\n",
       "    <tr>\n",
       "      <th>Snacks</th>\n",
       "      <td>92838</td>\n",
       "      <td>56213</td>\n",
       "      <td>139442</td>\n",
       "    </tr>\n",
       "  </tbody>\n",
       "</table>\n",
       "</div>"
      ],
      "text/plain": [
       "loyalty_flag      Loyal customer  New customer  Regular customer\n",
       "dpt_name                                                        \n",
       "Alcohol                     3765          4089              7608\n",
       "Babies                     16559          6192             19473\n",
       "Bakery                     37644         23323             56267\n",
       "Beverages                  84037         54228            130541\n",
       "Breakfast                  21771         14650             33893\n",
       "Bulk                        1356           530              1527\n",
       "Canned Goods               28886         24315             53425\n",
       "Dairy, Eggs               180969        101592            256961\n",
       "Deli                       32169         21124             51450\n",
       "Dry Goods, Pasta           23950         19685             43066\n",
       "Frozen                     60157         50421            112523\n",
       "Houshold                   19509         17454             37111\n",
       "International               7616          5822             13348\n",
       "Meat, Seafood              20138         15356             35874\n",
       "Missing                     1862          1760              3296\n",
       "Not assigned                2807         11234              9806\n",
       "Other                       1041           823              1775\n",
       "Pantry                     55511         41025             91357\n",
       "Personal Care              12143         10270             22240\n",
       "Pets                        2591          2190              5118\n",
       "Produce                   310388        181753            456160\n",
       "Snacks                     92838         56213            139442"
      ]
     },
     "execution_count": 181,
     "metadata": {},
     "output_type": "execute_result"
    }
   ],
   "source": [
    "df_dept_loyal"
   ]
  },
  {
   "cell_type": "code",
   "execution_count": 182,
   "id": "4f926cd5",
   "metadata": {},
   "outputs": [
    {
     "data": {
      "image/png": "[encoded data removed]",
      "text/plain": [
       "<Figure size 432x288 with 1 Axes>"
      ]
     },
     "metadata": {
      "needs_background": "light"
     },
     "output_type": "display_data"
    }
   ],
   "source": [
    "df_dept_loyal = df_dept_loyal.plot(kind = 'barh', stacked = True, xlabel = 'Departments', ylabel = 'Loyalty', rot = 0).legend(loc='best')"
   ]
  },
  {
   "cell_type": "markdown",
   "id": "e836ed25",
   "metadata": {},
   "source": [
    "Regular customer are th biggest group whithin the most popular departments."
   ]
  },
  {
   "cell_type": "code",
   "execution_count": 185,
   "id": "e124c9b6",
   "metadata": {},
   "outputs": [],
   "source": [
    "df_dept_loyal.figure.savefig(r'D:\\CareerFoundry\\Data Immersion\\Task 4\\Instacart Basket Analysis_2021-07-22\\04 Analysis\\Visualizations\\barh_df_dept_loyal.png')"
   ]
  },
  {
   "cell_type": "code",
   "execution_count": 184,
   "id": "5732a5a1",
   "metadata": {},
   "outputs": [
    {
     "data": {
      "image/png": "[encoded data removed]",
      "text/plain": [
       "<Figure size 432x288 with 1 Axes>"
      ]
     },
     "metadata": {
      "needs_background": "light"
     },
     "output_type": "display_data"
    }
   ],
   "source": [
    "line_ohd_prices = sns.lineplot(data = df_COP, x = 'order_hour_of_day', y = 'prices')"
   ]
  },
  {
   "cell_type": "markdown",
   "id": "69536249",
   "metadata": {},
   "source": [
    "Products with the highest prices are sold in the night hours peaking at 2 am."
   ]
  },
  {
   "cell_type": "code",
   "execution_count": 186,
   "id": "e3fa45c7",
   "metadata": {},
   "outputs": [],
   "source": [
    "line_ohd_prices.figure.savefig(r'D:\\CareerFoundry\\Data Immersion\\Task 4\\Instacart Basket Analysis_2021-07-22\\04 Analysis\\Visualizations\\line_ohd_prices.png')"
   ]
  },
  {
   "cell_type": "code",
   "execution_count": 187,
   "id": "5148123e",
   "metadata": {},
   "outputs": [
    {
     "data": {
      "image/png": "[encoded data removed]",
      "text/plain": [
       "<Figure size 432x288 with 1 Axes>"
      ]
     },
     "metadata": {
      "needs_background": "light"
     },
     "output_type": "display_data"
    }
   ],
   "source": [
    "scatter_spending_age = sns.scatterplot(x = 'age', y = 'income', data = df_COP)"
   ]
  },
  {
   "cell_type": "markdown",
   "id": "d8755f4b",
   "metadata": {},
   "source": [
    "There is no direct relationship between age and spending power of a user, but age group 20-40 has siginificantly less spending power than the users 40+."
   ]
  },
  {
   "cell_type": "code",
   "execution_count": 188,
   "id": "a1aa4230",
   "metadata": {},
   "outputs": [],
   "source": [
    "scatter_spending_age.figure.savefig(r'D:\\CareerFoundry\\Data Immersion\\Task 4\\Instacart Basket Analysis_2021-07-22\\04 Analysis\\Visualizations\\scatter_spending_age.png')"
   ]
  },
  {
   "cell_type": "code",
   "execution_count": 189,
   "id": "6d040c6a",
   "metadata": {
    "scrolled": true
   },
   "outputs": [
    {
     "data": {
      "text/plain": [
       "Index(['order_id', 'user_id', 'order_number', 'order_of_the_week',\n",
       "       'order_hour_of_day', 'days_since_prior_order', 'product_id',\n",
       "       'add_to_cart_order', 'reordered', 'product_name', 'aisle_id',\n",
       "       'department_id', 'prices', 'first_name', 'last_name', 'gender', 'state',\n",
       "       'age', 'date_joined', 'n_dependants', 'fam_status', 'income', 'region',\n",
       "       'spending_avg', 'spending_flag', 'max_order', 'order_activity',\n",
       "       'income_level', 'parent_age', 'fam_size', 'babies', 'meat_seafood',\n",
       "       'alcohol', 'dpt_name', 'busiest_day', 'busiest_days', 'ordering_period',\n",
       "       'price_range', 'loyalty_flag'],\n",
       "      dtype='object')"
      ]
     },
     "execution_count": 189,
     "metadata": {},
     "output_type": "execute_result"
    }
   ],
   "source": [
    "df_COP.columns"
   ]
  },
  {
   "cell_type": "code",
   "execution_count": 190,
   "id": "f31154f5",
   "metadata": {},
   "outputs": [],
   "source": [
    "df_COP.to_pickle(r'D:\\CareerFoundry\\Data Immersion\\Task 4\\Instacart Basket Analysis_2021-07-22\\02 Data\\Prepared Data\\df_CPO_TASK_4_10_FINAL.pkl')"
   ]
  },
  {
   "cell_type": "code",
   "execution_count": null,
   "id": "37294eb0",
   "metadata": {},
   "outputs": [],
   "source": []
  }
 ],
 "metadata": {
  "kernelspec": {
   "display_name": "Python 3",
   "language": "python",
   "name": "python3"
  },
  "language_info": {
   "codemirror_mode": {
    "name": "ipython",
    "version": 3
   },
   "file_extension": ".py",
   "mimetype": "text/x-python",
   "name": "python",
   "nbconvert_exporter": "python",
   "pygments_lexer": "ipython3",
   "version": "3.8.8"
  }
 },
 "nbformat": 4,
 "nbformat_minor": 5
}
